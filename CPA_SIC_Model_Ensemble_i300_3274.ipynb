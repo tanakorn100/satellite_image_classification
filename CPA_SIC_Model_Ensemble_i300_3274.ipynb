{
 "cells": [
  {
   "cell_type": "code",
   "execution_count": 1,
   "metadata": {
    "collapsed": false
   },
   "outputs": [],
   "source": [
    "%matplotlib inline\n",
    "import matplotlib.pyplot as plt\n",
    "import tensorflow as tf\n",
    "import numpy as np\n",
    "import pandas as pd\n",
    "from sklearn.metrics import confusion_matrix\n",
    "from sklearn import metrics\n",
    "from sklearn.utils import shuffle\n",
    "from datetime import timedelta\n",
    "import time\n",
    "import math\n",
    "import sys\n",
    "import cv2\n",
    "import os\n",
    "import random\n",
    "import glob"
   ]
  },
  {
   "cell_type": "code",
   "execution_count": 2,
   "metadata": {
    "collapsed": false
   },
   "outputs": [
    {
     "data": {
      "text/plain": [
       "'1.2.1'"
      ]
     },
     "execution_count": 2,
     "metadata": {},
     "output_type": "execute_result"
    }
   ],
   "source": [
    "tf.__version__"
   ]
  },
  {
   "cell_type": "code",
   "execution_count": 3,
   "metadata": {
    "collapsed": false
   },
   "outputs": [
    {
     "data": {
      "text/plain": [
       "'3.6.0 |Anaconda 4.3.0 (64-bit)| (default, Dec 23 2016, 11:57:41) [MSC v.1900 64 bit (AMD64)]'"
      ]
     },
     "execution_count": 3,
     "metadata": {},
     "output_type": "execute_result"
    }
   ],
   "source": [
    "sys.version"
   ]
  },
  {
   "cell_type": "code",
   "execution_count": 4,
   "metadata": {
    "collapsed": true
   },
   "outputs": [],
   "source": [
    "# Convolutional Layer 1.\n",
    "filter_size1 = 5          # Convolution filters are 5 x 5 pixels.\n",
    "num_filters1 = 32         # There are 32 of these filters.\n",
    "\n",
    "# Convolutional Layer 2.\n",
    "filter_size2 = 3          # Convolution filters are 3 x 3 pixels.\n",
    "num_filters2 = 16         # There are 16 of these filters.\n",
    "\n",
    "# Convolutional Layer 3.\n",
    "filter_size3 = 3          # Convolution filters are 3 x 3 pixels.\n",
    "num_filters3 = 16         # There are 16 of these filters.\n",
    "\n",
    "# Fully-connected layer.\n",
    "fc_size_1 = 512             # Number of neurons in fully-connected layer.\n",
    "\n",
    "fc_size_2 = 128             # Number of neurons in fully-connected layer."
   ]
  },
  {
   "cell_type": "code",
   "execution_count": 5,
   "metadata": {
    "collapsed": true
   },
   "outputs": [],
   "source": [
    "# Number of colour channels for the images: 4 channel for RGB and Transparent .\n",
    "num_channels = 4\n",
    "\n",
    "# We know that Satellite images are 640 pixels in each dimension.\n",
    "img_size = 640\n",
    "\n",
    "# Images are stored in one-dimensional arrays of this length.\n",
    "img_size_flat = img_size * img_size * num_channels\n",
    "\n",
    "# Tuple with height and width of images used to reshape arrays.\n",
    "img_shape = (img_size, img_size)\n",
    "img_shape_wChnls = (img_size, img_size, num_channels)\n",
    "\n",
    "# class info\n",
    "classes = ['vegetation', 'notVegetation']\n",
    "# Number of classes, one class for each of 2 digits like Green and NotGreen.\n",
    "num_classes = len(classes)\n",
    "\n",
    "dropout_rate = 0.25"
   ]
  },
  {
   "cell_type": "code",
   "execution_count": 6,
   "metadata": {
    "collapsed": false
   },
   "outputs": [
    {
     "data": {
      "text/plain": [
       "2"
      ]
     },
     "execution_count": 6,
     "metadata": {},
     "output_type": "execute_result"
    }
   ],
   "source": [
    "num_classes"
   ]
  },
  {
   "cell_type": "markdown",
   "metadata": {},
   "source": [
    "# Pre-processing Data"
   ]
  },
  {
   "cell_type": "markdown",
   "metadata": {},
   "source": [
    "## Convert Images to Array and group by dataset"
   ]
  },
  {
   "cell_type": "markdown",
   "metadata": {},
   "source": [
    "identify feature of images , labels etc.  "
   ]
  },
  {
   "cell_type": "code",
   "execution_count": 7,
   "metadata": {
    "collapsed": true
   },
   "outputs": [],
   "source": [
    "class DataSet(object):\n",
    "\n",
    "    def __init__(self, images, labels, ids, cls):\n",
    "        \"\"\"Construct a DataSet. one_hot arg is used only if fake_data is true.\"\"\"\n",
    "\n",
    "        self._num_examples = images.shape[0]\n",
    "\n",
    "\n",
    "        # Convert shape from [num examples, rows, columns, depth]\n",
    "        # to [num examples, rows*columns] (assuming depth == 1)\n",
    "        # Convert from [0, 255] -> [0.0, 1.0].\n",
    "\n",
    "        images = images.astype(np.float32)\n",
    "        images = np.multiply(images, 1.0 / 255.0)\n",
    "\n",
    "        self._images = images\n",
    "        self._labels = labels\n",
    "        self._ids = ids\n",
    "        self._cls = cls\n",
    "        self._epochs_completed = 0\n",
    "        self._index_in_epoch = 0\n",
    "\n",
    "    @property\n",
    "    def images(self):\n",
    "        return self._images\n",
    "\n",
    "    @property\n",
    "    def labels(self):\n",
    "        return self._labels\n",
    "\n",
    "    @property\n",
    "    def ids(self):\n",
    "        return self._ids\n",
    "\n",
    "    @property\n",
    "    def cls(self):\n",
    "        return self._cls\n",
    "\n",
    "    @property\n",
    "    def num_examples(self):\n",
    "        return self._num_examples\n",
    "\n",
    "    @property\n",
    "    def epochs_completed(self):\n",
    "        return self._epochs_completed\n",
    "\n",
    "    def next_batch(self, batch_size):\n",
    "        start = self._index_in_epoch\n",
    "        self._index_in_epoch += batch_size\n",
    "\n",
    "        if self._index_in_epoch > self._num_examples:\n",
    "\n",
    "            self._epochs_completed += 1\n",
    "\n",
    "            start = 0\n",
    "            self._index_in_epoch = batch_size\n",
    "            assert batch_size <= self._num_examples\n",
    "        end = self._index_in_epoch\n",
    "\n",
    "        return self._images[start:end], self._labels[start:end], self._ids[start:end], self._cls[start:end]"
   ]
  },
  {
   "cell_type": "markdown",
   "metadata": {},
   "source": [
    "load images from path directory"
   ]
  },
  {
   "cell_type": "code",
   "execution_count": 8,
   "metadata": {
    "collapsed": true
   },
   "outputs": [],
   "source": [
    "def load_and_split_data(train_path, image_size, classes):\n",
    "    images = []\n",
    "    labels = []\n",
    "    ids = []\n",
    "    cls = []\n",
    "\n",
    "    print('Reading training images')\n",
    "    for fld in classes:   # assuming data directory has a separate folder for each class, and that each folder is named after the class\n",
    "        index = classes.index(fld)\n",
    "        print('Loading {} files (Index: {})'.format(fld, index))\n",
    "        path = os.path.join(train_path, fld, '*g')\n",
    "        files = glob.glob(path)\n",
    "        for fl in files:\n",
    "            #image = cv2.imread(fl)                         # 3-channal\n",
    "            image = cv2.imread(fl, cv2.IMREAD_UNCHANGED)    # 4-channal\n",
    "            image = cv2.resize(image, (image_size, image_size), cv2.INTER_LINEAR)\n",
    "            image = image.reshape(img_size_flat)\n",
    "            images.append(image)\n",
    "            label = np.zeros(len(classes))\n",
    "            label[index] = 1.0\n",
    "            labels.append(label)\n",
    "            flbase = os.path.basename(fl)\n",
    "            ids.append(flbase)\n",
    "            cls.append(fld)\n",
    "    images = np.array(images)\n",
    "    labels = np.array(labels)\n",
    "    ids = np.array(ids)\n",
    "    cls = np.array(cls)\n",
    "\n",
    "    return images, labels, ids, cls"
   ]
  },
  {
   "cell_type": "markdown",
   "metadata": {},
   "source": [
    "read image and split to train , validate and test set "
   ]
  },
  {
   "cell_type": "code",
   "execution_count": 9,
   "metadata": {
    "collapsed": true
   },
   "outputs": [],
   "source": [
    "def read_train_sets(train_path, image_size, classes, validation_size=0):\n",
    "    class DataSets(object):\n",
    "        pass\n",
    "    data_sets = DataSets()\n",
    "\n",
    "    images, labels, ids, cls = load_and_split_data(train_path, image_size, classes)\n",
    "    \n",
    "    index_vegetation, = np.where(cls == classes[0] )\n",
    "    index_notvegetation, = np.where(cls == classes[1] )\n",
    "    \n",
    "    if isinstance(validation_size, float):\n",
    "        validation_size = int(validation_size * images.shape[0])\n",
    "        \n",
    "    balance_size = int( (len(images) - validation_size) / num_classes )\n",
    "    index_random_vegetation = random.sample(list(index_vegetation), balance_size)\n",
    "    index_random_notVegetation = random.sample(list(index_notvegetation), balance_size)\n",
    "    index_random_balance = index_random_vegetation + index_random_notVegetation\n",
    "    \n",
    "    train_images = images[index_random_balance]\n",
    "    train_labels  = labels[index_random_balance]\n",
    "    train_ids  = ids[index_random_balance]\n",
    "    train_cls  = cls[index_random_balance]\n",
    "    \n",
    "    validation_cls = np.delete(cls, index_random_balance)\n",
    "    validation_ids = np.delete(ids, index_random_balance)\n",
    "    validation_labels = np.delete(labels, index_random_balance, axis=0)\n",
    "    validation_images = np.delete(images, index_random_balance, axis=0)   \n",
    "    \n",
    "    train_images, train_labels, train_ids, train_cls = shuffle(train_images, \n",
    "                                                               train_labels, \n",
    "                                                               train_ids, \n",
    "                                                               train_cls)  # shuffle the data\n",
    "    validation_images, validation_labels, validation_ids, validation_cls = shuffle(validation_images, \n",
    "                                                                                   validation_labels, \n",
    "                                                                                   validation_ids, \n",
    "                                                                                   validation_cls)  # shuffle the data\n",
    "\n",
    "    data_sets.train = DataSet(train_images, train_labels, train_ids, train_cls)\n",
    "    data_sets.valid = DataSet(validation_images, validation_labels, validation_ids, validation_cls)\n",
    "\n",
    "    return data_sets\n",
    "\n",
    "def read_test_set(test_path, image_size, classes):\n",
    "    class DataSets(object):\n",
    "        pass\n",
    "    datatest = DataSets()\n",
    "    \n",
    "    test_images, test_labels , test_ids , test_cls  = load_and_split_data(test_path, image_size, classes)\n",
    "    \n",
    "    datatest = DataSet(test_images, test_labels, test_ids, test_cls)\n",
    "    \n",
    "    return datatest"
   ]
  },
  {
   "cell_type": "markdown",
   "metadata": {},
   "source": [
    "## Load Image and convert to Array"
   ]
  },
  {
   "cell_type": "code",
   "execution_count": 10,
   "metadata": {
    "collapsed": true
   },
   "outputs": [],
   "source": [
    "# validation split\n",
    "validation_size = .30\n",
    "\n",
    "# how long to wait after validation loss stops improving before terminating training\n",
    "early_stopping = None  # use None if you don't want to implement early stoping\n",
    "\n",
    "train_path = 'D:\\FaamruProject_kor\\Dataset\\FaamruDS\\_training'\n",
    "test_path = 'D:\\FaamruProject_kor\\Dataset\\FaamruDS\\_testing'"
   ]
  },
  {
   "cell_type": "code",
   "execution_count": 11,
   "metadata": {
    "collapsed": false
   },
   "outputs": [
    {
     "name": "stdout",
     "output_type": "stream",
     "text": [
      "Reading training images\n",
      "Loading vegetation files (Index: 0)\n",
      "Loading notVegetation files (Index: 1)\n"
     ]
    }
   ],
   "source": [
    "data = read_train_sets(train_path, img_size, classes, validation_size=validation_size)"
   ]
  },
  {
   "cell_type": "code",
   "execution_count": 12,
   "metadata": {
    "collapsed": false
   },
   "outputs": [
    {
     "name": "stdout",
     "output_type": "stream",
     "text": [
      "Reading training images\n",
      "Loading vegetation files (Index: 0)\n",
      "Loading notVegetation files (Index: 1)\n"
     ]
    }
   ],
   "source": [
    "datatest = read_test_set(test_path, img_size, classes)"
   ]
  },
  {
   "cell_type": "code",
   "execution_count": 13,
   "metadata": {
    "collapsed": false
   },
   "outputs": [
    {
     "name": "stdout",
     "output_type": "stream",
     "text": [
      "Size of Dataset :\n",
      "- Training-set\t\t: 1834\n",
      "- Validation-set\t: 785\n",
      "- Test-set(Unseen Data)\t: 655\n"
     ]
    }
   ],
   "source": [
    "print(\"Size of Dataset :\")\n",
    "print(\"- Training-set\\t\\t: {}\".format(len(data.train.labels)))\n",
    "print(\"- Validation-set\\t: {}\".format(len(data.valid.labels)))\n",
    "print(\"- Test-set(Unseen Data)\\t: {}\".format(len(datatest.images)))"
   ]
  },
  {
   "cell_type": "code",
   "execution_count": 14,
   "metadata": {
    "collapsed": false
   },
   "outputs": [
    {
     "data": {
      "text/plain": [
       "(1834, 1638400)"
      ]
     },
     "execution_count": 14,
     "metadata": {},
     "output_type": "execute_result"
    }
   ],
   "source": [
    "data.train.images.shape"
   ]
  },
  {
   "cell_type": "code",
   "execution_count": 15,
   "metadata": {
    "collapsed": false
   },
   "outputs": [
    {
     "data": {
      "text/plain": [
       "1638400"
      ]
     },
     "execution_count": 15,
     "metadata": {},
     "output_type": "execute_result"
    }
   ],
   "source": [
    "len(data.train.images[5])"
   ]
  },
  {
   "cell_type": "code",
   "execution_count": 16,
   "metadata": {
    "collapsed": false
   },
   "outputs": [
    {
     "data": {
      "text/plain": [
       "1638400"
      ]
     },
     "execution_count": 16,
     "metadata": {},
     "output_type": "execute_result"
    }
   ],
   "source": [
    "len(datatest.images[5])"
   ]
  },
  {
   "cell_type": "code",
   "execution_count": 17,
   "metadata": {
    "collapsed": false
   },
   "outputs": [
    {
     "name": "stdout",
     "output_type": "stream",
     "text": [
      "images[1]\t\t:  [ 1.  1.  1. ...,  1.  1.  0.]\n",
      "type of images[1]\t:  <class 'numpy.ndarray'>\n",
      "shape of images[1]\t:  (1834, 1638400)\n",
      "len of images[1]\t:  1638400\n"
     ]
    }
   ],
   "source": [
    "images = data.train.images\n",
    "print('images[1]\\t\\t: ',images[1])\n",
    "print('type of images[1]\\t: ',type(images[1]))\n",
    "print('shape of images[1]\\t: ',images.shape)\n",
    "print('len of images[1]\\t: ',len(images[1]))"
   ]
  },
  {
   "cell_type": "code",
   "execution_count": 18,
   "metadata": {
    "collapsed": false
   },
   "outputs": [
    {
     "data": {
      "text/plain": [
       "array(['vegetation', 'notVegetation', 'vegetation', ..., 'vegetation',\n",
       "       'vegetation', 'notVegetation'], \n",
       "      dtype='<U13')"
      ]
     },
     "execution_count": 18,
     "metadata": {},
     "output_type": "execute_result"
    }
   ],
   "source": [
    "data.train.cls"
   ]
  },
  {
   "cell_type": "code",
   "execution_count": 19,
   "metadata": {
    "collapsed": true
   },
   "outputs": [],
   "source": [
    "vegetationT = sum(i == 'vegetation' for i in data.train.cls)\n",
    "NotvegetationT = sum(i == 'notVegetation' for i in data.train.cls)\n",
    "vegetationV = sum(i == 'vegetation' for i in data.valid.cls)\n",
    "NotvegetationV = sum(i == 'notVegetation' for i in data.valid.cls)"
   ]
  },
  {
   "cell_type": "code",
   "execution_count": 20,
   "metadata": {
    "collapsed": false
   },
   "outputs": [
    {
     "name": "stdout",
     "output_type": "stream",
     "text": [
      "train -> vegetation :  917\n",
      "train -> notVegetation :  917\n",
      "validate -> vegetation :  255\n",
      "validate -> notVegetation :  530\n"
     ]
    }
   ],
   "source": [
    "print('train -> vegetation : ',vegetationT)\n",
    "print('train -> notVegetation : ',NotvegetationT)\n",
    "print('validate -> vegetation : ',vegetationV)\n",
    "print('validate -> notVegetation : ',NotvegetationV)"
   ]
  },
  {
   "cell_type": "markdown",
   "metadata": {},
   "source": [
    "# Plotting Images"
   ]
  },
  {
   "cell_type": "code",
   "execution_count": 21,
   "metadata": {
    "collapsed": true
   },
   "outputs": [],
   "source": [
    "def index_random(data ,size):\n",
    "    data_range = range(len(data))\n",
    "    \n",
    "    return random.sample(data_range, size)"
   ]
  },
  {
   "cell_type": "code",
   "execution_count": 22,
   "metadata": {
    "collapsed": true
   },
   "outputs": [],
   "source": [
    "### Plotting image by array data\n",
    "def plot_img_new(images, cls_true , ids , cls_pred=None):  \n",
    "    \n",
    "    #features = data_arr[0]            # images\n",
    "    #lables = data_arr[1]              # cls_true\n",
    "    #images_filename = data_arr[2]     # ids \n",
    "    \n",
    "    \n",
    "    \n",
    "    if len(images) <16 :\n",
    "        indexs_random = range(len(images))\n",
    "    else :\n",
    "        indexs_random = index_random(images, 16)\n",
    "        assert len(indexs_random) == 16\n",
    "        \n",
    "    fig, axes = plt.subplots(4, 4 ,figsize=(12,12))\n",
    "    fig.subplots_adjust(hspace=0.3, wspace=0.1)\n",
    "    \n",
    "    for i, ax in enumerate(axes.flat):\n",
    "                \n",
    "        # Read PNG Image from Directory \n",
    "        feature_img = images[ indexs_random[i] ]\n",
    "        \n",
    "        # Plot image.\n",
    "        ax.imshow(cv2.cvtColor(feature_img.reshape(img_shape_wChnls), cv2.COLOR_BGR2RGB), interpolation = 'bicubic' )\n",
    "        \n",
    "        # Remove ticks from the plot.\n",
    "        ax.set_xticks([])\n",
    "        ax.set_yticks([])  # to hide tick values on X and Y axis\n",
    "        \n",
    "        # Show the Title of images.\n",
    "        ax.set_title('Pic : {0}'.format( ids[indexs_random[i]] ))\n",
    "        \n",
    "        #Show True and Predicted classes\n",
    "        if cls_pred is None:\n",
    "            xlabel = 'True : {0}'.format( cls_true[indexs_random[i]] )\n",
    "        else:\n",
    "            xlabel = 'True : {0}, \\nPred : {1}'.format( cls_true[indexs_random[i]] , cls_pred[i])\n",
    "        \n",
    "        ax.set_xlabel(xlabel)\n",
    "        \n",
    "        \n",
    "        \n",
    "    plt.show()"
   ]
  },
  {
   "cell_type": "code",
   "execution_count": 23,
   "metadata": {
    "collapsed": false
   },
   "outputs": [
    {
     "name": "stdout",
     "output_type": "stream",
     "text": [
      "\n",
      "\t\t*** Training Data : Sampling 16 images of 1834 images *** \n"
     ]
    },
    {
     "data": {
      "image/png": "[encoded data removed]",
      "text/plain": [
       "<matplotlib.figure.Figure at 0xa4e21ed1d0>"
      ]
     },
     "metadata": {},
     "output_type": "display_data"
    }
   ],
   "source": [
    "print('')\n",
    "print('\\t\\t*** Training Data : Sampling 16 images of {} images *** '.format(len(data.train.images)))\n",
    "\n",
    "# Get the first images from the trainning-set.\n",
    "images_train = data.train.images\n",
    "\n",
    "# Get the true classes for those images.\n",
    "cls_true_train = data.train.cls\n",
    "\n",
    "# Get the file names for those images.\n",
    "ids_filename_train = data.train.ids\n",
    "\n",
    "# Plot the images and labels using our helper-function above.\n",
    "plot_img_new(images=images_train, cls_true=cls_true_train , ids=ids_filename_train)"
   ]
  },
  {
   "cell_type": "code",
   "execution_count": 24,
   "metadata": {
    "collapsed": false
   },
   "outputs": [
    {
     "name": "stdout",
     "output_type": "stream",
     "text": [
      "\n",
      "\t\t*** Validation Data : Sampling 16 images of 785 images *** \n"
     ]
    },
    {
     "data": {
      "image/png": "[encoded data removed]",
      "text/plain": [
       "<matplotlib.figure.Figure at 0xa48380fd30>"
      ]
     },
     "metadata": {},
     "output_type": "display_data"
    }
   ],
   "source": [
    "print('')\n",
    "print('\\t\\t*** Validation Data : Sampling 16 images of {} images *** '.format(len(data.valid.images)))\n",
    "\n",
    "# Get the first images from the validate-set.\n",
    "images_validate = data.valid.images\n",
    "\n",
    "# Get the true classes for those images.\n",
    "cls_true_validate = data.valid.cls\n",
    "\n",
    "# Get the file names for those images.\n",
    "ids_filename_validate = data.valid.ids\n",
    "\n",
    "plot_img_new(images=images_validate, cls_true=cls_true_validate , ids=ids_filename_validate)"
   ]
  },
  {
   "cell_type": "markdown",
   "metadata": {},
   "source": [
    "# TensorFlow Graph"
   ]
  },
  {
   "cell_type": "markdown",
   "metadata": {},
   "source": [
    "create component in model by my designing"
   ]
  },
  {
   "cell_type": "markdown",
   "metadata": {},
   "source": [
    "# Creating New Variables"
   ]
  },
  {
   "cell_type": "code",
   "execution_count": 25,
   "metadata": {
    "collapsed": true
   },
   "outputs": [],
   "source": [
    "def new_weights(shape):\n",
    "    return tf.Variable(tf.truncated_normal(shape, stddev=0.05))"
   ]
  },
  {
   "cell_type": "code",
   "execution_count": 26,
   "metadata": {
    "collapsed": true
   },
   "outputs": [],
   "source": [
    "def new_biases(length):\n",
    "    return tf.Variable(tf.constant(0.05, shape=[length]))"
   ]
  },
  {
   "cell_type": "markdown",
   "metadata": {},
   "source": [
    "# Creating a Convolutional Layer"
   ]
  },
  {
   "cell_type": "code",
   "execution_count": 27,
   "metadata": {
    "collapsed": true
   },
   "outputs": [],
   "source": [
    "def conv_layer(input,         # The previous layer.\n",
    "                   num_input_channels, # Num. channels in prev. layer.\n",
    "                   filter_size,        # Width and height of each filter.\n",
    "                   num_filters,        # Number of filters.\n",
    "                   use_pooling=True):  # Use 2x2 max-pooling.\n",
    "\n",
    "    # Shape of the filter-weights for the convolution.\n",
    "    shape = [filter_size, filter_size, num_input_channels, num_filters]\n",
    "\n",
    "    # Create new weights aka. filters with the given shape.\n",
    "    weights = new_weights(shape=shape)\n",
    "\n",
    "    # Create new biases, one for each filter.\n",
    "    biases = new_biases(length=num_filters)\n",
    "\n",
    "    # Create the TensorFlow operation for convolution.\n",
    "    layer = tf.nn.conv2d(input=input,\n",
    "                         filter=weights,\n",
    "                         strides=[1, 1, 1, 1],\n",
    "                         padding='SAME')\n",
    "\n",
    "    # Add the biases to the results of the convolution.\n",
    "    layer += biases\n",
    "\n",
    "    # Use pooling to down-sample the image resolution?\n",
    "    if use_pooling:\n",
    "        layer = tf.nn.max_pool(value=layer,\n",
    "                               ksize=[1, 2, 2, 1],\n",
    "                               strides=[1, 2, 2, 1],\n",
    "                               padding='SAME')\n",
    "\n",
    "    # Rectified Linear Unit (ReLU).\n",
    "    layer = tf.nn.relu(layer)\n",
    "\n",
    "    return layer, weights"
   ]
  },
  {
   "cell_type": "markdown",
   "metadata": {},
   "source": [
    "# Creating a Full-Connected Layer"
   ]
  },
  {
   "cell_type": "code",
   "execution_count": 28,
   "metadata": {
    "collapsed": true
   },
   "outputs": [],
   "source": [
    "def flatten_layer(layer):\n",
    "    # Get the shape of the input layer.\n",
    "    layer_shape = layer.get_shape()\n",
    "\n",
    "    num_features = layer_shape[1:4].num_elements()\n",
    "    \n",
    "    layer_flat = tf.reshape(layer, [-1, num_features])\n",
    "\n",
    "    return layer_flat, num_features"
   ]
  },
  {
   "cell_type": "code",
   "execution_count": 29,
   "metadata": {
    "collapsed": true
   },
   "outputs": [],
   "source": [
    "def dropout_layer(input,dropout_rate,traning_mode):\n",
    "    features = input\n",
    "    dropout_layer = tf.layers.dropout(features,rate=dropout_rate,training=traning_mode)\n",
    "    \n",
    "    return dropout_layer"
   ]
  },
  {
   "cell_type": "code",
   "execution_count": 30,
   "metadata": {
    "collapsed": true
   },
   "outputs": [],
   "source": [
    "def fc_layer(input,          # The previous layer.\n",
    "                 num_inputs,     # Num. inputs from prev. layer.\n",
    "                 num_outputs,    # Num. outputs.\n",
    "                 use_relu=True): # Use Rectified Linear Unit (ReLU)?\n",
    "\n",
    "    # Create new weights and biases.\n",
    "    weights = new_weights(shape=[num_inputs, num_outputs])\n",
    "    biases = new_biases(length=num_outputs)\n",
    "\n",
    "    # Calculate the layer as the matrix multiplication of\n",
    "    layer = tf.matmul(input, weights) + biases\n",
    "\n",
    "    # Use ReLU?\n",
    "    if use_relu:\n",
    "        layer = tf.nn.relu(layer)\n",
    "\n",
    "    return layer"
   ]
  },
  {
   "cell_type": "markdown",
   "metadata": {},
   "source": [
    "### Placeholder variables"
   ]
  },
  {
   "cell_type": "code",
   "execution_count": 31,
   "metadata": {
    "collapsed": true
   },
   "outputs": [],
   "source": [
    "x = tf.placeholder(tf.float32, shape=[None, img_size_flat], name='x') #img_size_flat 640 x 640 "
   ]
  },
  {
   "cell_type": "code",
   "execution_count": 32,
   "metadata": {
    "collapsed": true
   },
   "outputs": [],
   "source": [
    "x_image = tf.reshape(x, [-1, img_size, img_size, num_channels])"
   ]
  },
  {
   "cell_type": "code",
   "execution_count": 33,
   "metadata": {
    "collapsed": true
   },
   "outputs": [],
   "source": [
    "y_true = tf.placeholder(tf.float32, shape=[None, num_classes], name='y_true')"
   ]
  },
  {
   "cell_type": "code",
   "execution_count": 34,
   "metadata": {
    "collapsed": true
   },
   "outputs": [],
   "source": [
    "y_true_cls = tf.argmax(y_true, axis=1)"
   ]
  },
  {
   "cell_type": "markdown",
   "metadata": {
    "collapsed": true
   },
   "source": [
    "### Convolutional Layer 1"
   ]
  },
  {
   "cell_type": "code",
   "execution_count": 35,
   "metadata": {
    "collapsed": true
   },
   "outputs": [],
   "source": [
    "layer_conv1, weights_conv1 = conv_layer(input=x_image,  #image_dataset\n",
    "                   num_input_channels=num_channels,     #number_channal=4\n",
    "                   filter_size=filter_size1,            #filter_size = 5 x 5\n",
    "                   num_filters=num_filters1,            #number_filter = 32\n",
    "                   use_pooling=True)                    #max_pooling = 2x2 , stride = 2 step "
   ]
  },
  {
   "cell_type": "code",
   "execution_count": 36,
   "metadata": {
    "collapsed": false
   },
   "outputs": [
    {
     "data": {
      "text/plain": [
       "<tf.Tensor 'Relu:0' shape=(?, 320, 320, 32) dtype=float32>"
      ]
     },
     "execution_count": 36,
     "metadata": {},
     "output_type": "execute_result"
    }
   ],
   "source": [
    "layer_conv1"
   ]
  },
  {
   "cell_type": "markdown",
   "metadata": {},
   "source": [
    "### Convolutional Layer 2"
   ]
  },
  {
   "cell_type": "code",
   "execution_count": 37,
   "metadata": {
    "collapsed": true
   },
   "outputs": [],
   "source": [
    "layer_conv2, weights_conv2 = conv_layer(input=layer_conv1,  #image_dataset\n",
    "                   num_input_channels=num_filters1,         #number_channal is num_filter 0f conv. layer 1 = 32 \n",
    "                   filter_size=filter_size2,                #filter_size = 3 x 3\n",
    "                   num_filters=num_filters2,                #number_filter = 16\n",
    "                   use_pooling=True)                        #max_pooling = 2x2 , stride = 2 step "
   ]
  },
  {
   "cell_type": "code",
   "execution_count": 38,
   "metadata": {
    "collapsed": false,
    "scrolled": false
   },
   "outputs": [
    {
     "data": {
      "text/plain": [
       "<tf.Tensor 'Relu_1:0' shape=(?, 160, 160, 16) dtype=float32>"
      ]
     },
     "execution_count": 38,
     "metadata": {},
     "output_type": "execute_result"
    }
   ],
   "source": [
    "layer_conv2"
   ]
  },
  {
   "cell_type": "markdown",
   "metadata": {},
   "source": [
    "### Convolutional Layer 3"
   ]
  },
  {
   "cell_type": "code",
   "execution_count": 39,
   "metadata": {
    "collapsed": true
   },
   "outputs": [],
   "source": [
    "layer_conv3, weights_conv3 = conv_layer(input=layer_conv2,  #image_dataset\n",
    "                   num_input_channels=num_filters2,         #number_channal is num_filter 0f conv. layer 1 = 32 \n",
    "                   filter_size=filter_size3,                #filter_size = 3 x 3\n",
    "                   num_filters=num_filters3,                #number_filter = 16\n",
    "                   use_pooling=True)                        #max_pooling = 2x2 , stride = 2 step "
   ]
  },
  {
   "cell_type": "code",
   "execution_count": 40,
   "metadata": {
    "collapsed": false,
    "scrolled": false
   },
   "outputs": [
    {
     "data": {
      "text/plain": [
       "<tf.Tensor 'Relu_2:0' shape=(?, 80, 80, 16) dtype=float32>"
      ]
     },
     "execution_count": 40,
     "metadata": {},
     "output_type": "execute_result"
    }
   ],
   "source": [
    "layer_conv3"
   ]
  },
  {
   "cell_type": "markdown",
   "metadata": {},
   "source": [
    "### Flatten Layer 1"
   ]
  },
  {
   "cell_type": "code",
   "execution_count": 41,
   "metadata": {
    "collapsed": true
   },
   "outputs": [],
   "source": [
    "layer_flat, num_features = flatten_layer(layer_conv3)"
   ]
  },
  {
   "cell_type": "code",
   "execution_count": 42,
   "metadata": {
    "collapsed": false
   },
   "outputs": [
    {
     "data": {
      "text/plain": [
       "<tf.Tensor 'Reshape_1:0' shape=(?, 102400) dtype=float32>"
      ]
     },
     "execution_count": 42,
     "metadata": {},
     "output_type": "execute_result"
    }
   ],
   "source": [
    "layer_flat"
   ]
  },
  {
   "cell_type": "code",
   "execution_count": 43,
   "metadata": {
    "collapsed": false
   },
   "outputs": [
    {
     "data": {
      "text/plain": [
       "102400"
      ]
     },
     "execution_count": 43,
     "metadata": {},
     "output_type": "execute_result"
    }
   ],
   "source": [
    "num_features"
   ]
  },
  {
   "cell_type": "markdown",
   "metadata": {},
   "source": [
    "### Full-Connected Layer 1"
   ]
  },
  {
   "cell_type": "code",
   "execution_count": 44,
   "metadata": {
    "collapsed": true
   },
   "outputs": [],
   "source": [
    "layer_fc1 = fc_layer(input=layer_flat,\n",
    "                         num_inputs=num_features,\n",
    "                         num_outputs=fc_size_1,          #fc_size =  512\n",
    "                         use_relu=True)"
   ]
  },
  {
   "cell_type": "code",
   "execution_count": 45,
   "metadata": {
    "collapsed": false,
    "scrolled": true
   },
   "outputs": [
    {
     "data": {
      "text/plain": [
       "<tf.Tensor 'Relu_3:0' shape=(?, 512) dtype=float32>"
      ]
     },
     "execution_count": 45,
     "metadata": {},
     "output_type": "execute_result"
    }
   ],
   "source": [
    "layer_fc1"
   ]
  },
  {
   "cell_type": "markdown",
   "metadata": {},
   "source": [
    "### Dropout Layer 1"
   ]
  },
  {
   "cell_type": "code",
   "execution_count": 46,
   "metadata": {
    "collapsed": true
   },
   "outputs": [],
   "source": [
    "layer_dropout1 = dropout_layer(input=layer_fc1,\n",
    "                         dropout_rate=dropout_rate,\n",
    "                         traning_mode=True)"
   ]
  },
  {
   "cell_type": "code",
   "execution_count": 47,
   "metadata": {
    "collapsed": false,
    "scrolled": true
   },
   "outputs": [
    {
     "data": {
      "text/plain": [
       "<tf.Tensor 'dropout/dropout/mul:0' shape=(?, 512) dtype=float32>"
      ]
     },
     "execution_count": 47,
     "metadata": {},
     "output_type": "execute_result"
    }
   ],
   "source": [
    "layer_dropout1"
   ]
  },
  {
   "cell_type": "markdown",
   "metadata": {},
   "source": [
    "### Full-Connected Layer 2"
   ]
  },
  {
   "cell_type": "code",
   "execution_count": 48,
   "metadata": {
    "collapsed": true
   },
   "outputs": [],
   "source": [
    "layer_fc2 = fc_layer(input=layer_dropout1,\n",
    "                         num_inputs=fc_size_1,\n",
    "                         num_outputs=fc_size_2,          #fc_size = 128 \n",
    "                         use_relu=True)"
   ]
  },
  {
   "cell_type": "code",
   "execution_count": 49,
   "metadata": {
    "collapsed": false,
    "scrolled": false
   },
   "outputs": [
    {
     "data": {
      "text/plain": [
       "<tf.Tensor 'Relu_4:0' shape=(?, 128) dtype=float32>"
      ]
     },
     "execution_count": 49,
     "metadata": {},
     "output_type": "execute_result"
    }
   ],
   "source": [
    "layer_fc2"
   ]
  },
  {
   "cell_type": "markdown",
   "metadata": {},
   "source": [
    "### Dropout Layer 2"
   ]
  },
  {
   "cell_type": "code",
   "execution_count": 50,
   "metadata": {
    "collapsed": true
   },
   "outputs": [],
   "source": [
    "layer_dropout2 = dropout_layer(input=layer_fc2,\n",
    "                         dropout_rate=dropout_rate,\n",
    "                         traning_mode=True)"
   ]
  },
  {
   "cell_type": "code",
   "execution_count": 51,
   "metadata": {
    "collapsed": false,
    "scrolled": true
   },
   "outputs": [
    {
     "data": {
      "text/plain": [
       "<tf.Tensor 'dropout_2/dropout/mul:0' shape=(?, 128) dtype=float32>"
      ]
     },
     "execution_count": 51,
     "metadata": {},
     "output_type": "execute_result"
    }
   ],
   "source": [
    "layer_dropout2"
   ]
  },
  {
   "cell_type": "markdown",
   "metadata": {},
   "source": [
    "### Full-Connected Layer 3"
   ]
  },
  {
   "cell_type": "code",
   "execution_count": 52,
   "metadata": {
    "collapsed": true
   },
   "outputs": [],
   "source": [
    "layer_fc3 = fc_layer(input=layer_dropout2,\n",
    "                         num_inputs=fc_size_2,\n",
    "                         num_outputs=num_classes,          #fc_size = 2 class _ output\n",
    "                         use_relu=False)"
   ]
  },
  {
   "cell_type": "code",
   "execution_count": 53,
   "metadata": {
    "collapsed": false
   },
   "outputs": [
    {
     "data": {
      "text/plain": [
       "<tf.Tensor 'add_5:0' shape=(?, 2) dtype=float32>"
      ]
     },
     "execution_count": 53,
     "metadata": {},
     "output_type": "execute_result"
    }
   ],
   "source": [
    "layer_fc3"
   ]
  },
  {
   "cell_type": "markdown",
   "metadata": {},
   "source": [
    "# Predicted Class"
   ]
  },
  {
   "cell_type": "markdown",
   "metadata": {},
   "source": [
    "Generate Predictions"
   ]
  },
  {
   "cell_type": "code",
   "execution_count": 54,
   "metadata": {
    "collapsed": true
   },
   "outputs": [],
   "source": [
    "y_pred = tf.nn.softmax(layer_fc3)  #probabilities"
   ]
  },
  {
   "cell_type": "code",
   "execution_count": 55,
   "metadata": {
    "collapsed": true
   },
   "outputs": [],
   "source": [
    "y_pred_cls = tf.argmax(y_pred, axis=1)    #classes"
   ]
  },
  {
   "cell_type": "markdown",
   "metadata": {
    "collapsed": true
   },
   "source": [
    "# Cost-function to be optimized"
   ]
  },
  {
   "cell_type": "code",
   "execution_count": 56,
   "metadata": {
    "collapsed": true
   },
   "outputs": [],
   "source": [
    "cross_entropy = tf.nn.softmax_cross_entropy_with_logits(logits=layer_fc3,\n",
    "                                                        labels=y_true)"
   ]
  },
  {
   "cell_type": "code",
   "execution_count": 57,
   "metadata": {
    "collapsed": true
   },
   "outputs": [],
   "source": [
    "cost = tf.reduce_mean(cross_entropy)"
   ]
  },
  {
   "cell_type": "markdown",
   "metadata": {
    "collapsed": true
   },
   "source": [
    "# Optimization Method"
   ]
  },
  {
   "cell_type": "code",
   "execution_count": 58,
   "metadata": {
    "collapsed": true
   },
   "outputs": [],
   "source": [
    "optimizer = tf.train.AdamOptimizer(learning_rate=1e-4).minimize(cost) #'learning_rate': 0.0001"
   ]
  },
  {
   "cell_type": "markdown",
   "metadata": {
    "collapsed": true
   },
   "source": [
    "# Performance Measures"
   ]
  },
  {
   "cell_type": "markdown",
   "metadata": {},
   "source": [
    "this section is create values to confusion matrix"
   ]
  },
  {
   "cell_type": "code",
   "execution_count": 59,
   "metadata": {
    "collapsed": true
   },
   "outputs": [],
   "source": [
    "correct_prediction = tf.equal(y_pred_cls, y_true_cls)"
   ]
  },
  {
   "cell_type": "code",
   "execution_count": 60,
   "metadata": {
    "collapsed": true
   },
   "outputs": [],
   "source": [
    "accuracy = tf.reduce_mean(tf.cast(correct_prediction, tf.float32))"
   ]
  },
  {
   "cell_type": "markdown",
   "metadata": {},
   "source": [
    "### Saver"
   ]
  },
  {
   "cell_type": "code",
   "execution_count": 61,
   "metadata": {
    "collapsed": true
   },
   "outputs": [],
   "source": [
    "saver = tf.train.Saver()"
   ]
  },
  {
   "cell_type": "code",
   "execution_count": 62,
   "metadata": {
    "collapsed": true
   },
   "outputs": [],
   "source": [
    "save_dir = 'D:\\FaamruProject_kor\\Model\\checkpoints\\_3274'"
   ]
  },
  {
   "cell_type": "code",
   "execution_count": 63,
   "metadata": {
    "collapsed": true
   },
   "outputs": [],
   "source": [
    "date_create = \"{}\".format(time.strftime('%Y%m%d', time.localtime(time.time())))"
   ]
  },
  {
   "cell_type": "code",
   "execution_count": 64,
   "metadata": {
    "collapsed": true
   },
   "outputs": [],
   "source": [
    "def get_save_path(net_number):\n",
    "    \n",
    "    number_network = \"network{}\".format(net_number)\n",
    "    save_dir_date = os.path.join(save_dir, date_create,number_network)\n",
    "    if not os.path.exists(save_dir_date):\n",
    "        os.makedirs(save_dir_date)\n",
    "    name_directory_best_validation = 'best_validate_3274_Ensemble_Network{}'.format(net_number)\n",
    "    \n",
    "    return os.path.join(save_dir_date, name_directory_best_validation)"
   ]
  },
  {
   "cell_type": "code",
   "execution_count": 65,
   "metadata": {
    "collapsed": false
   },
   "outputs": [
    {
     "data": {
      "text/plain": [
       "'D:\\\\FaamruProject_kor\\\\Model\\\\checkpoints\\\\_3274\\\\20180515\\\\network1\\\\best_validate_3274_Ensemble_Network1'"
      ]
     },
     "execution_count": 65,
     "metadata": {},
     "output_type": "execute_result"
    }
   ],
   "source": [
    "get_save_path(1)"
   ]
  },
  {
   "cell_type": "markdown",
   "metadata": {},
   "source": [
    "# TensorFlow Run"
   ]
  },
  {
   "cell_type": "code",
   "execution_count": 66,
   "metadata": {
    "collapsed": true
   },
   "outputs": [],
   "source": [
    "#Create TensorFlow session\n",
    "\n",
    "session = tf.Session()"
   ]
  },
  {
   "cell_type": "markdown",
   "metadata": {},
   "source": [
    "### Initialize variables\n",
    "\n",
    "The variables for `weights` and `biases` must be initialized before we start optimizing them. We make a simple wrapper-function for this, because we will call it several times below."
   ]
  },
  {
   "cell_type": "code",
   "execution_count": 67,
   "metadata": {
    "collapsed": true
   },
   "outputs": [],
   "source": [
    "#Initialize variables\n",
    "\n",
    "session.run(tf.global_variables_initializer())"
   ]
  },
  {
   "cell_type": "markdown",
   "metadata": {},
   "source": [
    "function to perform optimization iterations"
   ]
  },
  {
   "cell_type": "markdown",
   "metadata": {},
   "source": [
    "### Function for random training batch."
   ]
  },
  {
   "cell_type": "code",
   "execution_count": 68,
   "metadata": {
    "collapsed": true
   },
   "outputs": [],
   "source": [
    "train_batch_size = 128"
   ]
  },
  {
   "cell_type": "code",
   "execution_count": 69,
   "metadata": {
    "collapsed": true
   },
   "outputs": [],
   "source": [
    "validate_batch_size = 64"
   ]
  },
  {
   "cell_type": "markdown",
   "metadata": {},
   "source": [
    "Function for selecting a random training-batch of the given size."
   ]
  },
  {
   "cell_type": "code",
   "execution_count": 70,
   "metadata": {
    "collapsed": true
   },
   "outputs": [],
   "source": [
    "def random_batch(dataset , batch_size):\n",
    "    # Total number of images in the training-set.\n",
    "    num_images = len(dataset.images)\n",
    "\n",
    "    # Create a random index into the training-set.\n",
    "    idx = np.random.choice(num_images,\n",
    "                           size=batch_size,\n",
    "                           replace=False)\n",
    "    print(list(idx))\n",
    "    print(type(idx))\n",
    "    # Use the random index to select random images and labels.\n",
    "    images_batch = dataset.images[idx, :]  # Images.\n",
    "    labels_batch = dataset.labels[idx, :]  # Labels [0,1].\n",
    "    ids_batch = dataset.ids[list(idx)]        # Name images\n",
    "    cls_batch = dataset.cls[list(idx)]       # groundthruth []\n",
    "\n",
    "    # Return the batch.\n",
    "    return images_batch, labels_batch , ids_batch , cls_batch"
   ]
  },
  {
   "cell_type": "code",
   "execution_count": 71,
   "metadata": {
    "collapsed": true
   },
   "outputs": [],
   "source": [
    "# Best validation accuracy seen so far.\n",
    "best_validation_loss = 1.0\n",
    "\n",
    "# Iteration-number for last improvement to validation accuracy.\n",
    "last_improvement = 0\n",
    "\n",
    "# Stop optimization if no improvement found in this many iterations.\n",
    "require_improvement = 5000"
   ]
  },
  {
   "cell_type": "code",
   "execution_count": 72,
   "metadata": {
    "collapsed": true
   },
   "outputs": [],
   "source": [
    "def print_progress(optimize_iterations, epoch, feed_dict_train, feed_dict_validate, val_loss , improved_str):\n",
    "    # Calculate the accuracy on the training-set.\n",
    "    acc = session.run(accuracy, feed_dict=feed_dict_train)\n",
    "    val_acc = session.run(accuracy, feed_dict=feed_dict_validate)\n",
    "    msg = \"Optimize_iterations : {0}\\tEpoch {1} --- Training Accuracy: {2:>6.3%}, Validation Accuracy: {3:>6.3%}, Validation Loss: {4:.3f} {5}\"\n",
    "    print(msg.format(optimize_iterations,epoch + 1, acc, val_acc, val_loss , improved_str))"
   ]
  },
  {
   "cell_type": "markdown",
   "metadata": {},
   "source": [
    "function to perform optimization iterations"
   ]
  },
  {
   "cell_type": "code",
   "execution_count": 73,
   "metadata": {
    "collapsed": true
   },
   "outputs": [],
   "source": [
    "# Counter for total number of iterations performed so far.\n",
    "total_iterations = 0\n",
    "\n",
    "def train_optimize(num_iterations, dataset=None, number_network=1, continue_iterate=False):\n",
    "    # Ensure we update the global variable rather than a local copy.\n",
    "    global total_iterations\n",
    "    global best_validation_loss         #20180329\n",
    "    global last_improvement             #20180329\n",
    "    global patience\n",
    "    global require_improvement\n",
    "    \n",
    "    number_batch_epoch = 0\n",
    "    data = dataset\n",
    "    best_validation_loss = 1.0\n",
    "    last_improvement = 0\n",
    "    require_improvement = 5000\n",
    "    \n",
    "    if continue_iterate:\n",
    "        total_iterations += num_iterations\n",
    "    '''else:\n",
    "        session.run(tf.global_variables_initializer())'''\n",
    "    \n",
    "    # Start-time used for printing time-usage below.\n",
    "    start_time = time.time()\n",
    "    print(\"Start Time : \" + time.strftime('%Y-%m-%d %H:%M:%S', time.localtime(time.time())))  \n",
    "\n",
    "    for i in range(total_iterations,\n",
    "                   total_iterations + num_iterations):\n",
    "\n",
    "        # Get a batch of training examples.\n",
    "        images_train_batch, labels_train_batch, ids_train_batch, cls_train_batch = data.train.next_batch(train_batch_size)\n",
    "        images_valid_batch, labels_valid_batch, ids_valid_batch, cls_valid_batch = data.valid.next_batch(train_batch_size)\n",
    "\n",
    "        # Put the batch into a dict with the proper names\n",
    "        feed_dict_train = {x: images_train_batch,\n",
    "                           y_true: labels_train_batch}\n",
    "\n",
    "        feed_dict_validate = {x: images_valid_batch,\n",
    "                              y_true: labels_valid_batch}\n",
    "\n",
    "        # Run the optimizer using this batch of training data.\n",
    "        session.run(optimizer, feed_dict=feed_dict_train)\n",
    "\n",
    "        val_loss = session.run(cost, feed_dict=feed_dict_validate)\n",
    "        \n",
    "        # Print status at end of each epoch (defined as full pass through training dataset).\n",
    "        if number_batch_epoch < int(data.train.num_examples/train_batch_size):\n",
    "            number_batch_epoch += 1\n",
    "        else:\n",
    "            number_batch_epoch = 0\n",
    "        \n",
    "        optimize_iterations = i + 1\n",
    "\n",
    "        if require_improvement:    \n",
    "            if val_loss < best_validation_loss:\n",
    "                best_validation_loss = val_loss\n",
    "                last_improvement = 0\n",
    "                saver.save(sess=session, save_path=get_save_path(number_network))\n",
    "                improved_str = '*'\n",
    "            else:\n",
    "                last_improvement += 1\n",
    "                improved_str = ''\n",
    "\n",
    "            if last_improvement == require_improvement:\n",
    "                break\n",
    "\n",
    "        print_progress(optimize_iterations, number_batch_epoch, feed_dict_train, feed_dict_validate, val_loss , improved_str)\n",
    "\n",
    "    # Update the total number of iterations performed.\n",
    "\n",
    "    # Ending time.\n",
    "    end_time = time.time()\n",
    "    print(\"End Time : \" + time.strftime('%Y-%m-%d %H:%M:%S', time.localtime(end_time)))\n",
    "\n",
    "    # Difference between start and end-times.\n",
    "    time_dif = end_time - start_time\n",
    "\n",
    "    # Print the time-usage.\n",
    "    print(\"Time elapsed: \" + str(timedelta(seconds=int(round(time_dif)))))"
   ]
  },
  {
   "cell_type": "markdown",
   "metadata": {},
   "source": [
    "### Create Ensemble of CNN"
   ]
  },
  {
   "cell_type": "code",
   "execution_count": 74,
   "metadata": {
    "collapsed": true
   },
   "outputs": [],
   "source": [
    "num_ensemble = 3"
   ]
  },
  {
   "cell_type": "code",
   "execution_count": 75,
   "metadata": {
    "collapsed": true
   },
   "outputs": [],
   "source": [
    "num_iterations = 300"
   ]
  },
  {
   "cell_type": "markdown",
   "metadata": {},
   "source": [
    "Function for train ensemble model"
   ]
  },
  {
   "cell_type": "code",
   "execution_count": 76,
   "metadata": {
    "collapsed": true
   },
   "outputs": [],
   "source": [
    "def train_ensemble(number_network_ensemble=1, num_iterations=1):\n",
    "    for num_network in range(number_network_ensemble):\n",
    "        print(\"==== Number of Convolutional Neural Network : Ensemble {0} ====\".format(num_network+1))\n",
    "\n",
    "        # Create a random training-set. Ignore the validation-set.\n",
    "        datatrain = read_train_sets(train_path, img_size, classes, validation_size=validation_size)\n",
    "\n",
    "        # Initialize the variables of the TensorFlow graph.\n",
    "        session.run(tf.global_variables_initializer())\n",
    "\n",
    "        # Optimize the variables using this training-set.\n",
    "        train_optimize(num_iterations=num_iterations,\n",
    "                       dataset=datatrain,\n",
    "                       number_network=num_network+1)\n",
    "\n",
    "        # Print newline.\n",
    "        print()"
   ]
  },
  {
   "cell_type": "markdown",
   "metadata": {},
   "source": [
    "### Functions for calculating and predicting classifications"
   ]
  },
  {
   "cell_type": "code",
   "execution_count": 77,
   "metadata": {
    "collapsed": true
   },
   "outputs": [],
   "source": [
    "def predict_labels(images):\n",
    "    num_images = len(images)\n",
    "\n",
    "    pred_labels = np.zeros(shape=(num_images, num_classes),\n",
    "                           dtype=np.float)\n",
    "    i = 0\n",
    "\n",
    "    while i < num_images:\n",
    "        # The ending index for the next batch is denoted j.\n",
    "        j = min(i + validate_batch_size, num_images)\n",
    "\n",
    "        # Create a feed-dict with the images between index i and j.\n",
    "        feed_dict = {x: images[i:j, :]}\n",
    "\n",
    "        # Calculate the predicted labels using TensorFlow.\n",
    "        pred_labels[i:j] = session.run(y_pred, feed_dict=feed_dict)\n",
    "\n",
    "        i = j\n",
    "\n",
    "    return pred_labels"
   ]
  },
  {
   "cell_type": "markdown",
   "metadata": {},
   "source": [
    "Calculate a boolean array whether the predicted classes for the images are correct."
   ]
  },
  {
   "cell_type": "code",
   "execution_count": 78,
   "metadata": {
    "collapsed": true
   },
   "outputs": [],
   "source": [
    "def correct_prediction(images, labels, cls_true):\n",
    "    # Calculate the predicted labels.\n",
    "    pred_labels = predict_labels(images=images)\n",
    "\n",
    "    # Calculate the predicted class-number for each image.\n",
    "    cls_pred = np.argmax(pred_labels, axis=1)\n",
    "\n",
    "    # Create a boolean array whether each image is correctly classified.\n",
    "    correct = (cls_true == cls_pred)\n",
    "\n",
    "    return correct"
   ]
  },
  {
   "cell_type": "markdown",
   "metadata": {},
   "source": [
    "Calculate a boolean array whether the images in the test-set are classified correctly."
   ]
  },
  {
   "cell_type": "code",
   "execution_count": 79,
   "metadata": {
    "collapsed": true
   },
   "outputs": [],
   "source": [
    "def test_correct():\n",
    "    return correct_prediction(images = datatest.images,\n",
    "                              labels = datatest.labels,\n",
    "                              cls_true = datatest.cls)"
   ]
  },
  {
   "cell_type": "markdown",
   "metadata": {},
   "source": [
    "Calculate a boolean array whether the images in the validation-set are classified correctly."
   ]
  },
  {
   "cell_type": "code",
   "execution_count": 80,
   "metadata": {
    "collapsed": true
   },
   "outputs": [],
   "source": [
    "def validation_correct():\n",
    "    return correct_prediction(images = data.valid.images,\n",
    "                              labels = data.valid.labels,\n",
    "                              cls_true = data.valid.cls)"
   ]
  },
  {
   "cell_type": "markdown",
   "metadata": {},
   "source": [
    "### Functions for calculating the classification accuracy\n",
    "\n",
    "This function calculates the classification accuracy given a boolean array whether each image was correctly classified. E.g. `classification_accuracy([True, True, False, False, False]) = 2/5 = 0.4`"
   ]
  },
  {
   "cell_type": "code",
   "execution_count": 81,
   "metadata": {
    "collapsed": true
   },
   "outputs": [],
   "source": [
    "def classification_accuracy(correct):\n",
    "    # When averaging a boolean array, False means 0 and True means 1.\n",
    "    # So we are calculating: number of True / len(correct) which is\n",
    "    # the same as the classification accuracy.\n",
    "    print(type(correct))\n",
    "    print(correct)\n",
    "    return correct.mean()"
   ]
  },
  {
   "cell_type": "markdown",
   "metadata": {},
   "source": [
    "Calculate the classification accuracy on the test-set."
   ]
  },
  {
   "cell_type": "code",
   "execution_count": 82,
   "metadata": {
    "collapsed": true
   },
   "outputs": [],
   "source": [
    "def test_accuracy():\n",
    "    # Get the array of booleans whether the classifications are correct\n",
    "    # for the test-set.\n",
    "    correct = test_correct()\n",
    "    \n",
    "    # Calculate the classification accuracy and return it.\n",
    "    return classification_accuracy(correct)"
   ]
  },
  {
   "cell_type": "markdown",
   "metadata": {},
   "source": [
    "Calculate the classification accuracy on the original validation-set."
   ]
  },
  {
   "cell_type": "code",
   "execution_count": 83,
   "metadata": {
    "collapsed": true
   },
   "outputs": [],
   "source": [
    "def validation_accuracy():\n",
    "    # Get the array of booleans whether the classifications are correct\n",
    "    # for the validation-set.\n",
    "    correct = validation_correct()\n",
    "    \n",
    "    # Calculate the classification accuracy and return it.\n",
    "    return classification_accuracy(correct)"
   ]
  },
  {
   "cell_type": "markdown",
   "metadata": {},
   "source": [
    "### Plotting"
   ]
  },
  {
   "cell_type": "markdown",
   "metadata": {},
   "source": [
    "function to plot example errors"
   ]
  },
  {
   "cell_type": "code",
   "execution_count": 84,
   "metadata": {
    "collapsed": true
   },
   "outputs": [],
   "source": [
    "def plot_example_errors(cls_pred, correct):\n",
    "\n",
    "    # Negate the boolean array.\n",
    "    incorrect = (correct == False)\n",
    "    \n",
    "    # Get the images from the test-set that have been\n",
    "    # incorrectly classified.\n",
    "    images = data.valid.images[incorrect]\n",
    "    ids = data.valid.ids[incorrect]\n",
    "    \n",
    "    # Get the predicted classes for those images.\n",
    "    cls_pred = cls_pred[incorrect]\n",
    "\n",
    "    # Get the true classes for those images.\n",
    "    cls_true = data.valid.cls[incorrect]\n",
    "    \n",
    "       \n",
    "    plot_errors_image(images=images,\n",
    "                cls_true=cls_true,\n",
    "                ids=ids,\n",
    "                cls_pred=cls_pred)"
   ]
  },
  {
   "cell_type": "code",
   "execution_count": 85,
   "metadata": {
    "collapsed": true
   },
   "outputs": [],
   "source": [
    "def plot_errors_image(images , cls_true , ids , cls_pred):\n",
    "      \n",
    "    # Number of filters used in the conv. layer.\n",
    "    num_filters = images.shape[0]\n",
    "\n",
    "    # Number of grids to plot.\n",
    "    num_grids = math.ceil(math.sqrt(num_filters))\n",
    "    \n",
    "    # Create figure with a grid of sub-plots.\n",
    "    fig, axes = plt.subplots(num_grids, num_grids,figsize=(15,15))\n",
    "    fig.subplots_adjust(hspace=0.8, wspace=0.2)\n",
    "\n",
    "    # Plot the output images of all the filters.\n",
    "    for i, ax in enumerate(axes.flat):\n",
    "        if i<num_filters:\n",
    "            # Get the output image of using the i'th filter.\n",
    "            img = images[i]\n",
    "\n",
    "            # Plot image.\n",
    "            ax.imshow(cv2.cvtColor(img.reshape(img_shape_wChnls), cv2.COLOR_BGR2RGB), interpolation = 'bicubic' )\n",
    "        \n",
    "        # Remove ticks from the plot.\n",
    "        ax.set_xticks([])\n",
    "        ax.set_yticks([])\n",
    "        \n",
    "        xlabel = '{0} \\nTrue : {1} \\nPred : {2}'.format(ids[i] , cls_true[i] , cls_pred[i])\n",
    "        ax.set_xlabel(xlabel)\n",
    "        \n",
    "        if i == num_filters-1 :\n",
    "            break\n",
    "            \n",
    "            \n",
    "    plt.xticks([])\n",
    "    plt.yticks([])\n",
    "\n",
    "    plt.show()"
   ]
  },
  {
   "cell_type": "markdown",
   "metadata": {},
   "source": [
    "function to plot confusion matrix"
   ]
  },
  {
   "cell_type": "code",
   "execution_count": 86,
   "metadata": {
    "collapsed": true
   },
   "outputs": [],
   "source": [
    "def plot_confusion_matrix(cls_pred):\n",
    "    # cls_pred is an array of the predicted class-number for all images in the test-set.\n",
    "\n",
    "    # Get the true classifications for the test-set.\n",
    "    cls_true = data.valid.cls\n",
    "    \n",
    "    # Get the confusion matrix using sklearn.\n",
    "    cm = confusion_matrix(y_true=cls_true,\n",
    "                          y_pred=cls_pred)\n",
    "\n",
    "    # Print the confusion matrix as text.\n",
    "    print(cm)\n",
    "\n",
    "    # Plot the confusion matrix as an image.\n",
    "    plt.matshow(cm)\n",
    "    \n",
    "    # Print the Recall - Precision - F1 score.\n",
    "    #print('Recall : ',metrics.recall_score( cls_true , cls_pred ))\n",
    "    \n",
    "    \n",
    "\n",
    "    # Make various adjustments to the plot.\n",
    "    plt.colorbar()\n",
    "    tick_marks = np.arange(num_classes)\n",
    "    plt.xticks(tick_marks, range(num_classes))\n",
    "    plt.yticks(tick_marks, range(num_classes))\n",
    "    plt.xlabel('Predicted')\n",
    "    plt.ylabel('True')\n",
    "\n",
    "    plt.show()"
   ]
  },
  {
   "cell_type": "markdown",
   "metadata": {},
   "source": [
    "function for showing the performance"
   ]
  },
  {
   "cell_type": "code",
   "execution_count": 87,
   "metadata": {
    "collapsed": true
   },
   "outputs": [],
   "source": [
    "def validation_performance(show_example_errors=False,\n",
    "                        show_confusion_matrix=False):\n",
    "\n",
    "    # Number of images in the test-set.\n",
    "    num_test = len(data.valid.images)\n",
    "\n",
    "    cls_pred = np.zeros(shape=num_test, dtype=np.int)\n",
    "\n",
    "\n",
    "    i = 0\n",
    "\n",
    "    while i < num_test:\n",
    "        # The ending index for the next batch is denoted j.\n",
    "        j = min(i + validate_batch_size, num_test)\n",
    "\n",
    "        # Get the images from the test-set between index i and j.\n",
    "        images = data.valid.images[i:j, :]\n",
    "        \n",
    "\n",
    "        # Get the associated labels.\n",
    "        labels = data.valid.labels[i:j, :]\n",
    "\n",
    "        # Create a feed-dict with these images and labels.\n",
    "        feed_dict = {x: images,\n",
    "                     y_true: labels}\n",
    "\n",
    "        # Calculate the predicted class using TensorFlow.\n",
    "        cls_pred[i:j] = session.run(y_pred_cls, feed_dict=feed_dict)\n",
    "\n",
    "        # Set the start-index for the next batch to the\n",
    "        # end-index of the current batch.\n",
    "        i = j\n",
    "\n",
    "    cls_true = np.array(data.valid.cls)\n",
    "    cls_pred = np.array([classes[x] for x in cls_pred]) \n",
    "\n",
    "    # Create a boolean array whether each image is correctly classified.\n",
    "    correct = (cls_true == cls_pred)\n",
    "\n",
    "    # Calculate the number of correctly classified images.\n",
    "    correct_sum = correct.sum()\n",
    "\n",
    "    acc = float(correct_sum) / num_test\n",
    "\n",
    "    # Print the accuracy.\n",
    "    msg = \"Accuracy on Validate-Set: {0:.3%} ({1} / {2})\"\n",
    "    print(msg.format(acc, correct_sum, num_test))\n",
    "\n",
    "    # Plot some examples of mis-classifications, if desired.\n",
    "    if show_example_errors:\n",
    "        print(\"Example errors:\")\n",
    "        plot_example_errors(cls_pred=cls_pred, correct=correct)\n",
    "\n",
    "    # Plot the confusion matrix, if desired.\n",
    "    if show_confusion_matrix:\n",
    "        print(\"Confusion Matrix:\")\n",
    "        plot_confusion_matrix(cls_pred=cls_pred)"
   ]
  },
  {
   "cell_type": "markdown",
   "metadata": {},
   "source": [
    "## Performance after 1 optimization iteration"
   ]
  },
  {
   "cell_type": "code",
   "execution_count": 88,
   "metadata": {
    "collapsed": false,
    "scrolled": false
   },
   "outputs": [
    {
     "name": "stdout",
     "output_type": "stream",
     "text": [
      "==== Number of Convolutional Neural Network : Ensemble 1 ====\n",
      "Reading training images\n",
      "Loading vegetation files (Index: 0)\n",
      "Loading notVegetation files (Index: 1)\n",
      "Start Time : 2018-05-15 09:30:07\n",
      "Optimize_iterations : 1\tEpoch 2 --- Training Accuracy: 57.812%, Validation Accuracy: 35.156%, Validation Loss: 0.958 *\n",
      "End Time : 2018-05-15 09:33:35\n",
      "Time elapsed: 0:03:28\n",
      "\n",
      "==== Number of Convolutional Neural Network : Ensemble 2 ====\n",
      "Reading training images\n",
      "Loading vegetation files (Index: 0)\n",
      "Loading notVegetation files (Index: 1)\n",
      "Start Time : 2018-05-15 09:34:31\n",
      "Optimize_iterations : 1\tEpoch 2 --- Training Accuracy: 50.000%, Validation Accuracy: 32.812%, Validation Loss: 0.986 *\n",
      "End Time : 2018-05-15 09:38:02\n",
      "Time elapsed: 0:03:30\n",
      "\n",
      "==== Number of Convolutional Neural Network : Ensemble 3 ====\n",
      "Reading training images\n",
      "Loading vegetation files (Index: 0)\n",
      "Loading notVegetation files (Index: 1)\n",
      "Start Time : 2018-05-15 09:38:55\n",
      "Optimize_iterations : 1\tEpoch 2 --- Training Accuracy: 50.000%, Validation Accuracy: 58.594%, Validation Loss: 0.719 *\n",
      "End Time : 2018-05-15 09:42:39\n",
      "Time elapsed: 0:03:44\n",
      "\n"
     ]
    }
   ],
   "source": [
    "train_ensemble(num_iterations=1 , number_network_ensemble=3)"
   ]
  },
  {
   "cell_type": "code",
   "execution_count": 89,
   "metadata": {
    "collapsed": false
   },
   "outputs": [
    {
     "name": "stdout",
     "output_type": "stream",
     "text": [
      "Accuracy on Validate-Set: 52.484% (412 / 785)\n"
     ]
    }
   ],
   "source": [
    "validation_performance()"
   ]
  },
  {
   "cell_type": "markdown",
   "metadata": {},
   "source": [
    "## Performance after 100 optimization iterations\n",
    "\n",
    "After 100 optimization iterations, the model should have significantly improved its classification accuracy."
   ]
  },
  {
   "cell_type": "code",
   "execution_count": 90,
   "metadata": {
    "collapsed": false,
    "scrolled": false
   },
   "outputs": [
    {
     "name": "stdout",
     "output_type": "stream",
     "text": [
      "==== Number of Convolutional Neural Network : Ensemble 1 ====\n",
      "Reading training images\n",
      "Loading vegetation files (Index: 0)\n",
      "Loading notVegetation files (Index: 1)\n",
      "Start Time : 2018-05-15 09:47:49\n",
      "Optimize_iterations : 1\tEpoch 2 --- Training Accuracy: 50.000%, Validation Accuracy: 33.594%, Validation Loss: 0.920 *\n",
      "Optimize_iterations : 2\tEpoch 3 --- Training Accuracy: 51.562%, Validation Accuracy: 37.500%, Validation Loss: 0.797 *\n",
      "Optimize_iterations : 3\tEpoch 4 --- Training Accuracy: 51.562%, Validation Accuracy: 63.281%, Validation Loss: 0.670 *\n",
      "Optimize_iterations : 4\tEpoch 5 --- Training Accuracy: 56.250%, Validation Accuracy: 65.625%, Validation Loss: 0.628 *\n",
      "Optimize_iterations : 5\tEpoch 6 --- Training Accuracy: 36.719%, Validation Accuracy: 62.500%, Validation Loss: 0.651 \n",
      "Optimize_iterations : 6\tEpoch 7 --- Training Accuracy: 50.000%, Validation Accuracy: 60.156%, Validation Loss: 0.682 \n",
      "Optimize_iterations : 7\tEpoch 8 --- Training Accuracy: 57.031%, Validation Accuracy: 48.438%, Validation Loss: 0.713 \n",
      "Optimize_iterations : 8\tEpoch 9 --- Training Accuracy: 50.000%, Validation Accuracy: 50.000%, Validation Loss: 0.741 \n",
      "Optimize_iterations : 9\tEpoch 10 --- Training Accuracy: 48.438%, Validation Accuracy: 35.156%, Validation Loss: 0.779 \n",
      "Optimize_iterations : 10\tEpoch 11 --- Training Accuracy: 52.344%, Validation Accuracy: 32.812%, Validation Loss: 0.757 \n",
      "Optimize_iterations : 11\tEpoch 12 --- Training Accuracy: 43.750%, Validation Accuracy: 42.188%, Validation Loss: 0.713 \n",
      "Optimize_iterations : 12\tEpoch 13 --- Training Accuracy: 55.469%, Validation Accuracy: 47.656%, Validation Loss: 0.719 \n",
      "Optimize_iterations : 13\tEpoch 14 --- Training Accuracy: 49.219%, Validation Accuracy: 49.219%, Validation Loss: 0.688 \n",
      "Optimize_iterations : 14\tEpoch 15 --- Training Accuracy: 57.031%, Validation Accuracy: 64.844%, Validation Loss: 0.671 \n",
      "Optimize_iterations : 15\tEpoch 1 --- Training Accuracy: 56.250%, Validation Accuracy: 74.219%, Validation Loss: 0.664 \n",
      "Optimize_iterations : 16\tEpoch 2 --- Training Accuracy: 53.125%, Validation Accuracy: 73.438%, Validation Loss: 0.659 \n",
      "Optimize_iterations : 17\tEpoch 3 --- Training Accuracy: 62.500%, Validation Accuracy: 64.062%, Validation Loss: 0.660 \n",
      "Optimize_iterations : 18\tEpoch 4 --- Training Accuracy: 66.406%, Validation Accuracy: 69.531%, Validation Loss: 0.643 \n",
      "Optimize_iterations : 19\tEpoch 5 --- Training Accuracy: 46.094%, Validation Accuracy: 67.969%, Validation Loss: 0.654 \n",
      "Optimize_iterations : 20\tEpoch 6 --- Training Accuracy: 55.469%, Validation Accuracy: 68.750%, Validation Loss: 0.638 \n",
      "Optimize_iterations : 21\tEpoch 7 --- Training Accuracy: 55.469%, Validation Accuracy: 57.812%, Validation Loss: 0.687 \n",
      "Optimize_iterations : 22\tEpoch 8 --- Training Accuracy: 59.375%, Validation Accuracy: 38.281%, Validation Loss: 0.715 \n",
      "Optimize_iterations : 23\tEpoch 9 --- Training Accuracy: 56.250%, Validation Accuracy: 48.438%, Validation Loss: 0.695 \n",
      "Optimize_iterations : 24\tEpoch 10 --- Training Accuracy: 53.906%, Validation Accuracy: 43.750%, Validation Loss: 0.726 \n",
      "Optimize_iterations : 25\tEpoch 11 --- Training Accuracy: 55.469%, Validation Accuracy: 50.781%, Validation Loss: 0.696 \n",
      "Optimize_iterations : 26\tEpoch 12 --- Training Accuracy: 67.188%, Validation Accuracy: 57.812%, Validation Loss: 0.657 \n",
      "Optimize_iterations : 27\tEpoch 13 --- Training Accuracy: 62.500%, Validation Accuracy: 66.406%, Validation Loss: 0.668 \n",
      "Optimize_iterations : 28\tEpoch 14 --- Training Accuracy: 65.625%, Validation Accuracy: 72.656%, Validation Loss: 0.648 \n",
      "Optimize_iterations : 29\tEpoch 15 --- Training Accuracy: 64.062%, Validation Accuracy: 69.531%, Validation Loss: 0.606 *\n",
      "Optimize_iterations : 30\tEpoch 1 --- Training Accuracy: 61.719%, Validation Accuracy: 69.531%, Validation Loss: 0.622 \n",
      "Optimize_iterations : 31\tEpoch 2 --- Training Accuracy: 67.188%, Validation Accuracy: 70.312%, Validation Loss: 0.599 *\n",
      "Optimize_iterations : 32\tEpoch 3 --- Training Accuracy: 59.375%, Validation Accuracy: 72.656%, Validation Loss: 0.587 *\n",
      "Optimize_iterations : 33\tEpoch 4 --- Training Accuracy: 60.156%, Validation Accuracy: 66.406%, Validation Loss: 0.626 \n",
      "Optimize_iterations : 34\tEpoch 5 --- Training Accuracy: 73.438%, Validation Accuracy: 62.500%, Validation Loss: 0.691 \n",
      "Optimize_iterations : 35\tEpoch 6 --- Training Accuracy: 62.500%, Validation Accuracy: 61.719%, Validation Loss: 0.664 \n",
      "Optimize_iterations : 36\tEpoch 7 --- Training Accuracy: 67.969%, Validation Accuracy: 55.469%, Validation Loss: 0.700 \n",
      "Optimize_iterations : 37\tEpoch 8 --- Training Accuracy: 58.594%, Validation Accuracy: 53.125%, Validation Loss: 0.701 \n",
      "Optimize_iterations : 38\tEpoch 9 --- Training Accuracy: 60.938%, Validation Accuracy: 63.281%, Validation Loss: 0.635 \n",
      "Optimize_iterations : 39\tEpoch 10 --- Training Accuracy: 70.312%, Validation Accuracy: 66.406%, Validation Loss: 0.644 \n",
      "Optimize_iterations : 40\tEpoch 11 --- Training Accuracy: 72.656%, Validation Accuracy: 67.969%, Validation Loss: 0.623 \n",
      "Optimize_iterations : 41\tEpoch 12 --- Training Accuracy: 63.281%, Validation Accuracy: 71.875%, Validation Loss: 0.579 *\n",
      "Optimize_iterations : 42\tEpoch 13 --- Training Accuracy: 69.531%, Validation Accuracy: 73.438%, Validation Loss: 0.587 \n",
      "Optimize_iterations : 43\tEpoch 14 --- Training Accuracy: 68.750%, Validation Accuracy: 75.000%, Validation Loss: 0.545 *\n",
      "Optimize_iterations : 44\tEpoch 15 --- Training Accuracy: 64.844%, Validation Accuracy: 76.562%, Validation Loss: 0.534 *\n",
      "Optimize_iterations : 45\tEpoch 1 --- Training Accuracy: 71.875%, Validation Accuracy: 72.656%, Validation Loss: 0.571 \n",
      "Optimize_iterations : 46\tEpoch 2 --- Training Accuracy: 64.844%, Validation Accuracy: 72.656%, Validation Loss: 0.606 \n",
      "Optimize_iterations : 47\tEpoch 3 --- Training Accuracy: 72.656%, Validation Accuracy: 71.094%, Validation Loss: 0.589 \n",
      "Optimize_iterations : 48\tEpoch 4 --- Training Accuracy: 71.875%, Validation Accuracy: 59.375%, Validation Loss: 0.685 \n",
      "Optimize_iterations : 49\tEpoch 5 --- Training Accuracy: 71.094%, Validation Accuracy: 57.031%, Validation Loss: 0.706 \n",
      "Optimize_iterations : 50\tEpoch 6 --- Training Accuracy: 73.438%, Validation Accuracy: 63.281%, Validation Loss: 0.633 \n",
      "Optimize_iterations : 51\tEpoch 7 --- Training Accuracy: 67.969%, Validation Accuracy: 62.500%, Validation Loss: 0.702 \n",
      "Optimize_iterations : 52\tEpoch 8 --- Training Accuracy: 68.750%, Validation Accuracy: 67.969%, Validation Loss: 0.620 \n",
      "Optimize_iterations : 53\tEpoch 9 --- Training Accuracy: 70.312%, Validation Accuracy: 72.656%, Validation Loss: 0.564 \n",
      "Optimize_iterations : 54\tEpoch 10 --- Training Accuracy: 68.750%, Validation Accuracy: 73.438%, Validation Loss: 0.551 \n",
      "Optimize_iterations : 55\tEpoch 11 --- Training Accuracy: 66.406%, Validation Accuracy: 74.219%, Validation Loss: 0.510 *\n",
      "Optimize_iterations : 56\tEpoch 12 --- Training Accuracy: 72.656%, Validation Accuracy: 75.781%, Validation Loss: 0.496 *\n",
      "Optimize_iterations : 57\tEpoch 13 --- Training Accuracy: 71.094%, Validation Accuracy: 73.438%, Validation Loss: 0.532 \n",
      "Optimize_iterations : 58\tEpoch 14 --- Training Accuracy: 67.969%, Validation Accuracy: 72.656%, Validation Loss: 0.571 \n",
      "Optimize_iterations : 59\tEpoch 15 --- Training Accuracy: 78.906%, Validation Accuracy: 72.656%, Validation Loss: 0.569 \n",
      "Optimize_iterations : 60\tEpoch 1 --- Training Accuracy: 67.969%, Validation Accuracy: 67.969%, Validation Loss: 0.599 \n",
      "Optimize_iterations : 61\tEpoch 2 --- Training Accuracy: 74.219%, Validation Accuracy: 60.938%, Validation Loss: 0.648 \n",
      "Optimize_iterations : 62\tEpoch 3 --- Training Accuracy: 77.344%, Validation Accuracy: 64.062%, Validation Loss: 0.601 \n",
      "Optimize_iterations : 63\tEpoch 4 --- Training Accuracy: 71.094%, Validation Accuracy: 61.719%, Validation Loss: 0.737 \n",
      "Optimize_iterations : 64\tEpoch 5 --- Training Accuracy: 74.219%, Validation Accuracy: 64.062%, Validation Loss: 0.715 \n",
      "Optimize_iterations : 65\tEpoch 6 --- Training Accuracy: 73.438%, Validation Accuracy: 67.969%, Validation Loss: 0.591 \n",
      "Optimize_iterations : 66\tEpoch 7 --- Training Accuracy: 70.312%, Validation Accuracy: 71.875%, Validation Loss: 0.587 \n",
      "Optimize_iterations : 67\tEpoch 8 --- Training Accuracy: 72.656%, Validation Accuracy: 74.219%, Validation Loss: 0.517 \n",
      "Optimize_iterations : 68\tEpoch 9 --- Training Accuracy: 70.312%, Validation Accuracy: 80.469%, Validation Loss: 0.457 *\n",
      "Optimize_iterations : 69\tEpoch 10 --- Training Accuracy: 71.875%, Validation Accuracy: 72.656%, Validation Loss: 0.520 \n",
      "Optimize_iterations : 70\tEpoch 11 --- Training Accuracy: 73.438%, Validation Accuracy: 75.781%, Validation Loss: 0.504 \n",
      "Optimize_iterations : 71\tEpoch 12 --- Training Accuracy: 73.438%, Validation Accuracy: 76.562%, Validation Loss: 0.519 \n",
      "Optimize_iterations : 72\tEpoch 13 --- Training Accuracy: 69.531%, Validation Accuracy: 75.000%, Validation Loss: 0.544 \n",
      "Optimize_iterations : 73\tEpoch 14 --- Training Accuracy: 76.562%, Validation Accuracy: 73.438%, Validation Loss: 0.557 \n",
      "Optimize_iterations : 74\tEpoch 15 --- Training Accuracy: 72.656%, Validation Accuracy: 75.781%, Validation Loss: 0.514 \n",
      "Optimize_iterations : 75\tEpoch 1 --- Training Accuracy: 80.469%, Validation Accuracy: 65.625%, Validation Loss: 0.649 \n",
      "Optimize_iterations : 76\tEpoch 2 --- Training Accuracy: 76.562%, Validation Accuracy: 64.844%, Validation Loss: 0.687 \n",
      "Optimize_iterations : 77\tEpoch 3 --- Training Accuracy: 71.094%, Validation Accuracy: 67.969%, Validation Loss: 0.621 \n",
      "Optimize_iterations : 78\tEpoch 4 --- Training Accuracy: 81.250%, Validation Accuracy: 69.531%, Validation Loss: 0.640 \n",
      "Optimize_iterations : 79\tEpoch 5 --- Training Accuracy: 78.125%, Validation Accuracy: 72.656%, Validation Loss: 0.568 \n",
      "Optimize_iterations : 80\tEpoch 6 --- Training Accuracy: 71.094%, Validation Accuracy: 83.594%, Validation Loss: 0.441 *\n",
      "Optimize_iterations : 81\tEpoch 7 --- Training Accuracy: 78.125%, Validation Accuracy: 76.562%, Validation Loss: 0.494 \n",
      "Optimize_iterations : 82\tEpoch 8 --- Training Accuracy: 72.656%, Validation Accuracy: 78.906%, Validation Loss: 0.483 \n",
      "Optimize_iterations : 83\tEpoch 9 --- Training Accuracy: 71.875%, Validation Accuracy: 81.250%, Validation Loss: 0.484 \n",
      "Optimize_iterations : 84\tEpoch 10 --- Training Accuracy: 80.469%, Validation Accuracy: 76.562%, Validation Loss: 0.473 \n",
      "Optimize_iterations : 85\tEpoch 11 --- Training Accuracy: 77.344%, Validation Accuracy: 77.344%, Validation Loss: 0.495 \n",
      "Optimize_iterations : 86\tEpoch 12 --- Training Accuracy: 78.906%, Validation Accuracy: 77.344%, Validation Loss: 0.478 \n",
      "Optimize_iterations : 87\tEpoch 13 --- Training Accuracy: 81.250%, Validation Accuracy: 71.875%, Validation Loss: 0.608 \n",
      "Optimize_iterations : 88\tEpoch 14 --- Training Accuracy: 78.906%, Validation Accuracy: 75.000%, Validation Loss: 0.568 \n",
      "Optimize_iterations : 89\tEpoch 15 --- Training Accuracy: 80.469%, Validation Accuracy: 77.344%, Validation Loss: 0.552 \n",
      "Optimize_iterations : 90\tEpoch 1 --- Training Accuracy: 78.125%, Validation Accuracy: 74.219%, Validation Loss: 0.548 \n",
      "Optimize_iterations : 91\tEpoch 2 --- Training Accuracy: 75.781%, Validation Accuracy: 71.094%, Validation Loss: 0.548 \n",
      "Optimize_iterations : 92\tEpoch 3 --- Training Accuracy: 82.812%, Validation Accuracy: 83.594%, Validation Loss: 0.426 *\n",
      "Optimize_iterations : 93\tEpoch 4 --- Training Accuracy: 82.812%, Validation Accuracy: 79.688%, Validation Loss: 0.479 \n",
      "Optimize_iterations : 94\tEpoch 5 --- Training Accuracy: 71.094%, Validation Accuracy: 79.688%, Validation Loss: 0.438 \n",
      "Optimize_iterations : 95\tEpoch 6 --- Training Accuracy: 81.250%, Validation Accuracy: 81.250%, Validation Loss: 0.415 *\n",
      "Optimize_iterations : 96\tEpoch 7 --- Training Accuracy: 81.250%, Validation Accuracy: 80.469%, Validation Loss: 0.439 \n",
      "Optimize_iterations : 97\tEpoch 8 --- Training Accuracy: 84.375%, Validation Accuracy: 77.344%, Validation Loss: 0.469 \n",
      "Optimize_iterations : 98\tEpoch 9 --- Training Accuracy: 89.062%, Validation Accuracy: 82.031%, Validation Loss: 0.405 *\n",
      "Optimize_iterations : 99\tEpoch 10 --- Training Accuracy: 85.156%, Validation Accuracy: 78.125%, Validation Loss: 0.515 \n",
      "Optimize_iterations : 100\tEpoch 11 --- Training Accuracy: 80.469%, Validation Accuracy: 77.344%, Validation Loss: 0.475 \n",
      "Optimize_iterations : 101\tEpoch 12 --- Training Accuracy: 81.250%, Validation Accuracy: 85.938%, Validation Loss: 0.439 \n",
      "Optimize_iterations : 102\tEpoch 13 --- Training Accuracy: 75.000%, Validation Accuracy: 82.812%, Validation Loss: 0.422 \n",
      "Optimize_iterations : 103\tEpoch 14 --- Training Accuracy: 79.688%, Validation Accuracy: 79.688%, Validation Loss: 0.444 \n",
      "Optimize_iterations : 104\tEpoch 15 --- Training Accuracy: 81.250%, Validation Accuracy: 82.812%, Validation Loss: 0.379 *\n",
      "Optimize_iterations : 105\tEpoch 1 --- Training Accuracy: 78.906%, Validation Accuracy: 72.656%, Validation Loss: 0.547 \n",
      "Optimize_iterations : 106\tEpoch 2 --- Training Accuracy: 89.844%, Validation Accuracy: 75.781%, Validation Loss: 0.488 \n",
      "Optimize_iterations : 107\tEpoch 3 --- Training Accuracy: 87.500%, Validation Accuracy: 82.031%, Validation Loss: 0.419 \n",
      "Optimize_iterations : 108\tEpoch 4 --- Training Accuracy: 75.000%, Validation Accuracy: 83.594%, Validation Loss: 0.382 \n",
      "Optimize_iterations : 109\tEpoch 5 --- Training Accuracy: 78.125%, Validation Accuracy: 86.719%, Validation Loss: 0.358 *\n",
      "Optimize_iterations : 110\tEpoch 6 --- Training Accuracy: 82.031%, Validation Accuracy: 89.062%, Validation Loss: 0.348 *\n",
      "Optimize_iterations : 111\tEpoch 7 --- Training Accuracy: 85.156%, Validation Accuracy: 82.812%, Validation Loss: 0.455 \n",
      "Optimize_iterations : 112\tEpoch 8 --- Training Accuracy: 87.500%, Validation Accuracy: 75.000%, Validation Loss: 0.501 \n",
      "Optimize_iterations : 113\tEpoch 9 --- Training Accuracy: 85.938%, Validation Accuracy: 81.250%, Validation Loss: 0.467 \n",
      "Optimize_iterations : 114\tEpoch 10 --- Training Accuracy: 81.250%, Validation Accuracy: 82.812%, Validation Loss: 0.440 \n",
      "Optimize_iterations : 115\tEpoch 11 --- Training Accuracy: 84.375%, Validation Accuracy: 82.812%, Validation Loss: 0.374 \n",
      "Optimize_iterations : 116\tEpoch 12 --- Training Accuracy: 77.344%, Validation Accuracy: 88.281%, Validation Loss: 0.325 *\n",
      "Optimize_iterations : 117\tEpoch 13 --- Training Accuracy: 85.156%, Validation Accuracy: 84.375%, Validation Loss: 0.377 \n",
      "Optimize_iterations : 118\tEpoch 14 --- Training Accuracy: 83.594%, Validation Accuracy: 76.562%, Validation Loss: 0.399 \n",
      "Optimize_iterations : 119\tEpoch 15 --- Training Accuracy: 78.125%, Validation Accuracy: 74.219%, Validation Loss: 0.484 \n",
      "Optimize_iterations : 120\tEpoch 1 --- Training Accuracy: 82.812%, Validation Accuracy: 73.438%, Validation Loss: 0.543 \n",
      "Optimize_iterations : 121\tEpoch 2 --- Training Accuracy: 86.719%, Validation Accuracy: 82.812%, Validation Loss: 0.443 \n",
      "Optimize_iterations : 122\tEpoch 3 --- Training Accuracy: 79.688%, Validation Accuracy: 89.062%, Validation Loss: 0.330 \n",
      "Optimize_iterations : 123\tEpoch 4 --- Training Accuracy: 80.469%, Validation Accuracy: 85.938%, Validation Loss: 0.379 \n",
      "Optimize_iterations : 124\tEpoch 5 --- Training Accuracy: 82.812%, Validation Accuracy: 85.156%, Validation Loss: 0.320 *\n",
      "Optimize_iterations : 125\tEpoch 6 --- Training Accuracy: 90.625%, Validation Accuracy: 88.281%, Validation Loss: 0.340 \n",
      "Optimize_iterations : 126\tEpoch 7 --- Training Accuracy: 88.281%, Validation Accuracy: 87.500%, Validation Loss: 0.409 \n",
      "Optimize_iterations : 127\tEpoch 8 --- Training Accuracy: 86.719%, Validation Accuracy: 73.438%, Validation Loss: 0.532 \n",
      "Optimize_iterations : 128\tEpoch 9 --- Training Accuracy: 83.594%, Validation Accuracy: 81.250%, Validation Loss: 0.377 \n",
      "Optimize_iterations : 129\tEpoch 10 --- Training Accuracy: 88.281%, Validation Accuracy: 83.594%, Validation Loss: 0.434 \n",
      "Optimize_iterations : 130\tEpoch 11 --- Training Accuracy: 84.375%, Validation Accuracy: 86.719%, Validation Loss: 0.330 \n",
      "Optimize_iterations : 131\tEpoch 12 --- Training Accuracy: 82.812%, Validation Accuracy: 88.281%, Validation Loss: 0.310 *\n",
      "Optimize_iterations : 132\tEpoch 13 --- Training Accuracy: 83.594%, Validation Accuracy: 85.938%, Validation Loss: 0.346 \n",
      "Optimize_iterations : 133\tEpoch 14 --- Training Accuracy: 84.375%, Validation Accuracy: 85.156%, Validation Loss: 0.401 \n",
      "Optimize_iterations : 134\tEpoch 15 --- Training Accuracy: 88.281%, Validation Accuracy: 85.938%, Validation Loss: 0.355 \n",
      "Optimize_iterations : 135\tEpoch 1 --- Training Accuracy: 86.719%, Validation Accuracy: 77.344%, Validation Loss: 0.459 \n",
      "Optimize_iterations : 136\tEpoch 2 --- Training Accuracy: 82.812%, Validation Accuracy: 82.031%, Validation Loss: 0.356 \n",
      "Optimize_iterations : 137\tEpoch 3 --- Training Accuracy: 88.281%, Validation Accuracy: 88.281%, Validation Loss: 0.304 *\n",
      "Optimize_iterations : 138\tEpoch 4 --- Training Accuracy: 85.938%, Validation Accuracy: 86.719%, Validation Loss: 0.292 *\n",
      "Optimize_iterations : 139\tEpoch 5 --- Training Accuracy: 88.281%, Validation Accuracy: 88.281%, Validation Loss: 0.296 \n",
      "Optimize_iterations : 140\tEpoch 6 --- Training Accuracy: 91.406%, Validation Accuracy: 92.188%, Validation Loss: 0.264 *\n",
      "Optimize_iterations : 141\tEpoch 7 --- Training Accuracy: 88.281%, Validation Accuracy: 85.156%, Validation Loss: 0.393 \n",
      "Optimize_iterations : 142\tEpoch 8 --- Training Accuracy: 85.938%, Validation Accuracy: 84.375%, Validation Loss: 0.371 \n",
      "Optimize_iterations : 143\tEpoch 9 --- Training Accuracy: 92.188%, Validation Accuracy: 86.719%, Validation Loss: 0.307 \n",
      "Optimize_iterations : 144\tEpoch 10 --- Training Accuracy: 82.812%, Validation Accuracy: 87.500%, Validation Loss: 0.283 \n",
      "Optimize_iterations : 145\tEpoch 11 --- Training Accuracy: 90.625%, Validation Accuracy: 87.500%, Validation Loss: 0.343 \n",
      "Optimize_iterations : 146\tEpoch 12 --- Training Accuracy: 85.156%, Validation Accuracy: 95.312%, Validation Loss: 0.259 *\n",
      "Optimize_iterations : 147\tEpoch 13 --- Training Accuracy: 89.844%, Validation Accuracy: 85.156%, Validation Loss: 0.390 \n",
      "Optimize_iterations : 148\tEpoch 14 --- Training Accuracy: 92.188%, Validation Accuracy: 82.031%, Validation Loss: 0.375 \n",
      "Optimize_iterations : 149\tEpoch 15 --- Training Accuracy: 89.062%, Validation Accuracy: 87.500%, Validation Loss: 0.313 \n",
      "Optimize_iterations : 150\tEpoch 1 --- Training Accuracy: 83.594%, Validation Accuracy: 90.625%, Validation Loss: 0.280 \n",
      "Optimize_iterations : 151\tEpoch 2 --- Training Accuracy: 91.406%, Validation Accuracy: 89.062%, Validation Loss: 0.300 \n",
      "Optimize_iterations : 152\tEpoch 3 --- Training Accuracy: 85.156%, Validation Accuracy: 93.750%, Validation Loss: 0.231 *\n",
      "Optimize_iterations : 153\tEpoch 4 --- Training Accuracy: 92.188%, Validation Accuracy: 89.062%, Validation Loss: 0.299 \n",
      "Optimize_iterations : 154\tEpoch 5 --- Training Accuracy: 90.625%, Validation Accuracy: 87.500%, Validation Loss: 0.311 \n",
      "Optimize_iterations : 155\tEpoch 6 --- Training Accuracy: 90.625%, Validation Accuracy: 89.062%, Validation Loss: 0.336 \n",
      "Optimize_iterations : 156\tEpoch 7 --- Training Accuracy: 87.500%, Validation Accuracy: 85.938%, Validation Loss: 0.306 \n",
      "Optimize_iterations : 157\tEpoch 8 --- Training Accuracy: 92.188%, Validation Accuracy: 86.719%, Validation Loss: 0.314 \n",
      "Optimize_iterations : 158\tEpoch 9 --- Training Accuracy: 86.719%, Validation Accuracy: 92.969%, Validation Loss: 0.230 *\n",
      "Optimize_iterations : 159\tEpoch 10 --- Training Accuracy: 88.281%, Validation Accuracy: 90.625%, Validation Loss: 0.266 \n",
      "Optimize_iterations : 160\tEpoch 11 --- Training Accuracy: 86.719%, Validation Accuracy: 85.156%, Validation Loss: 0.274 \n",
      "Optimize_iterations : 161\tEpoch 12 --- Training Accuracy: 92.188%, Validation Accuracy: 91.406%, Validation Loss: 0.312 \n",
      "Optimize_iterations : 162\tEpoch 13 --- Training Accuracy: 90.625%, Validation Accuracy: 83.594%, Validation Loss: 0.363 \n",
      "Optimize_iterations : 163\tEpoch 14 --- Training Accuracy: 89.062%, Validation Accuracy: 87.500%, Validation Loss: 0.373 \n",
      "Optimize_iterations : 164\tEpoch 15 --- Training Accuracy: 84.375%, Validation Accuracy: 93.750%, Validation Loss: 0.241 \n",
      "Optimize_iterations : 165\tEpoch 1 --- Training Accuracy: 91.406%, Validation Accuracy: 89.844%, Validation Loss: 0.268 \n",
      "Optimize_iterations : 166\tEpoch 2 --- Training Accuracy: 87.500%, Validation Accuracy: 87.500%, Validation Loss: 0.272 \n",
      "Optimize_iterations : 167\tEpoch 3 --- Training Accuracy: 93.750%, Validation Accuracy: 93.750%, Validation Loss: 0.259 \n",
      "Optimize_iterations : 168\tEpoch 4 --- Training Accuracy: 95.312%, Validation Accuracy: 87.500%, Validation Loss: 0.322 \n",
      "Optimize_iterations : 169\tEpoch 5 --- Training Accuracy: 90.625%, Validation Accuracy: 83.594%, Validation Loss: 0.413 \n",
      "Optimize_iterations : 170\tEpoch 6 --- Training Accuracy: 91.406%, Validation Accuracy: 93.750%, Validation Loss: 0.238 \n",
      "Optimize_iterations : 171\tEpoch 7 --- Training Accuracy: 90.625%, Validation Accuracy: 88.281%, Validation Loss: 0.252 \n",
      "Optimize_iterations : 172\tEpoch 8 --- Training Accuracy: 87.500%, Validation Accuracy: 89.844%, Validation Loss: 0.264 \n",
      "Optimize_iterations : 173\tEpoch 9 --- Training Accuracy: 92.188%, Validation Accuracy: 94.531%, Validation Loss: 0.208 *\n",
      "Optimize_iterations : 174\tEpoch 10 --- Training Accuracy: 85.938%, Validation Accuracy: 87.500%, Validation Loss: 0.296 \n",
      "Optimize_iterations : 175\tEpoch 11 --- Training Accuracy: 93.750%, Validation Accuracy: 83.594%, Validation Loss: 0.444 \n",
      "Optimize_iterations : 176\tEpoch 12 --- Training Accuracy: 88.281%, Validation Accuracy: 87.500%, Validation Loss: 0.292 \n",
      "Optimize_iterations : 177\tEpoch 13 --- Training Accuracy: 89.062%, Validation Accuracy: 89.844%, Validation Loss: 0.298 \n",
      "Optimize_iterations : 178\tEpoch 14 --- Training Accuracy: 84.375%, Validation Accuracy: 88.281%, Validation Loss: 0.253 \n",
      "Optimize_iterations : 179\tEpoch 15 --- Training Accuracy: 89.844%, Validation Accuracy: 92.969%, Validation Loss: 0.222 \n",
      "Optimize_iterations : 180\tEpoch 1 --- Training Accuracy: 89.062%, Validation Accuracy: 91.406%, Validation Loss: 0.206 *\n",
      "Optimize_iterations : 181\tEpoch 2 --- Training Accuracy: 96.875%, Validation Accuracy: 89.062%, Validation Loss: 0.291 \n",
      "Optimize_iterations : 182\tEpoch 3 --- Training Accuracy: 94.531%, Validation Accuracy: 89.844%, Validation Loss: 0.262 \n",
      "Optimize_iterations : 183\tEpoch 4 --- Training Accuracy: 90.625%, Validation Accuracy: 85.156%, Validation Loss: 0.379 \n",
      "Optimize_iterations : 184\tEpoch 5 --- Training Accuracy: 89.062%, Validation Accuracy: 87.500%, Validation Loss: 0.257 \n",
      "Optimize_iterations : 185\tEpoch 6 --- Training Accuracy: 92.969%, Validation Accuracy: 94.531%, Validation Loss: 0.203 *\n",
      "Optimize_iterations : 186\tEpoch 7 --- Training Accuracy: 89.844%, Validation Accuracy: 90.625%, Validation Loss: 0.223 \n",
      "Optimize_iterations : 187\tEpoch 8 --- Training Accuracy: 90.625%, Validation Accuracy: 91.406%, Validation Loss: 0.253 \n",
      "Optimize_iterations : 188\tEpoch 9 --- Training Accuracy: 88.281%, Validation Accuracy: 94.531%, Validation Loss: 0.221 \n",
      "Optimize_iterations : 189\tEpoch 10 --- Training Accuracy: 96.094%, Validation Accuracy: 87.500%, Validation Loss: 0.318 \n",
      "Optimize_iterations : 190\tEpoch 11 --- Training Accuracy: 91.406%, Validation Accuracy: 85.938%, Validation Loss: 0.377 \n",
      "Optimize_iterations : 191\tEpoch 12 --- Training Accuracy: 86.719%, Validation Accuracy: 89.844%, Validation Loss: 0.270 \n",
      "Optimize_iterations : 192\tEpoch 13 --- Training Accuracy: 87.500%, Validation Accuracy: 92.969%, Validation Loss: 0.229 \n",
      "Optimize_iterations : 193\tEpoch 14 --- Training Accuracy: 92.188%, Validation Accuracy: 92.188%, Validation Loss: 0.231 \n",
      "Optimize_iterations : 194\tEpoch 15 --- Training Accuracy: 88.281%, Validation Accuracy: 94.531%, Validation Loss: 0.202 *\n",
      "Optimize_iterations : 195\tEpoch 1 --- Training Accuracy: 95.312%, Validation Accuracy: 92.188%, Validation Loss: 0.223 \n",
      "Optimize_iterations : 196\tEpoch 2 --- Training Accuracy: 93.750%, Validation Accuracy: 87.500%, Validation Loss: 0.288 \n",
      "Optimize_iterations : 197\tEpoch 3 --- Training Accuracy: 91.406%, Validation Accuracy: 91.406%, Validation Loss: 0.276 \n",
      "Optimize_iterations : 198\tEpoch 4 --- Training Accuracy: 88.281%, Validation Accuracy: 87.500%, Validation Loss: 0.283 \n",
      "Optimize_iterations : 199\tEpoch 5 --- Training Accuracy: 95.312%, Validation Accuracy: 89.062%, Validation Loss: 0.283 \n",
      "Optimize_iterations : 200\tEpoch 6 --- Training Accuracy: 90.625%, Validation Accuracy: 94.531%, Validation Loss: 0.190 *\n",
      "Optimize_iterations : 201\tEpoch 7 --- Training Accuracy: 90.625%, Validation Accuracy: 92.188%, Validation Loss: 0.222 \n",
      "Optimize_iterations : 202\tEpoch 8 --- Training Accuracy: 86.719%, Validation Accuracy: 90.625%, Validation Loss: 0.242 \n",
      "Optimize_iterations : 203\tEpoch 9 --- Training Accuracy: 96.094%, Validation Accuracy: 96.094%, Validation Loss: 0.206 \n",
      "Optimize_iterations : 204\tEpoch 10 --- Training Accuracy: 92.969%, Validation Accuracy: 88.281%, Validation Loss: 0.289 \n",
      "Optimize_iterations : 205\tEpoch 11 --- Training Accuracy: 88.281%, Validation Accuracy: 84.375%, Validation Loss: 0.413 \n",
      "Optimize_iterations : 206\tEpoch 12 --- Training Accuracy: 86.719%, Validation Accuracy: 94.531%, Validation Loss: 0.242 \n",
      "Optimize_iterations : 207\tEpoch 13 --- Training Accuracy: 93.750%, Validation Accuracy: 92.188%, Validation Loss: 0.234 \n",
      "Optimize_iterations : 208\tEpoch 14 --- Training Accuracy: 89.844%, Validation Accuracy: 91.406%, Validation Loss: 0.239 \n",
      "Optimize_iterations : 209\tEpoch 15 --- Training Accuracy: 92.969%, Validation Accuracy: 93.750%, Validation Loss: 0.197 \n",
      "Optimize_iterations : 210\tEpoch 1 --- Training Accuracy: 93.750%, Validation Accuracy: 93.750%, Validation Loss: 0.182 *\n",
      "Optimize_iterations : 211\tEpoch 2 --- Training Accuracy: 93.750%, Validation Accuracy: 88.281%, Validation Loss: 0.285 \n",
      "Optimize_iterations : 212\tEpoch 3 --- Training Accuracy: 90.625%, Validation Accuracy: 93.750%, Validation Loss: 0.243 \n",
      "Optimize_iterations : 213\tEpoch 4 --- Training Accuracy: 93.750%, Validation Accuracy: 87.500%, Validation Loss: 0.273 \n",
      "Optimize_iterations : 214\tEpoch 5 --- Training Accuracy: 90.625%, Validation Accuracy: 90.625%, Validation Loss: 0.237 \n",
      "Optimize_iterations : 215\tEpoch 6 --- Training Accuracy: 92.969%, Validation Accuracy: 95.312%, Validation Loss: 0.193 \n",
      "Optimize_iterations : 216\tEpoch 7 --- Training Accuracy: 91.406%, Validation Accuracy: 94.531%, Validation Loss: 0.190 \n",
      "Optimize_iterations : 217\tEpoch 8 --- Training Accuracy: 95.312%, Validation Accuracy: 91.406%, Validation Loss: 0.263 \n",
      "Optimize_iterations : 218\tEpoch 9 --- Training Accuracy: 95.312%, Validation Accuracy: 94.531%, Validation Loss: 0.195 \n",
      "Optimize_iterations : 219\tEpoch 10 --- Training Accuracy: 92.188%, Validation Accuracy: 90.625%, Validation Loss: 0.234 \n",
      "Optimize_iterations : 220\tEpoch 11 --- Training Accuracy: 88.281%, Validation Accuracy: 89.844%, Validation Loss: 0.276 \n",
      "Optimize_iterations : 221\tEpoch 12 --- Training Accuracy: 96.875%, Validation Accuracy: 96.094%, Validation Loss: 0.182 *\n",
      "Optimize_iterations : 222\tEpoch 13 --- Training Accuracy: 90.625%, Validation Accuracy: 94.531%, Validation Loss: 0.200 \n",
      "Optimize_iterations : 223\tEpoch 14 --- Training Accuracy: 95.312%, Validation Accuracy: 90.625%, Validation Loss: 0.232 \n",
      "Optimize_iterations : 224\tEpoch 15 --- Training Accuracy: 92.969%, Validation Accuracy: 95.312%, Validation Loss: 0.199 \n",
      "Optimize_iterations : 225\tEpoch 1 --- Training Accuracy: 96.094%, Validation Accuracy: 90.625%, Validation Loss: 0.228 \n",
      "Optimize_iterations : 226\tEpoch 2 --- Training Accuracy: 92.188%, Validation Accuracy: 88.281%, Validation Loss: 0.249 \n",
      "Optimize_iterations : 227\tEpoch 3 --- Training Accuracy: 96.875%, Validation Accuracy: 96.875%, Validation Loss: 0.186 \n",
      "Optimize_iterations : 228\tEpoch 4 --- Training Accuracy: 91.406%, Validation Accuracy: 94.531%, Validation Loss: 0.196 \n",
      "Optimize_iterations : 229\tEpoch 5 --- Training Accuracy: 94.531%, Validation Accuracy: 92.188%, Validation Loss: 0.224 \n",
      "Optimize_iterations : 230\tEpoch 6 --- Training Accuracy: 91.406%, Validation Accuracy: 95.312%, Validation Loss: 0.201 \n",
      "Optimize_iterations : 231\tEpoch 7 --- Training Accuracy: 96.094%, Validation Accuracy: 90.625%, Validation Loss: 0.208 \n",
      "Optimize_iterations : 232\tEpoch 8 --- Training Accuracy: 94.531%, Validation Accuracy: 89.062%, Validation Loss: 0.252 \n",
      "Optimize_iterations : 233\tEpoch 9 --- Training Accuracy: 92.188%, Validation Accuracy: 94.531%, Validation Loss: 0.211 \n",
      "Optimize_iterations : 234\tEpoch 10 --- Training Accuracy: 89.844%, Validation Accuracy: 91.406%, Validation Loss: 0.177 *\n",
      "Optimize_iterations : 235\tEpoch 11 --- Training Accuracy: 94.531%, Validation Accuracy: 92.188%, Validation Loss: 0.220 \n",
      "Optimize_iterations : 236\tEpoch 12 --- Training Accuracy: 90.625%, Validation Accuracy: 95.312%, Validation Loss: 0.183 \n",
      "Optimize_iterations : 237\tEpoch 13 --- Training Accuracy: 96.094%, Validation Accuracy: 91.406%, Validation Loss: 0.195 \n",
      "Optimize_iterations : 238\tEpoch 14 --- Training Accuracy: 95.312%, Validation Accuracy: 89.844%, Validation Loss: 0.256 \n",
      "Optimize_iterations : 239\tEpoch 15 --- Training Accuracy: 94.531%, Validation Accuracy: 93.750%, Validation Loss: 0.178 \n",
      "Optimize_iterations : 240\tEpoch 1 --- Training Accuracy: 92.188%, Validation Accuracy: 93.750%, Validation Loss: 0.219 \n",
      "Optimize_iterations : 241\tEpoch 2 --- Training Accuracy: 96.875%, Validation Accuracy: 90.625%, Validation Loss: 0.225 \n",
      "Optimize_iterations : 242\tEpoch 3 --- Training Accuracy: 92.188%, Validation Accuracy: 95.312%, Validation Loss: 0.178 \n",
      "Optimize_iterations : 243\tEpoch 4 --- Training Accuracy: 94.531%, Validation Accuracy: 92.969%, Validation Loss: 0.185 \n",
      "Optimize_iterations : 244\tEpoch 5 --- Training Accuracy: 90.625%, Validation Accuracy: 90.625%, Validation Loss: 0.233 \n",
      "Optimize_iterations : 245\tEpoch 6 --- Training Accuracy: 96.094%, Validation Accuracy: 95.312%, Validation Loss: 0.216 \n",
      "Optimize_iterations : 246\tEpoch 7 --- Training Accuracy: 91.406%, Validation Accuracy: 88.281%, Validation Loss: 0.269 \n",
      "Optimize_iterations : 247\tEpoch 8 --- Training Accuracy: 89.062%, Validation Accuracy: 86.719%, Validation Loss: 0.326 \n",
      "Optimize_iterations : 248\tEpoch 9 --- Training Accuracy: 88.281%, Validation Accuracy: 95.312%, Validation Loss: 0.175 *\n",
      "Optimize_iterations : 249\tEpoch 10 --- Training Accuracy: 92.188%, Validation Accuracy: 92.188%, Validation Loss: 0.197 \n",
      "Optimize_iterations : 250\tEpoch 11 --- Training Accuracy: 90.625%, Validation Accuracy: 90.625%, Validation Loss: 0.236 \n",
      "Optimize_iterations : 251\tEpoch 12 --- Training Accuracy: 96.094%, Validation Accuracy: 96.094%, Validation Loss: 0.162 *\n",
      "Optimize_iterations : 252\tEpoch 13 --- Training Accuracy: 96.875%, Validation Accuracy: 89.844%, Validation Loss: 0.227 \n",
      "Optimize_iterations : 253\tEpoch 14 --- Training Accuracy: 96.094%, Validation Accuracy: 86.719%, Validation Loss: 0.350 \n",
      "Optimize_iterations : 254\tEpoch 15 --- Training Accuracy: 93.750%, Validation Accuracy: 95.312%, Validation Loss: 0.187 \n",
      "Optimize_iterations : 255\tEpoch 1 --- Training Accuracy: 96.875%, Validation Accuracy: 92.188%, Validation Loss: 0.199 \n",
      "Optimize_iterations : 256\tEpoch 2 --- Training Accuracy: 90.625%, Validation Accuracy: 91.406%, Validation Loss: 0.259 \n",
      "Optimize_iterations : 257\tEpoch 3 --- Training Accuracy: 92.969%, Validation Accuracy: 95.312%, Validation Loss: 0.159 *\n",
      "Optimize_iterations : 258\tEpoch 4 --- Training Accuracy: 89.844%, Validation Accuracy: 90.625%, Validation Loss: 0.169 \n",
      "Optimize_iterations : 259\tEpoch 5 --- Training Accuracy: 96.094%, Validation Accuracy: 85.156%, Validation Loss: 0.313 \n",
      "Optimize_iterations : 260\tEpoch 6 --- Training Accuracy: 90.625%, Validation Accuracy: 87.500%, Validation Loss: 0.275 \n",
      "Optimize_iterations : 261\tEpoch 7 --- Training Accuracy: 90.625%, Validation Accuracy: 91.406%, Validation Loss: 0.219 \n",
      "Optimize_iterations : 262\tEpoch 8 --- Training Accuracy: 87.500%, Validation Accuracy: 92.188%, Validation Loss: 0.223 \n",
      "Optimize_iterations : 263\tEpoch 9 --- Training Accuracy: 93.750%, Validation Accuracy: 93.750%, Validation Loss: 0.184 \n",
      "Optimize_iterations : 264\tEpoch 10 --- Training Accuracy: 91.406%, Validation Accuracy: 93.750%, Validation Loss: 0.186 \n",
      "Optimize_iterations : 265\tEpoch 11 --- Training Accuracy: 96.094%, Validation Accuracy: 91.406%, Validation Loss: 0.204 \n",
      "Optimize_iterations : 266\tEpoch 12 --- Training Accuracy: 97.656%, Validation Accuracy: 92.188%, Validation Loss: 0.219 \n",
      "Optimize_iterations : 267\tEpoch 13 --- Training Accuracy: 93.750%, Validation Accuracy: 87.500%, Validation Loss: 0.312 \n",
      "Optimize_iterations : 268\tEpoch 14 --- Training Accuracy: 92.969%, Validation Accuracy: 85.938%, Validation Loss: 0.271 \n",
      "Optimize_iterations : 269\tEpoch 15 --- Training Accuracy: 96.094%, Validation Accuracy: 96.875%, Validation Loss: 0.168 \n",
      "Optimize_iterations : 270\tEpoch 1 --- Training Accuracy: 91.406%, Validation Accuracy: 94.531%, Validation Loss: 0.169 \n",
      "Optimize_iterations : 271\tEpoch 2 --- Training Accuracy: 95.312%, Validation Accuracy: 91.406%, Validation Loss: 0.203 \n",
      "Optimize_iterations : 272\tEpoch 3 --- Training Accuracy: 92.969%, Validation Accuracy: 95.312%, Validation Loss: 0.176 \n",
      "Optimize_iterations : 273\tEpoch 4 --- Training Accuracy: 96.875%, Validation Accuracy: 90.625%, Validation Loss: 0.228 \n",
      "Optimize_iterations : 274\tEpoch 5 --- Training Accuracy: 91.406%, Validation Accuracy: 87.500%, Validation Loss: 0.344 \n",
      "Optimize_iterations : 275\tEpoch 6 --- Training Accuracy: 90.625%, Validation Accuracy: 93.750%, Validation Loss: 0.242 \n",
      "Optimize_iterations : 276\tEpoch 7 --- Training Accuracy: 89.062%, Validation Accuracy: 90.625%, Validation Loss: 0.192 \n",
      "Optimize_iterations : 277\tEpoch 8 --- Training Accuracy: 94.531%, Validation Accuracy: 94.531%, Validation Loss: 0.190 \n",
      "Optimize_iterations : 278\tEpoch 9 --- Training Accuracy: 89.844%, Validation Accuracy: 94.531%, Validation Loss: 0.163 \n",
      "Optimize_iterations : 279\tEpoch 10 --- Training Accuracy: 94.531%, Validation Accuracy: 92.188%, Validation Loss: 0.192 \n",
      "Optimize_iterations : 280\tEpoch 11 --- Training Accuracy: 96.094%, Validation Accuracy: 89.844%, Validation Loss: 0.232 \n",
      "Optimize_iterations : 281\tEpoch 12 --- Training Accuracy: 96.094%, Validation Accuracy: 93.750%, Validation Loss: 0.213 \n",
      "Optimize_iterations : 282\tEpoch 13 --- Training Accuracy: 94.531%, Validation Accuracy: 88.281%, Validation Loss: 0.217 \n",
      "Optimize_iterations : 283\tEpoch 14 --- Training Accuracy: 95.312%, Validation Accuracy: 89.844%, Validation Loss: 0.268 \n",
      "Optimize_iterations : 284\tEpoch 15 --- Training Accuracy: 93.750%, Validation Accuracy: 95.312%, Validation Loss: 0.166 \n",
      "Optimize_iterations : 285\tEpoch 1 --- Training Accuracy: 94.531%, Validation Accuracy: 92.969%, Validation Loss: 0.190 \n",
      "Optimize_iterations : 286\tEpoch 2 --- Training Accuracy: 92.969%, Validation Accuracy: 92.188%, Validation Loss: 0.228 \n",
      "Optimize_iterations : 287\tEpoch 3 --- Training Accuracy: 98.438%, Validation Accuracy: 96.094%, Validation Loss: 0.169 \n",
      "Optimize_iterations : 288\tEpoch 4 --- Training Accuracy: 95.312%, Validation Accuracy: 88.281%, Validation Loss: 0.214 \n",
      "Optimize_iterations : 289\tEpoch 5 --- Training Accuracy: 89.844%, Validation Accuracy: 86.719%, Validation Loss: 0.351 \n",
      "Optimize_iterations : 290\tEpoch 6 --- Training Accuracy: 90.625%, Validation Accuracy: 92.969%, Validation Loss: 0.223 \n",
      "Optimize_iterations : 291\tEpoch 7 --- Training Accuracy: 99.219%, Validation Accuracy: 91.406%, Validation Loss: 0.215 \n",
      "Optimize_iterations : 292\tEpoch 8 --- Training Accuracy: 91.406%, Validation Accuracy: 90.625%, Validation Loss: 0.222 \n",
      "Optimize_iterations : 293\tEpoch 9 --- Training Accuracy: 94.531%, Validation Accuracy: 94.531%, Validation Loss: 0.182 \n",
      "Optimize_iterations : 294\tEpoch 10 --- Training Accuracy: 96.094%, Validation Accuracy: 94.531%, Validation Loss: 0.144 *\n",
      "Optimize_iterations : 295\tEpoch 11 --- Training Accuracy: 99.219%, Validation Accuracy: 91.406%, Validation Loss: 0.259 \n",
      "Optimize_iterations : 296\tEpoch 12 --- Training Accuracy: 95.312%, Validation Accuracy: 91.406%, Validation Loss: 0.206 \n",
      "Optimize_iterations : 297\tEpoch 13 --- Training Accuracy: 96.094%, Validation Accuracy: 87.500%, Validation Loss: 0.232 \n",
      "Optimize_iterations : 298\tEpoch 14 --- Training Accuracy: 95.312%, Validation Accuracy: 89.062%, Validation Loss: 0.220 \n",
      "Optimize_iterations : 299\tEpoch 15 --- Training Accuracy: 92.969%, Validation Accuracy: 95.312%, Validation Loss: 0.168 \n",
      "Optimize_iterations : 300\tEpoch 1 --- Training Accuracy: 93.750%, Validation Accuracy: 95.312%, Validation Loss: 0.158 \n",
      "End Time : 2018-05-16 06:51:50\n",
      "Time elapsed: 21:04:01\n",
      "\n",
      "==== Number of Convolutional Neural Network : Ensemble 2 ====\n",
      "Reading training images\n",
      "Loading vegetation files (Index: 0)\n",
      "Loading notVegetation files (Index: 1)\n",
      "Start Time : 2018-05-16 06:52:40\n",
      "Optimize_iterations : 1\tEpoch 2 --- Training Accuracy: 53.125%, Validation Accuracy: 64.844%, Validation Loss: 0.739 *\n",
      "Optimize_iterations : 2\tEpoch 3 --- Training Accuracy: 51.562%, Validation Accuracy: 66.406%, Validation Loss: 0.644 *\n",
      "Optimize_iterations : 3\tEpoch 4 --- Training Accuracy: 63.281%, Validation Accuracy: 50.781%, Validation Loss: 0.697 \n",
      "Optimize_iterations : 4\tEpoch 5 --- Training Accuracy: 50.781%, Validation Accuracy: 38.281%, Validation Loss: 0.720 \n",
      "Optimize_iterations : 5\tEpoch 6 --- Training Accuracy: 48.438%, Validation Accuracy: 37.500%, Validation Loss: 0.738 \n",
      "Optimize_iterations : 6\tEpoch 7 --- Training Accuracy: 46.875%, Validation Accuracy: 40.625%, Validation Loss: 0.738 \n",
      "Optimize_iterations : 7\tEpoch 8 --- Training Accuracy: 57.031%, Validation Accuracy: 44.531%, Validation Loss: 0.695 \n",
      "Optimize_iterations : 8\tEpoch 9 --- Training Accuracy: 53.125%, Validation Accuracy: 48.438%, Validation Loss: 0.681 \n",
      "Optimize_iterations : 9\tEpoch 10 --- Training Accuracy: 58.594%, Validation Accuracy: 53.906%, Validation Loss: 0.697 \n",
      "Optimize_iterations : 10\tEpoch 11 --- Training Accuracy: 56.250%, Validation Accuracy: 57.031%, Validation Loss: 0.685 \n",
      "Optimize_iterations : 11\tEpoch 12 --- Training Accuracy: 61.719%, Validation Accuracy: 49.219%, Validation Loss: 0.697 \n",
      "Optimize_iterations : 12\tEpoch 13 --- Training Accuracy: 49.219%, Validation Accuracy: 54.688%, Validation Loss: 0.704 \n",
      "Optimize_iterations : 13\tEpoch 14 --- Training Accuracy: 52.344%, Validation Accuracy: 39.062%, Validation Loss: 0.705 \n",
      "Optimize_iterations : 14\tEpoch 15 --- Training Accuracy: 64.844%, Validation Accuracy: 53.125%, Validation Loss: 0.699 \n",
      "Optimize_iterations : 15\tEpoch 1 --- Training Accuracy: 59.375%, Validation Accuracy: 49.219%, Validation Loss: 0.704 \n",
      "Optimize_iterations : 16\tEpoch 2 --- Training Accuracy: 53.906%, Validation Accuracy: 64.062%, Validation Loss: 0.688 \n",
      "Optimize_iterations : 17\tEpoch 3 --- Training Accuracy: 56.250%, Validation Accuracy: 50.781%, Validation Loss: 0.676 \n",
      "Optimize_iterations : 18\tEpoch 4 --- Training Accuracy: 50.000%, Validation Accuracy: 60.156%, Validation Loss: 0.662 \n",
      "Optimize_iterations : 19\tEpoch 5 --- Training Accuracy: 50.000%, Validation Accuracy: 56.250%, Validation Loss: 0.652 \n",
      "Optimize_iterations : 20\tEpoch 6 --- Training Accuracy: 59.375%, Validation Accuracy: 68.750%, Validation Loss: 0.656 \n",
      "Optimize_iterations : 21\tEpoch 7 --- Training Accuracy: 50.000%, Validation Accuracy: 51.562%, Validation Loss: 0.662 \n",
      "Optimize_iterations : 22\tEpoch 8 --- Training Accuracy: 45.312%, Validation Accuracy: 57.812%, Validation Loss: 0.654 \n",
      "Optimize_iterations : 23\tEpoch 9 --- Training Accuracy: 51.562%, Validation Accuracy: 51.562%, Validation Loss: 0.684 \n",
      "Optimize_iterations : 24\tEpoch 10 --- Training Accuracy: 60.156%, Validation Accuracy: 50.000%, Validation Loss: 0.687 \n",
      "Optimize_iterations : 25\tEpoch 11 --- Training Accuracy: 56.250%, Validation Accuracy: 51.562%, Validation Loss: 0.696 \n",
      "Optimize_iterations : 26\tEpoch 12 --- Training Accuracy: 55.469%, Validation Accuracy: 44.531%, Validation Loss: 0.710 \n",
      "Optimize_iterations : 27\tEpoch 13 --- Training Accuracy: 57.812%, Validation Accuracy: 39.062%, Validation Loss: 0.745 \n",
      "Optimize_iterations : 28\tEpoch 14 --- Training Accuracy: 51.562%, Validation Accuracy: 41.406%, Validation Loss: 0.704 \n",
      "Optimize_iterations : 29\tEpoch 15 --- Training Accuracy: 46.875%, Validation Accuracy: 46.094%, Validation Loss: 0.731 \n",
      "Optimize_iterations : 30\tEpoch 1 --- Training Accuracy: 52.344%, Validation Accuracy: 47.656%, Validation Loss: 0.721 \n",
      "Optimize_iterations : 31\tEpoch 2 --- Training Accuracy: 60.938%, Validation Accuracy: 59.375%, Validation Loss: 0.681 \n",
      "Optimize_iterations : 32\tEpoch 3 --- Training Accuracy: 55.469%, Validation Accuracy: 70.312%, Validation Loss: 0.668 \n",
      "Optimize_iterations : 33\tEpoch 4 --- Training Accuracy: 55.469%, Validation Accuracy: 56.250%, Validation Loss: 0.667 \n",
      "Optimize_iterations : 34\tEpoch 5 --- Training Accuracy: 57.031%, Validation Accuracy: 66.406%, Validation Loss: 0.646 \n",
      "Optimize_iterations : 35\tEpoch 6 --- Training Accuracy: 48.438%, Validation Accuracy: 61.719%, Validation Loss: 0.659 \n",
      "Optimize_iterations : 36\tEpoch 7 --- Training Accuracy: 55.469%, Validation Accuracy: 73.438%, Validation Loss: 0.632 *\n",
      "Optimize_iterations : 37\tEpoch 8 --- Training Accuracy: 54.688%, Validation Accuracy: 66.406%, Validation Loss: 0.662 \n",
      "Optimize_iterations : 38\tEpoch 9 --- Training Accuracy: 53.125%, Validation Accuracy: 55.469%, Validation Loss: 0.672 \n",
      "Optimize_iterations : 39\tEpoch 10 --- Training Accuracy: 55.469%, Validation Accuracy: 47.656%, Validation Loss: 0.717 \n",
      "Optimize_iterations : 40\tEpoch 11 --- Training Accuracy: 58.594%, Validation Accuracy: 50.781%, Validation Loss: 0.692 \n",
      "Optimize_iterations : 41\tEpoch 12 --- Training Accuracy: 59.375%, Validation Accuracy: 39.062%, Validation Loss: 0.735 \n",
      "Optimize_iterations : 42\tEpoch 13 --- Training Accuracy: 57.031%, Validation Accuracy: 32.812%, Validation Loss: 0.735 \n",
      "Optimize_iterations : 43\tEpoch 14 --- Training Accuracy: 52.344%, Validation Accuracy: 53.125%, Validation Loss: 0.717 \n",
      "Optimize_iterations : 44\tEpoch 15 --- Training Accuracy: 59.375%, Validation Accuracy: 55.469%, Validation Loss: 0.688 \n",
      "Optimize_iterations : 45\tEpoch 1 --- Training Accuracy: 63.281%, Validation Accuracy: 54.688%, Validation Loss: 0.710 \n",
      "Optimize_iterations : 46\tEpoch 2 --- Training Accuracy: 61.719%, Validation Accuracy: 68.750%, Validation Loss: 0.651 \n",
      "Optimize_iterations : 47\tEpoch 3 --- Training Accuracy: 52.344%, Validation Accuracy: 61.719%, Validation Loss: 0.652 \n",
      "Optimize_iterations : 48\tEpoch 4 --- Training Accuracy: 67.188%, Validation Accuracy: 73.438%, Validation Loss: 0.625 *\n",
      "Optimize_iterations : 49\tEpoch 5 --- Training Accuracy: 57.031%, Validation Accuracy: 68.750%, Validation Loss: 0.617 *\n",
      "Optimize_iterations : 50\tEpoch 6 --- Training Accuracy: 60.156%, Validation Accuracy: 71.875%, Validation Loss: 0.609 *\n",
      "Optimize_iterations : 51\tEpoch 7 --- Training Accuracy: 64.844%, Validation Accuracy: 60.156%, Validation Loss: 0.645 \n",
      "Optimize_iterations : 52\tEpoch 8 --- Training Accuracy: 69.531%, Validation Accuracy: 66.406%, Validation Loss: 0.631 \n",
      "Optimize_iterations : 53\tEpoch 9 --- Training Accuracy: 61.719%, Validation Accuracy: 57.031%, Validation Loss: 0.703 \n",
      "Optimize_iterations : 54\tEpoch 10 --- Training Accuracy: 63.281%, Validation Accuracy: 42.188%, Validation Loss: 0.753 \n",
      "Optimize_iterations : 55\tEpoch 11 --- Training Accuracy: 66.406%, Validation Accuracy: 52.344%, Validation Loss: 0.691 \n",
      "Optimize_iterations : 56\tEpoch 12 --- Training Accuracy: 67.969%, Validation Accuracy: 63.281%, Validation Loss: 0.639 \n",
      "Optimize_iterations : 57\tEpoch 13 --- Training Accuracy: 64.062%, Validation Accuracy: 54.688%, Validation Loss: 0.647 \n",
      "Optimize_iterations : 58\tEpoch 14 --- Training Accuracy: 62.500%, Validation Accuracy: 75.781%, Validation Loss: 0.596 *\n",
      "Optimize_iterations : 59\tEpoch 15 --- Training Accuracy: 63.281%, Validation Accuracy: 66.406%, Validation Loss: 0.613 \n",
      "Optimize_iterations : 60\tEpoch 1 --- Training Accuracy: 68.750%, Validation Accuracy: 78.906%, Validation Loss: 0.559 *\n",
      "Optimize_iterations : 61\tEpoch 2 --- Training Accuracy: 60.938%, Validation Accuracy: 74.219%, Validation Loss: 0.554 *\n",
      "Optimize_iterations : 62\tEpoch 3 --- Training Accuracy: 73.438%, Validation Accuracy: 75.781%, Validation Loss: 0.568 \n",
      "Optimize_iterations : 63\tEpoch 4 --- Training Accuracy: 64.062%, Validation Accuracy: 65.625%, Validation Loss: 0.639 \n",
      "Optimize_iterations : 64\tEpoch 5 --- Training Accuracy: 70.312%, Validation Accuracy: 72.656%, Validation Loss: 0.585 \n",
      "Optimize_iterations : 65\tEpoch 6 --- Training Accuracy: 72.656%, Validation Accuracy: 62.500%, Validation Loss: 0.662 \n",
      "Optimize_iterations : 66\tEpoch 7 --- Training Accuracy: 64.844%, Validation Accuracy: 56.250%, Validation Loss: 0.698 \n",
      "Optimize_iterations : 67\tEpoch 8 --- Training Accuracy: 70.312%, Validation Accuracy: 61.719%, Validation Loss: 0.622 \n",
      "Optimize_iterations : 68\tEpoch 9 --- Training Accuracy: 64.062%, Validation Accuracy: 63.281%, Validation Loss: 0.626 \n",
      "Optimize_iterations : 69\tEpoch 10 --- Training Accuracy: 72.656%, Validation Accuracy: 60.156%, Validation Loss: 0.679 \n",
      "Optimize_iterations : 70\tEpoch 11 --- Training Accuracy: 72.656%, Validation Accuracy: 76.562%, Validation Loss: 0.570 \n",
      "Optimize_iterations : 71\tEpoch 12 --- Training Accuracy: 75.000%, Validation Accuracy: 67.969%, Validation Loss: 0.593 \n",
      "Optimize_iterations : 72\tEpoch 13 --- Training Accuracy: 69.531%, Validation Accuracy: 78.906%, Validation Loss: 0.531 *\n",
      "Optimize_iterations : 73\tEpoch 14 --- Training Accuracy: 67.969%, Validation Accuracy: 76.562%, Validation Loss: 0.528 *\n",
      "Optimize_iterations : 74\tEpoch 15 --- Training Accuracy: 71.094%, Validation Accuracy: 78.906%, Validation Loss: 0.558 \n",
      "Optimize_iterations : 75\tEpoch 1 --- Training Accuracy: 69.531%, Validation Accuracy: 67.188%, Validation Loss: 0.598 \n",
      "Optimize_iterations : 76\tEpoch 2 --- Training Accuracy: 76.562%, Validation Accuracy: 78.125%, Validation Loss: 0.530 \n",
      "Optimize_iterations : 77\tEpoch 3 --- Training Accuracy: 71.094%, Validation Accuracy: 67.969%, Validation Loss: 0.603 \n",
      "Optimize_iterations : 78\tEpoch 4 --- Training Accuracy: 72.656%, Validation Accuracy: 67.188%, Validation Loss: 0.619 \n",
      "Optimize_iterations : 79\tEpoch 5 --- Training Accuracy: 77.344%, Validation Accuracy: 71.875%, Validation Loss: 0.578 \n",
      "Optimize_iterations : 80\tEpoch 6 --- Training Accuracy: 69.531%, Validation Accuracy: 63.281%, Validation Loss: 0.619 \n",
      "Optimize_iterations : 81\tEpoch 7 --- Training Accuracy: 77.344%, Validation Accuracy: 62.500%, Validation Loss: 0.632 \n",
      "Optimize_iterations : 82\tEpoch 8 --- Training Accuracy: 67.969%, Validation Accuracy: 79.688%, Validation Loss: 0.529 \n",
      "Optimize_iterations : 83\tEpoch 9 --- Training Accuracy: 76.562%, Validation Accuracy: 71.094%, Validation Loss: 0.541 \n",
      "Optimize_iterations : 84\tEpoch 10 --- Training Accuracy: 80.469%, Validation Accuracy: 78.125%, Validation Loss: 0.525 *\n",
      "Optimize_iterations : 85\tEpoch 11 --- Training Accuracy: 75.781%, Validation Accuracy: 77.344%, Validation Loss: 0.479 *\n",
      "Optimize_iterations : 86\tEpoch 12 --- Training Accuracy: 73.438%, Validation Accuracy: 78.125%, Validation Loss: 0.517 \n",
      "Optimize_iterations : 87\tEpoch 13 --- Training Accuracy: 76.562%, Validation Accuracy: 72.656%, Validation Loss: 0.554 \n",
      "Optimize_iterations : 88\tEpoch 14 --- Training Accuracy: 80.469%, Validation Accuracy: 78.906%, Validation Loss: 0.498 \n",
      "Optimize_iterations : 89\tEpoch 15 --- Training Accuracy: 72.656%, Validation Accuracy: 75.000%, Validation Loss: 0.527 \n",
      "Optimize_iterations : 90\tEpoch 1 --- Training Accuracy: 78.125%, Validation Accuracy: 75.000%, Validation Loss: 0.550 \n",
      "Optimize_iterations : 91\tEpoch 2 --- Training Accuracy: 76.562%, Validation Accuracy: 77.344%, Validation Loss: 0.505 \n",
      "Optimize_iterations : 92\tEpoch 3 --- Training Accuracy: 80.469%, Validation Accuracy: 78.125%, Validation Loss: 0.544 \n",
      "Optimize_iterations : 93\tEpoch 4 --- Training Accuracy: 83.594%, Validation Accuracy: 70.312%, Validation Loss: 0.575 \n",
      "Optimize_iterations : 94\tEpoch 5 --- Training Accuracy: 80.469%, Validation Accuracy: 81.250%, Validation Loss: 0.477 *\n",
      "Optimize_iterations : 95\tEpoch 6 --- Training Accuracy: 78.906%, Validation Accuracy: 78.906%, Validation Loss: 0.517 \n",
      "Optimize_iterations : 96\tEpoch 7 --- Training Accuracy: 78.906%, Validation Accuracy: 77.344%, Validation Loss: 0.501 \n",
      "Optimize_iterations : 97\tEpoch 8 --- Training Accuracy: 81.250%, Validation Accuracy: 83.594%, Validation Loss: 0.438 *\n",
      "Optimize_iterations : 98\tEpoch 9 --- Training Accuracy: 78.906%, Validation Accuracy: 81.250%, Validation Loss: 0.467 \n",
      "Optimize_iterations : 99\tEpoch 10 --- Training Accuracy: 78.906%, Validation Accuracy: 76.562%, Validation Loss: 0.515 \n",
      "Optimize_iterations : 100\tEpoch 11 --- Training Accuracy: 77.344%, Validation Accuracy: 84.375%, Validation Loss: 0.425 *\n",
      "Optimize_iterations : 101\tEpoch 12 --- Training Accuracy: 76.562%, Validation Accuracy: 82.812%, Validation Loss: 0.464 \n",
      "Optimize_iterations : 102\tEpoch 13 --- Training Accuracy: 82.031%, Validation Accuracy: 75.781%, Validation Loss: 0.490 \n",
      "Optimize_iterations : 103\tEpoch 14 --- Training Accuracy: 80.469%, Validation Accuracy: 85.938%, Validation Loss: 0.395 *\n",
      "Optimize_iterations : 104\tEpoch 15 --- Training Accuracy: 85.156%, Validation Accuracy: 85.156%, Validation Loss: 0.436 \n",
      "Optimize_iterations : 105\tEpoch 1 --- Training Accuracy: 79.688%, Validation Accuracy: 79.688%, Validation Loss: 0.461 \n",
      "Optimize_iterations : 106\tEpoch 2 --- Training Accuracy: 85.156%, Validation Accuracy: 86.719%, Validation Loss: 0.437 \n",
      "Optimize_iterations : 107\tEpoch 3 --- Training Accuracy: 87.500%, Validation Accuracy: 75.781%, Validation Loss: 0.478 \n",
      "Optimize_iterations : 108\tEpoch 4 --- Training Accuracy: 89.844%, Validation Accuracy: 81.250%, Validation Loss: 0.471 \n",
      "Optimize_iterations : 109\tEpoch 5 --- Training Accuracy: 85.938%, Validation Accuracy: 85.938%, Validation Loss: 0.366 *\n",
      "Optimize_iterations : 110\tEpoch 6 --- Training Accuracy: 80.469%, Validation Accuracy: 88.281%, Validation Loss: 0.371 \n",
      "Optimize_iterations : 111\tEpoch 7 --- Training Accuracy: 88.281%, Validation Accuracy: 88.281%, Validation Loss: 0.419 \n",
      "Optimize_iterations : 112\tEpoch 8 --- Training Accuracy: 82.812%, Validation Accuracy: 89.062%, Validation Loss: 0.406 \n",
      "Optimize_iterations : 113\tEpoch 9 --- Training Accuracy: 85.938%, Validation Accuracy: 83.594%, Validation Loss: 0.396 \n",
      "Optimize_iterations : 114\tEpoch 10 --- Training Accuracy: 86.719%, Validation Accuracy: 82.812%, Validation Loss: 0.389 \n",
      "Optimize_iterations : 115\tEpoch 11 --- Training Accuracy: 83.594%, Validation Accuracy: 85.938%, Validation Loss: 0.337 *\n",
      "Optimize_iterations : 116\tEpoch 12 --- Training Accuracy: 91.406%, Validation Accuracy: 91.406%, Validation Loss: 0.328 *\n",
      "Optimize_iterations : 117\tEpoch 13 --- Training Accuracy: 85.938%, Validation Accuracy: 84.375%, Validation Loss: 0.402 \n",
      "Optimize_iterations : 118\tEpoch 14 --- Training Accuracy: 85.938%, Validation Accuracy: 91.406%, Validation Loss: 0.339 \n",
      "Optimize_iterations : 119\tEpoch 15 --- Training Accuracy: 84.375%, Validation Accuracy: 89.062%, Validation Loss: 0.389 \n",
      "Optimize_iterations : 120\tEpoch 1 --- Training Accuracy: 92.188%, Validation Accuracy: 84.375%, Validation Loss: 0.412 \n",
      "Optimize_iterations : 121\tEpoch 2 --- Training Accuracy: 91.406%, Validation Accuracy: 85.156%, Validation Loss: 0.306 *\n",
      "Optimize_iterations : 122\tEpoch 3 --- Training Accuracy: 85.938%, Validation Accuracy: 91.406%, Validation Loss: 0.292 *\n",
      "Optimize_iterations : 123\tEpoch 4 --- Training Accuracy: 86.719%, Validation Accuracy: 83.594%, Validation Loss: 0.375 \n",
      "Optimize_iterations : 124\tEpoch 5 --- Training Accuracy: 85.938%, Validation Accuracy: 90.625%, Validation Loss: 0.338 \n",
      "Optimize_iterations : 125\tEpoch 6 --- Training Accuracy: 89.844%, Validation Accuracy: 85.938%, Validation Loss: 0.387 \n",
      "Optimize_iterations : 126\tEpoch 7 --- Training Accuracy: 85.938%, Validation Accuracy: 85.156%, Validation Loss: 0.345 \n",
      "Optimize_iterations : 127\tEpoch 8 --- Training Accuracy: 85.938%, Validation Accuracy: 90.625%, Validation Loss: 0.270 *\n",
      "Optimize_iterations : 128\tEpoch 9 --- Training Accuracy: 87.500%, Validation Accuracy: 89.062%, Validation Loss: 0.265 *\n",
      "Optimize_iterations : 129\tEpoch 10 --- Training Accuracy: 87.500%, Validation Accuracy: 86.719%, Validation Loss: 0.368 \n",
      "Optimize_iterations : 130\tEpoch 11 --- Training Accuracy: 91.406%, Validation Accuracy: 85.156%, Validation Loss: 0.351 \n",
      "Optimize_iterations : 131\tEpoch 12 --- Training Accuracy: 89.062%, Validation Accuracy: 91.406%, Validation Loss: 0.283 \n",
      "Optimize_iterations : 132\tEpoch 13 --- Training Accuracy: 86.719%, Validation Accuracy: 87.500%, Validation Loss: 0.297 \n",
      "Optimize_iterations : 133\tEpoch 14 --- Training Accuracy: 88.281%, Validation Accuracy: 90.625%, Validation Loss: 0.256 *\n",
      "Optimize_iterations : 134\tEpoch 15 --- Training Accuracy: 91.406%, Validation Accuracy: 92.969%, Validation Loss: 0.260 \n",
      "Optimize_iterations : 135\tEpoch 1 --- Training Accuracy: 91.406%, Validation Accuracy: 88.281%, Validation Loss: 0.332 \n",
      "Optimize_iterations : 136\tEpoch 2 --- Training Accuracy: 89.844%, Validation Accuracy: 90.625%, Validation Loss: 0.305 \n",
      "Optimize_iterations : 137\tEpoch 3 --- Training Accuracy: 88.281%, Validation Accuracy: 90.625%, Validation Loss: 0.252 *\n",
      "Optimize_iterations : 138\tEpoch 4 --- Training Accuracy: 89.844%, Validation Accuracy: 85.938%, Validation Loss: 0.331 \n",
      "Optimize_iterations : 139\tEpoch 5 --- Training Accuracy: 89.844%, Validation Accuracy: 87.500%, Validation Loss: 0.313 \n",
      "Optimize_iterations : 140\tEpoch 6 --- Training Accuracy: 89.062%, Validation Accuracy: 93.750%, Validation Loss: 0.247 *\n",
      "Optimize_iterations : 141\tEpoch 7 --- Training Accuracy: 91.406%, Validation Accuracy: 92.188%, Validation Loss: 0.298 \n",
      "Optimize_iterations : 142\tEpoch 8 --- Training Accuracy: 89.062%, Validation Accuracy: 91.406%, Validation Loss: 0.259 \n",
      "Optimize_iterations : 143\tEpoch 9 --- Training Accuracy: 85.938%, Validation Accuracy: 95.312%, Validation Loss: 0.245 *\n",
      "Optimize_iterations : 144\tEpoch 10 --- Training Accuracy: 93.750%, Validation Accuracy: 88.281%, Validation Loss: 0.319 \n",
      "Optimize_iterations : 145\tEpoch 11 --- Training Accuracy: 90.625%, Validation Accuracy: 89.844%, Validation Loss: 0.271 \n",
      "Optimize_iterations : 146\tEpoch 12 --- Training Accuracy: 88.281%, Validation Accuracy: 92.969%, Validation Loss: 0.232 *\n",
      "Optimize_iterations : 147\tEpoch 13 --- Training Accuracy: 87.500%, Validation Accuracy: 83.594%, Validation Loss: 0.360 \n",
      "Optimize_iterations : 148\tEpoch 14 --- Training Accuracy: 92.188%, Validation Accuracy: 90.625%, Validation Loss: 0.273 \n",
      "Optimize_iterations : 149\tEpoch 15 --- Training Accuracy: 92.969%, Validation Accuracy: 91.406%, Validation Loss: 0.223 *\n",
      "Optimize_iterations : 150\tEpoch 1 --- Training Accuracy: 92.969%, Validation Accuracy: 89.062%, Validation Loss: 0.300 \n",
      "Optimize_iterations : 151\tEpoch 2 --- Training Accuracy: 90.625%, Validation Accuracy: 91.406%, Validation Loss: 0.259 \n",
      "Optimize_iterations : 152\tEpoch 3 --- Training Accuracy: 89.844%, Validation Accuracy: 90.625%, Validation Loss: 0.257 \n",
      "Optimize_iterations : 153\tEpoch 4 --- Training Accuracy: 93.750%, Validation Accuracy: 86.719%, Validation Loss: 0.376 \n",
      "Optimize_iterations : 154\tEpoch 5 --- Training Accuracy: 92.188%, Validation Accuracy: 88.281%, Validation Loss: 0.245 \n",
      "Optimize_iterations : 155\tEpoch 6 --- Training Accuracy: 91.406%, Validation Accuracy: 89.062%, Validation Loss: 0.215 *\n",
      "Optimize_iterations : 156\tEpoch 7 --- Training Accuracy: 89.062%, Validation Accuracy: 89.844%, Validation Loss: 0.278 \n",
      "Optimize_iterations : 157\tEpoch 8 --- Training Accuracy: 89.062%, Validation Accuracy: 92.188%, Validation Loss: 0.262 \n",
      "Optimize_iterations : 158\tEpoch 9 --- Training Accuracy: 92.969%, Validation Accuracy: 93.750%, Validation Loss: 0.244 \n",
      "Optimize_iterations : 159\tEpoch 10 --- Training Accuracy: 90.625%, Validation Accuracy: 87.500%, Validation Loss: 0.302 \n",
      "Optimize_iterations : 160\tEpoch 11 --- Training Accuracy: 89.062%, Validation Accuracy: 91.406%, Validation Loss: 0.260 \n",
      "Optimize_iterations : 161\tEpoch 12 --- Training Accuracy: 91.406%, Validation Accuracy: 93.750%, Validation Loss: 0.219 \n",
      "Optimize_iterations : 162\tEpoch 13 --- Training Accuracy: 94.531%, Validation Accuracy: 87.500%, Validation Loss: 0.303 \n",
      "Optimize_iterations : 163\tEpoch 14 --- Training Accuracy: 94.531%, Validation Accuracy: 95.312%, Validation Loss: 0.219 \n",
      "Optimize_iterations : 164\tEpoch 15 --- Training Accuracy: 93.750%, Validation Accuracy: 93.750%, Validation Loss: 0.195 *\n",
      "Optimize_iterations : 165\tEpoch 1 --- Training Accuracy: 91.406%, Validation Accuracy: 89.844%, Validation Loss: 0.271 \n",
      "Optimize_iterations : 166\tEpoch 2 --- Training Accuracy: 88.281%, Validation Accuracy: 90.625%, Validation Loss: 0.240 \n",
      "Optimize_iterations : 167\tEpoch 3 --- Training Accuracy: 92.188%, Validation Accuracy: 91.406%, Validation Loss: 0.253 \n",
      "Optimize_iterations : 168\tEpoch 4 --- Training Accuracy: 89.062%, Validation Accuracy: 85.156%, Validation Loss: 0.343 \n",
      "Optimize_iterations : 169\tEpoch 5 --- Training Accuracy: 94.531%, Validation Accuracy: 92.969%, Validation Loss: 0.224 \n",
      "Optimize_iterations : 170\tEpoch 6 --- Training Accuracy: 91.406%, Validation Accuracy: 94.531%, Validation Loss: 0.202 \n",
      "Optimize_iterations : 171\tEpoch 7 --- Training Accuracy: 88.281%, Validation Accuracy: 91.406%, Validation Loss: 0.239 \n",
      "Optimize_iterations : 172\tEpoch 8 --- Training Accuracy: 92.188%, Validation Accuracy: 90.625%, Validation Loss: 0.238 \n",
      "Optimize_iterations : 173\tEpoch 9 --- Training Accuracy: 92.969%, Validation Accuracy: 93.750%, Validation Loss: 0.224 \n",
      "Optimize_iterations : 174\tEpoch 10 --- Training Accuracy: 89.844%, Validation Accuracy: 84.375%, Validation Loss: 0.339 \n",
      "Optimize_iterations : 175\tEpoch 11 --- Training Accuracy: 90.625%, Validation Accuracy: 89.844%, Validation Loss: 0.324 \n",
      "Optimize_iterations : 176\tEpoch 12 --- Training Accuracy: 92.969%, Validation Accuracy: 93.750%, Validation Loss: 0.193 *\n",
      "Optimize_iterations : 177\tEpoch 13 --- Training Accuracy: 94.531%, Validation Accuracy: 91.406%, Validation Loss: 0.252 \n",
      "Optimize_iterations : 178\tEpoch 14 --- Training Accuracy: 90.625%, Validation Accuracy: 90.625%, Validation Loss: 0.253 \n",
      "Optimize_iterations : 179\tEpoch 15 --- Training Accuracy: 91.406%, Validation Accuracy: 92.188%, Validation Loss: 0.211 \n",
      "Optimize_iterations : 180\tEpoch 1 --- Training Accuracy: 88.281%, Validation Accuracy: 84.375%, Validation Loss: 0.365 \n",
      "Optimize_iterations : 181\tEpoch 2 --- Training Accuracy: 92.969%, Validation Accuracy: 85.156%, Validation Loss: 0.344 \n",
      "Optimize_iterations : 182\tEpoch 3 --- Training Accuracy: 89.844%, Validation Accuracy: 94.531%, Validation Loss: 0.225 \n",
      "Optimize_iterations : 183\tEpoch 4 --- Training Accuracy: 92.188%, Validation Accuracy: 91.406%, Validation Loss: 0.259 \n",
      "Optimize_iterations : 184\tEpoch 5 --- Training Accuracy: 91.406%, Validation Accuracy: 90.625%, Validation Loss: 0.256 \n",
      "Optimize_iterations : 185\tEpoch 6 --- Training Accuracy: 89.062%, Validation Accuracy: 92.969%, Validation Loss: 0.202 \n",
      "Optimize_iterations : 186\tEpoch 7 --- Training Accuracy: 95.312%, Validation Accuracy: 89.844%, Validation Loss: 0.285 \n",
      "Optimize_iterations : 187\tEpoch 8 --- Training Accuracy: 92.969%, Validation Accuracy: 90.625%, Validation Loss: 0.261 \n",
      "Optimize_iterations : 188\tEpoch 9 --- Training Accuracy: 89.062%, Validation Accuracy: 94.531%, Validation Loss: 0.208 \n",
      "Optimize_iterations : 189\tEpoch 10 --- Training Accuracy: 89.844%, Validation Accuracy: 87.500%, Validation Loss: 0.357 \n",
      "Optimize_iterations : 190\tEpoch 11 --- Training Accuracy: 96.875%, Validation Accuracy: 92.188%, Validation Loss: 0.257 \n",
      "Optimize_iterations : 191\tEpoch 12 --- Training Accuracy: 94.531%, Validation Accuracy: 92.969%, Validation Loss: 0.210 \n",
      "Optimize_iterations : 192\tEpoch 13 --- Training Accuracy: 91.406%, Validation Accuracy: 89.844%, Validation Loss: 0.243 \n",
      "Optimize_iterations : 193\tEpoch 14 --- Training Accuracy: 92.188%, Validation Accuracy: 92.188%, Validation Loss: 0.201 \n",
      "Optimize_iterations : 194\tEpoch 15 --- Training Accuracy: 91.406%, Validation Accuracy: 94.531%, Validation Loss: 0.216 \n",
      "Optimize_iterations : 195\tEpoch 1 --- Training Accuracy: 91.406%, Validation Accuracy: 85.938%, Validation Loss: 0.425 \n",
      "Optimize_iterations : 196\tEpoch 2 --- Training Accuracy: 89.062%, Validation Accuracy: 88.281%, Validation Loss: 0.293 \n",
      "Optimize_iterations : 197\tEpoch 3 --- Training Accuracy: 92.188%, Validation Accuracy: 93.750%, Validation Loss: 0.218 \n",
      "Optimize_iterations : 198\tEpoch 4 --- Training Accuracy: 91.406%, Validation Accuracy: 88.281%, Validation Loss: 0.245 \n",
      "Optimize_iterations : 199\tEpoch 5 --- Training Accuracy: 88.281%, Validation Accuracy: 93.750%, Validation Loss: 0.195 \n",
      "Optimize_iterations : 200\tEpoch 6 --- Training Accuracy: 92.969%, Validation Accuracy: 92.969%, Validation Loss: 0.194 \n",
      "Optimize_iterations : 201\tEpoch 7 --- Training Accuracy: 95.312%, Validation Accuracy: 92.188%, Validation Loss: 0.257 \n",
      "Optimize_iterations : 202\tEpoch 8 --- Training Accuracy: 91.406%, Validation Accuracy: 90.625%, Validation Loss: 0.276 \n",
      "Optimize_iterations : 203\tEpoch 9 --- Training Accuracy: 91.406%, Validation Accuracy: 89.062%, Validation Loss: 0.326 \n",
      "Optimize_iterations : 204\tEpoch 10 --- Training Accuracy: 93.750%, Validation Accuracy: 85.938%, Validation Loss: 0.338 \n",
      "Optimize_iterations : 205\tEpoch 11 --- Training Accuracy: 93.750%, Validation Accuracy: 92.969%, Validation Loss: 0.193 *\n",
      "Optimize_iterations : 206\tEpoch 12 --- Training Accuracy: 91.406%, Validation Accuracy: 92.969%, Validation Loss: 0.195 \n",
      "Optimize_iterations : 207\tEpoch 13 --- Training Accuracy: 91.406%, Validation Accuracy: 92.969%, Validation Loss: 0.260 \n",
      "Optimize_iterations : 208\tEpoch 14 --- Training Accuracy: 89.062%, Validation Accuracy: 92.188%, Validation Loss: 0.239 \n",
      "Optimize_iterations : 209\tEpoch 15 --- Training Accuracy: 92.969%, Validation Accuracy: 90.625%, Validation Loss: 0.269 \n",
      "Optimize_iterations : 210\tEpoch 1 --- Training Accuracy: 86.719%, Validation Accuracy: 82.031%, Validation Loss: 0.494 \n",
      "Optimize_iterations : 211\tEpoch 2 --- Training Accuracy: 92.188%, Validation Accuracy: 87.500%, Validation Loss: 0.332 \n",
      "Optimize_iterations : 212\tEpoch 3 --- Training Accuracy: 92.188%, Validation Accuracy: 95.312%, Validation Loss: 0.174 *\n",
      "Optimize_iterations : 213\tEpoch 4 --- Training Accuracy: 89.062%, Validation Accuracy: 92.188%, Validation Loss: 0.248 \n",
      "Optimize_iterations : 214\tEpoch 5 --- Training Accuracy: 92.969%, Validation Accuracy: 89.062%, Validation Loss: 0.259 \n",
      "Optimize_iterations : 215\tEpoch 6 --- Training Accuracy: 92.188%, Validation Accuracy: 89.844%, Validation Loss: 0.226 \n",
      "Optimize_iterations : 216\tEpoch 7 --- Training Accuracy: 91.406%, Validation Accuracy: 91.406%, Validation Loss: 0.236 \n",
      "Optimize_iterations : 217\tEpoch 8 --- Training Accuracy: 92.969%, Validation Accuracy: 89.844%, Validation Loss: 0.283 \n",
      "Optimize_iterations : 218\tEpoch 9 --- Training Accuracy: 92.188%, Validation Accuracy: 89.062%, Validation Loss: 0.281 \n",
      "Optimize_iterations : 219\tEpoch 10 --- Training Accuracy: 91.406%, Validation Accuracy: 87.500%, Validation Loss: 0.321 \n",
      "Optimize_iterations : 220\tEpoch 11 --- Training Accuracy: 93.750%, Validation Accuracy: 91.406%, Validation Loss: 0.220 \n",
      "Optimize_iterations : 221\tEpoch 12 --- Training Accuracy: 90.625%, Validation Accuracy: 92.969%, Validation Loss: 0.216 \n",
      "Optimize_iterations : 222\tEpoch 13 --- Training Accuracy: 87.500%, Validation Accuracy: 90.625%, Validation Loss: 0.227 \n",
      "Optimize_iterations : 223\tEpoch 14 --- Training Accuracy: 92.969%, Validation Accuracy: 96.094%, Validation Loss: 0.203 \n",
      "Optimize_iterations : 224\tEpoch 15 --- Training Accuracy: 93.750%, Validation Accuracy: 95.312%, Validation Loss: 0.203 \n",
      "Optimize_iterations : 225\tEpoch 1 --- Training Accuracy: 95.312%, Validation Accuracy: 86.719%, Validation Loss: 0.340 \n",
      "Optimize_iterations : 226\tEpoch 2 --- Training Accuracy: 90.625%, Validation Accuracy: 90.625%, Validation Loss: 0.318 \n",
      "Optimize_iterations : 227\tEpoch 3 --- Training Accuracy: 90.625%, Validation Accuracy: 93.750%, Validation Loss: 0.220 \n",
      "Optimize_iterations : 228\tEpoch 4 --- Training Accuracy: 94.531%, Validation Accuracy: 91.406%, Validation Loss: 0.247 \n",
      "Optimize_iterations : 229\tEpoch 5 --- Training Accuracy: 94.531%, Validation Accuracy: 95.312%, Validation Loss: 0.188 \n",
      "Optimize_iterations : 230\tEpoch 6 --- Training Accuracy: 90.625%, Validation Accuracy: 91.406%, Validation Loss: 0.227 \n",
      "Optimize_iterations : 231\tEpoch 7 --- Training Accuracy: 92.188%, Validation Accuracy: 93.750%, Validation Loss: 0.236 \n",
      "Optimize_iterations : 232\tEpoch 8 --- Training Accuracy: 97.656%, Validation Accuracy: 89.844%, Validation Loss: 0.259 \n",
      "Optimize_iterations : 233\tEpoch 9 --- Training Accuracy: 94.531%, Validation Accuracy: 92.969%, Validation Loss: 0.240 \n",
      "Optimize_iterations : 234\tEpoch 10 --- Training Accuracy: 92.188%, Validation Accuracy: 85.938%, Validation Loss: 0.337 \n",
      "Optimize_iterations : 235\tEpoch 11 --- Training Accuracy: 92.188%, Validation Accuracy: 94.531%, Validation Loss: 0.223 \n",
      "Optimize_iterations : 236\tEpoch 12 --- Training Accuracy: 88.281%, Validation Accuracy: 94.531%, Validation Loss: 0.188 \n",
      "Optimize_iterations : 237\tEpoch 13 --- Training Accuracy: 93.750%, Validation Accuracy: 93.750%, Validation Loss: 0.241 \n",
      "Optimize_iterations : 238\tEpoch 14 --- Training Accuracy: 89.844%, Validation Accuracy: 91.406%, Validation Loss: 0.233 \n",
      "Optimize_iterations : 239\tEpoch 15 --- Training Accuracy: 94.531%, Validation Accuracy: 93.750%, Validation Loss: 0.202 \n",
      "Optimize_iterations : 240\tEpoch 1 --- Training Accuracy: 93.750%, Validation Accuracy: 87.500%, Validation Loss: 0.285 \n",
      "Optimize_iterations : 241\tEpoch 2 --- Training Accuracy: 90.625%, Validation Accuracy: 90.625%, Validation Loss: 0.232 \n",
      "Optimize_iterations : 242\tEpoch 3 --- Training Accuracy: 92.969%, Validation Accuracy: 96.094%, Validation Loss: 0.184 \n",
      "Optimize_iterations : 243\tEpoch 4 --- Training Accuracy: 94.531%, Validation Accuracy: 91.406%, Validation Loss: 0.235 \n",
      "Optimize_iterations : 244\tEpoch 5 --- Training Accuracy: 91.406%, Validation Accuracy: 90.625%, Validation Loss: 0.242 \n",
      "Optimize_iterations : 245\tEpoch 6 --- Training Accuracy: 93.750%, Validation Accuracy: 92.969%, Validation Loss: 0.193 \n",
      "Optimize_iterations : 246\tEpoch 7 --- Training Accuracy: 95.312%, Validation Accuracy: 90.625%, Validation Loss: 0.245 \n",
      "Optimize_iterations : 247\tEpoch 8 --- Training Accuracy: 96.094%, Validation Accuracy: 91.406%, Validation Loss: 0.214 \n",
      "Optimize_iterations : 248\tEpoch 9 --- Training Accuracy: 95.312%, Validation Accuracy: 93.750%, Validation Loss: 0.161 *\n",
      "Optimize_iterations : 249\tEpoch 10 --- Training Accuracy: 92.969%, Validation Accuracy: 92.188%, Validation Loss: 0.234 \n",
      "Optimize_iterations : 250\tEpoch 11 --- Training Accuracy: 88.281%, Validation Accuracy: 92.969%, Validation Loss: 0.233 \n",
      "Optimize_iterations : 251\tEpoch 12 --- Training Accuracy: 92.969%, Validation Accuracy: 94.531%, Validation Loss: 0.203 \n",
      "Optimize_iterations : 252\tEpoch 13 --- Training Accuracy: 92.969%, Validation Accuracy: 88.281%, Validation Loss: 0.234 \n",
      "Optimize_iterations : 253\tEpoch 14 --- Training Accuracy: 93.750%, Validation Accuracy: 92.969%, Validation Loss: 0.205 \n",
      "Optimize_iterations : 254\tEpoch 15 --- Training Accuracy: 92.969%, Validation Accuracy: 96.875%, Validation Loss: 0.173 \n",
      "Optimize_iterations : 255\tEpoch 1 --- Training Accuracy: 90.625%, Validation Accuracy: 92.188%, Validation Loss: 0.241 \n",
      "Optimize_iterations : 256\tEpoch 2 --- Training Accuracy: 93.750%, Validation Accuracy: 90.625%, Validation Loss: 0.243 \n",
      "Optimize_iterations : 257\tEpoch 3 --- Training Accuracy: 95.312%, Validation Accuracy: 92.969%, Validation Loss: 0.194 \n",
      "Optimize_iterations : 258\tEpoch 4 --- Training Accuracy: 93.750%, Validation Accuracy: 89.844%, Validation Loss: 0.234 \n",
      "Optimize_iterations : 259\tEpoch 5 --- Training Accuracy: 92.188%, Validation Accuracy: 91.406%, Validation Loss: 0.222 \n",
      "Optimize_iterations : 260\tEpoch 6 --- Training Accuracy: 96.094%, Validation Accuracy: 94.531%, Validation Loss: 0.175 \n",
      "Optimize_iterations : 261\tEpoch 7 --- Training Accuracy: 96.875%, Validation Accuracy: 89.844%, Validation Loss: 0.267 \n",
      "Optimize_iterations : 262\tEpoch 8 --- Training Accuracy: 92.969%, Validation Accuracy: 90.625%, Validation Loss: 0.233 \n",
      "Optimize_iterations : 263\tEpoch 9 --- Training Accuracy: 92.188%, Validation Accuracy: 93.750%, Validation Loss: 0.175 \n",
      "Optimize_iterations : 264\tEpoch 10 --- Training Accuracy: 89.844%, Validation Accuracy: 92.188%, Validation Loss: 0.207 \n",
      "Optimize_iterations : 265\tEpoch 11 --- Training Accuracy: 96.094%, Validation Accuracy: 95.312%, Validation Loss: 0.202 \n",
      "Optimize_iterations : 266\tEpoch 12 --- Training Accuracy: 92.188%, Validation Accuracy: 92.969%, Validation Loss: 0.173 \n",
      "Optimize_iterations : 267\tEpoch 13 --- Training Accuracy: 94.531%, Validation Accuracy: 89.062%, Validation Loss: 0.294 \n",
      "Optimize_iterations : 268\tEpoch 14 --- Training Accuracy: 92.969%, Validation Accuracy: 90.625%, Validation Loss: 0.239 \n",
      "Optimize_iterations : 269\tEpoch 15 --- Training Accuracy: 92.188%, Validation Accuracy: 92.969%, Validation Loss: 0.189 \n",
      "Optimize_iterations : 270\tEpoch 1 --- Training Accuracy: 95.312%, Validation Accuracy: 92.188%, Validation Loss: 0.212 \n",
      "Optimize_iterations : 271\tEpoch 2 --- Training Accuracy: 94.531%, Validation Accuracy: 96.094%, Validation Loss: 0.187 \n",
      "Optimize_iterations : 272\tEpoch 3 --- Training Accuracy: 92.188%, Validation Accuracy: 94.531%, Validation Loss: 0.163 \n",
      "Optimize_iterations : 273\tEpoch 4 --- Training Accuracy: 95.312%, Validation Accuracy: 90.625%, Validation Loss: 0.304 \n",
      "Optimize_iterations : 274\tEpoch 5 --- Training Accuracy: 92.188%, Validation Accuracy: 87.500%, Validation Loss: 0.268 \n",
      "Optimize_iterations : 275\tEpoch 6 --- Training Accuracy: 95.312%, Validation Accuracy: 93.750%, Validation Loss: 0.212 \n",
      "Optimize_iterations : 276\tEpoch 7 --- Training Accuracy: 96.094%, Validation Accuracy: 88.281%, Validation Loss: 0.225 \n",
      "Optimize_iterations : 277\tEpoch 8 --- Training Accuracy: 92.188%, Validation Accuracy: 95.312%, Validation Loss: 0.163 \n",
      "Optimize_iterations : 278\tEpoch 9 --- Training Accuracy: 89.062%, Validation Accuracy: 95.312%, Validation Loss: 0.168 \n",
      "Optimize_iterations : 279\tEpoch 10 --- Training Accuracy: 95.312%, Validation Accuracy: 90.625%, Validation Loss: 0.273 \n",
      "Optimize_iterations : 280\tEpoch 11 --- Training Accuracy: 95.312%, Validation Accuracy: 91.406%, Validation Loss: 0.239 \n",
      "Optimize_iterations : 281\tEpoch 12 --- Training Accuracy: 96.094%, Validation Accuracy: 90.625%, Validation Loss: 0.248 \n",
      "Optimize_iterations : 282\tEpoch 13 --- Training Accuracy: 92.969%, Validation Accuracy: 89.062%, Validation Loss: 0.313 \n",
      "Optimize_iterations : 283\tEpoch 14 --- Training Accuracy: 90.625%, Validation Accuracy: 93.750%, Validation Loss: 0.220 \n",
      "Optimize_iterations : 284\tEpoch 15 --- Training Accuracy: 93.750%, Validation Accuracy: 93.750%, Validation Loss: 0.157 *\n",
      "Optimize_iterations : 285\tEpoch 1 --- Training Accuracy: 92.969%, Validation Accuracy: 92.188%, Validation Loss: 0.247 \n",
      "Optimize_iterations : 286\tEpoch 2 --- Training Accuracy: 92.188%, Validation Accuracy: 91.406%, Validation Loss: 0.249 \n",
      "Optimize_iterations : 287\tEpoch 3 --- Training Accuracy: 92.188%, Validation Accuracy: 93.750%, Validation Loss: 0.195 \n",
      "Optimize_iterations : 288\tEpoch 4 --- Training Accuracy: 96.094%, Validation Accuracy: 85.938%, Validation Loss: 0.328 \n",
      "Optimize_iterations : 289\tEpoch 5 --- Training Accuracy: 96.094%, Validation Accuracy: 91.406%, Validation Loss: 0.287 \n",
      "Optimize_iterations : 290\tEpoch 6 --- Training Accuracy: 95.312%, Validation Accuracy: 95.312%, Validation Loss: 0.182 \n",
      "Optimize_iterations : 291\tEpoch 7 --- Training Accuracy: 93.750%, Validation Accuracy: 91.406%, Validation Loss: 0.242 \n",
      "Optimize_iterations : 292\tEpoch 8 --- Training Accuracy: 89.844%, Validation Accuracy: 91.406%, Validation Loss: 0.235 \n",
      "Optimize_iterations : 293\tEpoch 9 --- Training Accuracy: 93.750%, Validation Accuracy: 93.750%, Validation Loss: 0.197 \n",
      "Optimize_iterations : 294\tEpoch 10 --- Training Accuracy: 92.969%, Validation Accuracy: 91.406%, Validation Loss: 0.227 \n",
      "Optimize_iterations : 295\tEpoch 11 --- Training Accuracy: 94.531%, Validation Accuracy: 92.969%, Validation Loss: 0.232 \n",
      "Optimize_iterations : 296\tEpoch 12 --- Training Accuracy: 91.406%, Validation Accuracy: 91.406%, Validation Loss: 0.198 \n",
      "Optimize_iterations : 297\tEpoch 13 --- Training Accuracy: 92.969%, Validation Accuracy: 88.281%, Validation Loss: 0.339 \n",
      "Optimize_iterations : 298\tEpoch 14 --- Training Accuracy: 94.531%, Validation Accuracy: 91.406%, Validation Loss: 0.227 \n",
      "Optimize_iterations : 299\tEpoch 15 --- Training Accuracy: 94.531%, Validation Accuracy: 92.969%, Validation Loss: 0.200 \n",
      "Optimize_iterations : 300\tEpoch 1 --- Training Accuracy: 91.406%, Validation Accuracy: 93.750%, Validation Loss: 0.189 \n",
      "End Time : 2018-05-17 04:00:06\n",
      "Time elapsed: 21:07:26\n",
      "\n",
      "==== Number of Convolutional Neural Network : Ensemble 3 ====\n",
      "Reading training images\n",
      "Loading vegetation files (Index: 0)\n",
      "Loading notVegetation files (Index: 1)\n",
      "Start Time : 2018-05-17 04:00:52\n",
      "Optimize_iterations : 1\tEpoch 2 --- Training Accuracy: 56.250%, Validation Accuracy: 33.594%, Validation Loss: 1.651 \n",
      "Optimize_iterations : 2\tEpoch 3 --- Training Accuracy: 50.000%, Validation Accuracy: 40.625%, Validation Loss: 0.733 *\n",
      "Optimize_iterations : 3\tEpoch 4 --- Training Accuracy: 47.656%, Validation Accuracy: 61.719%, Validation Loss: 0.715 *\n",
      "Optimize_iterations : 4\tEpoch 5 --- Training Accuracy: 50.000%, Validation Accuracy: 68.750%, Validation Loss: 0.605 *\n",
      "Optimize_iterations : 5\tEpoch 6 --- Training Accuracy: 53.906%, Validation Accuracy: 50.000%, Validation Loss: 0.672 \n",
      "Optimize_iterations : 6\tEpoch 7 --- Training Accuracy: 46.094%, Validation Accuracy: 50.781%, Validation Loss: 0.751 \n",
      "Optimize_iterations : 7\tEpoch 8 --- Training Accuracy: 41.406%, Validation Accuracy: 44.531%, Validation Loss: 0.769 \n",
      "Optimize_iterations : 8\tEpoch 9 --- Training Accuracy: 50.000%, Validation Accuracy: 43.750%, Validation Loss: 0.756 \n",
      "Optimize_iterations : 9\tEpoch 10 --- Training Accuracy: 42.969%, Validation Accuracy: 42.969%, Validation Loss: 0.734 \n",
      "Optimize_iterations : 10\tEpoch 11 --- Training Accuracy: 49.219%, Validation Accuracy: 51.562%, Validation Loss: 0.666 \n",
      "Optimize_iterations : 11\tEpoch 12 --- Training Accuracy: 44.531%, Validation Accuracy: 60.156%, Validation Loss: 0.677 \n",
      "Optimize_iterations : 12\tEpoch 13 --- Training Accuracy: 52.344%, Validation Accuracy: 57.031%, Validation Loss: 0.648 \n",
      "Optimize_iterations : 13\tEpoch 14 --- Training Accuracy: 44.531%, Validation Accuracy: 57.812%, Validation Loss: 0.674 \n",
      "Optimize_iterations : 14\tEpoch 15 --- Training Accuracy: 53.906%, Validation Accuracy: 66.406%, Validation Loss: 0.641 \n",
      "Optimize_iterations : 15\tEpoch 1 --- Training Accuracy: 52.344%, Validation Accuracy: 64.844%, Validation Loss: 0.691 \n",
      "Optimize_iterations : 16\tEpoch 2 --- Training Accuracy: 49.219%, Validation Accuracy: 59.375%, Validation Loss: 0.662 \n",
      "Optimize_iterations : 17\tEpoch 3 --- Training Accuracy: 54.688%, Validation Accuracy: 50.000%, Validation Loss: 0.699 \n",
      "Optimize_iterations : 18\tEpoch 4 --- Training Accuracy: 60.156%, Validation Accuracy: 42.188%, Validation Loss: 0.740 \n",
      "Optimize_iterations : 19\tEpoch 5 --- Training Accuracy: 58.594%, Validation Accuracy: 43.750%, Validation Loss: 0.744 \n",
      "Optimize_iterations : 20\tEpoch 6 --- Training Accuracy: 54.688%, Validation Accuracy: 42.188%, Validation Loss: 0.730 \n",
      "Optimize_iterations : 21\tEpoch 7 --- Training Accuracy: 51.562%, Validation Accuracy: 49.219%, Validation Loss: 0.718 \n",
      "Optimize_iterations : 22\tEpoch 8 --- Training Accuracy: 54.688%, Validation Accuracy: 44.531%, Validation Loss: 0.721 \n",
      "Optimize_iterations : 23\tEpoch 9 --- Training Accuracy: 56.250%, Validation Accuracy: 47.656%, Validation Loss: 0.693 \n",
      "Optimize_iterations : 24\tEpoch 10 --- Training Accuracy: 57.812%, Validation Accuracy: 48.438%, Validation Loss: 0.715 \n",
      "Optimize_iterations : 25\tEpoch 11 --- Training Accuracy: 57.812%, Validation Accuracy: 56.250%, Validation Loss: 0.698 \n",
      "Optimize_iterations : 26\tEpoch 12 --- Training Accuracy: 58.594%, Validation Accuracy: 68.750%, Validation Loss: 0.667 \n",
      "Optimize_iterations : 27\tEpoch 13 --- Training Accuracy: 58.594%, Validation Accuracy: 62.500%, Validation Loss: 0.671 \n",
      "Optimize_iterations : 28\tEpoch 14 --- Training Accuracy: 57.812%, Validation Accuracy: 55.469%, Validation Loss: 0.661 \n",
      "Optimize_iterations : 29\tEpoch 15 --- Training Accuracy: 50.000%, Validation Accuracy: 62.500%, Validation Loss: 0.661 \n",
      "Optimize_iterations : 30\tEpoch 1 --- Training Accuracy: 53.125%, Validation Accuracy: 56.250%, Validation Loss: 0.674 \n",
      "Optimize_iterations : 31\tEpoch 2 --- Training Accuracy: 64.062%, Validation Accuracy: 52.344%, Validation Loss: 0.681 \n",
      "Optimize_iterations : 32\tEpoch 3 --- Training Accuracy: 68.750%, Validation Accuracy: 53.125%, Validation Loss: 0.671 \n",
      "Optimize_iterations : 33\tEpoch 4 --- Training Accuracy: 59.375%, Validation Accuracy: 62.500%, Validation Loss: 0.690 \n",
      "Optimize_iterations : 34\tEpoch 5 --- Training Accuracy: 60.938%, Validation Accuracy: 54.688%, Validation Loss: 0.703 \n",
      "Optimize_iterations : 35\tEpoch 6 --- Training Accuracy: 57.031%, Validation Accuracy: 53.906%, Validation Loss: 0.686 \n",
      "Optimize_iterations : 36\tEpoch 7 --- Training Accuracy: 54.688%, Validation Accuracy: 57.031%, Validation Loss: 0.704 \n",
      "Optimize_iterations : 37\tEpoch 8 --- Training Accuracy: 59.375%, Validation Accuracy: 66.406%, Validation Loss: 0.665 \n",
      "Optimize_iterations : 38\tEpoch 9 --- Training Accuracy: 63.281%, Validation Accuracy: 66.406%, Validation Loss: 0.631 \n",
      "Optimize_iterations : 39\tEpoch 10 --- Training Accuracy: 60.938%, Validation Accuracy: 64.062%, Validation Loss: 0.641 \n",
      "Optimize_iterations : 40\tEpoch 11 --- Training Accuracy: 61.719%, Validation Accuracy: 70.312%, Validation Loss: 0.613 \n",
      "Optimize_iterations : 41\tEpoch 12 --- Training Accuracy: 64.062%, Validation Accuracy: 68.750%, Validation Loss: 0.638 \n",
      "Optimize_iterations : 42\tEpoch 13 --- Training Accuracy: 68.750%, Validation Accuracy: 60.938%, Validation Loss: 0.640 \n",
      "Optimize_iterations : 43\tEpoch 14 --- Training Accuracy: 59.375%, Validation Accuracy: 62.500%, Validation Loss: 0.648 \n",
      "Optimize_iterations : 44\tEpoch 15 --- Training Accuracy: 60.938%, Validation Accuracy: 60.156%, Validation Loss: 0.672 \n",
      "Optimize_iterations : 45\tEpoch 1 --- Training Accuracy: 66.406%, Validation Accuracy: 60.938%, Validation Loss: 0.663 \n",
      "Optimize_iterations : 46\tEpoch 2 --- Training Accuracy: 62.500%, Validation Accuracy: 50.000%, Validation Loss: 0.714 \n",
      "Optimize_iterations : 47\tEpoch 3 --- Training Accuracy: 60.156%, Validation Accuracy: 57.031%, Validation Loss: 0.687 \n",
      "Optimize_iterations : 48\tEpoch 4 --- Training Accuracy: 70.312%, Validation Accuracy: 60.938%, Validation Loss: 0.686 \n",
      "Optimize_iterations : 49\tEpoch 5 --- Training Accuracy: 57.031%, Validation Accuracy: 61.719%, Validation Loss: 0.626 \n",
      "Optimize_iterations : 50\tEpoch 6 --- Training Accuracy: 63.281%, Validation Accuracy: 64.844%, Validation Loss: 0.602 *\n",
      "Optimize_iterations : 51\tEpoch 7 --- Training Accuracy: 61.719%, Validation Accuracy: 71.875%, Validation Loss: 0.597 *\n",
      "Optimize_iterations : 52\tEpoch 8 --- Training Accuracy: 62.500%, Validation Accuracy: 77.344%, Validation Loss: 0.557 *\n",
      "Optimize_iterations : 53\tEpoch 9 --- Training Accuracy: 64.062%, Validation Accuracy: 72.656%, Validation Loss: 0.588 \n",
      "Optimize_iterations : 54\tEpoch 10 --- Training Accuracy: 67.188%, Validation Accuracy: 74.219%, Validation Loss: 0.605 \n",
      "Optimize_iterations : 55\tEpoch 11 --- Training Accuracy: 69.531%, Validation Accuracy: 65.625%, Validation Loss: 0.614 \n",
      "Optimize_iterations : 56\tEpoch 12 --- Training Accuracy: 69.531%, Validation Accuracy: 71.094%, Validation Loss: 0.609 \n",
      "Optimize_iterations : 57\tEpoch 13 --- Training Accuracy: 68.750%, Validation Accuracy: 66.406%, Validation Loss: 0.620 \n",
      "Optimize_iterations : 58\tEpoch 14 --- Training Accuracy: 65.625%, Validation Accuracy: 58.594%, Validation Loss: 0.699 \n",
      "Optimize_iterations : 59\tEpoch 15 --- Training Accuracy: 67.969%, Validation Accuracy: 57.031%, Validation Loss: 0.684 \n",
      "Optimize_iterations : 60\tEpoch 1 --- Training Accuracy: 66.406%, Validation Accuracy: 56.250%, Validation Loss: 0.736 \n",
      "Optimize_iterations : 61\tEpoch 2 --- Training Accuracy: 71.875%, Validation Accuracy: 61.719%, Validation Loss: 0.677 \n",
      "Optimize_iterations : 62\tEpoch 3 --- Training Accuracy: 70.312%, Validation Accuracy: 70.312%, Validation Loss: 0.610 \n",
      "Optimize_iterations : 63\tEpoch 4 --- Training Accuracy: 70.312%, Validation Accuracy: 75.781%, Validation Loss: 0.558 \n",
      "Optimize_iterations : 64\tEpoch 5 --- Training Accuracy: 69.531%, Validation Accuracy: 82.812%, Validation Loss: 0.524 *\n",
      "Optimize_iterations : 65\tEpoch 6 --- Training Accuracy: 63.281%, Validation Accuracy: 75.000%, Validation Loss: 0.557 \n",
      "Optimize_iterations : 66\tEpoch 7 --- Training Accuracy: 64.844%, Validation Accuracy: 75.000%, Validation Loss: 0.540 \n",
      "Optimize_iterations : 67\tEpoch 8 --- Training Accuracy: 64.062%, Validation Accuracy: 70.312%, Validation Loss: 0.585 \n",
      "Optimize_iterations : 68\tEpoch 9 --- Training Accuracy: 71.875%, Validation Accuracy: 75.000%, Validation Loss: 0.530 \n",
      "Optimize_iterations : 69\tEpoch 10 --- Training Accuracy: 75.000%, Validation Accuracy: 74.219%, Validation Loss: 0.552 \n",
      "Optimize_iterations : 70\tEpoch 11 --- Training Accuracy: 75.000%, Validation Accuracy: 78.125%, Validation Loss: 0.585 \n",
      "Optimize_iterations : 71\tEpoch 12 --- Training Accuracy: 71.875%, Validation Accuracy: 68.750%, Validation Loss: 0.613 \n",
      "Optimize_iterations : 72\tEpoch 13 --- Training Accuracy: 70.312%, Validation Accuracy: 62.500%, Validation Loss: 0.675 \n",
      "Optimize_iterations : 73\tEpoch 14 --- Training Accuracy: 74.219%, Validation Accuracy: 58.594%, Validation Loss: 0.691 \n",
      "Optimize_iterations : 74\tEpoch 15 --- Training Accuracy: 68.750%, Validation Accuracy: 70.312%, Validation Loss: 0.637 \n",
      "Optimize_iterations : 75\tEpoch 1 --- Training Accuracy: 73.438%, Validation Accuracy: 71.875%, Validation Loss: 0.588 \n",
      "Optimize_iterations : 76\tEpoch 2 --- Training Accuracy: 75.000%, Validation Accuracy: 78.906%, Validation Loss: 0.541 \n",
      "Optimize_iterations : 77\tEpoch 3 --- Training Accuracy: 73.438%, Validation Accuracy: 73.438%, Validation Loss: 0.523 *\n",
      "Optimize_iterations : 78\tEpoch 4 --- Training Accuracy: 67.969%, Validation Accuracy: 78.125%, Validation Loss: 0.512 *\n",
      "Optimize_iterations : 79\tEpoch 5 --- Training Accuracy: 63.281%, Validation Accuracy: 70.312%, Validation Loss: 0.560 \n",
      "Optimize_iterations : 80\tEpoch 6 --- Training Accuracy: 72.656%, Validation Accuracy: 78.906%, Validation Loss: 0.491 *\n",
      "Optimize_iterations : 81\tEpoch 7 --- Training Accuracy: 71.094%, Validation Accuracy: 78.125%, Validation Loss: 0.504 \n",
      "Optimize_iterations : 82\tEpoch 8 --- Training Accuracy: 76.562%, Validation Accuracy: 81.250%, Validation Loss: 0.509 \n",
      "Optimize_iterations : 83\tEpoch 9 --- Training Accuracy: 79.688%, Validation Accuracy: 75.000%, Validation Loss: 0.575 \n",
      "Optimize_iterations : 84\tEpoch 10 --- Training Accuracy: 75.781%, Validation Accuracy: 64.844%, Validation Loss: 0.604 \n",
      "Optimize_iterations : 85\tEpoch 11 --- Training Accuracy: 81.250%, Validation Accuracy: 67.188%, Validation Loss: 0.645 \n",
      "Optimize_iterations : 86\tEpoch 12 --- Training Accuracy: 72.656%, Validation Accuracy: 71.094%, Validation Loss: 0.599 \n",
      "Optimize_iterations : 87\tEpoch 13 --- Training Accuracy: 75.781%, Validation Accuracy: 74.219%, Validation Loss: 0.552 \n",
      "Optimize_iterations : 88\tEpoch 14 --- Training Accuracy: 75.781%, Validation Accuracy: 82.031%, Validation Loss: 0.532 \n",
      "Optimize_iterations : 89\tEpoch 15 --- Training Accuracy: 77.344%, Validation Accuracy: 78.906%, Validation Loss: 0.532 \n",
      "Optimize_iterations : 90\tEpoch 1 --- Training Accuracy: 78.906%, Validation Accuracy: 78.125%, Validation Loss: 0.492 \n",
      "Optimize_iterations : 91\tEpoch 2 --- Training Accuracy: 80.469%, Validation Accuracy: 73.438%, Validation Loss: 0.552 \n",
      "Optimize_iterations : 92\tEpoch 3 --- Training Accuracy: 75.000%, Validation Accuracy: 84.375%, Validation Loss: 0.442 *\n",
      "Optimize_iterations : 93\tEpoch 4 --- Training Accuracy: 70.312%, Validation Accuracy: 83.594%, Validation Loss: 0.449 \n",
      "Optimize_iterations : 94\tEpoch 5 --- Training Accuracy: 78.906%, Validation Accuracy: 83.594%, Validation Loss: 0.444 \n",
      "Optimize_iterations : 95\tEpoch 6 --- Training Accuracy: 73.438%, Validation Accuracy: 78.906%, Validation Loss: 0.489 \n",
      "Optimize_iterations : 96\tEpoch 7 --- Training Accuracy: 79.688%, Validation Accuracy: 78.125%, Validation Loss: 0.511 \n",
      "Optimize_iterations : 97\tEpoch 8 --- Training Accuracy: 85.156%, Validation Accuracy: 74.219%, Validation Loss: 0.544 \n",
      "Optimize_iterations : 98\tEpoch 9 --- Training Accuracy: 79.688%, Validation Accuracy: 80.469%, Validation Loss: 0.468 \n",
      "Optimize_iterations : 99\tEpoch 10 --- Training Accuracy: 77.344%, Validation Accuracy: 82.812%, Validation Loss: 0.435 *\n",
      "Optimize_iterations : 100\tEpoch 11 --- Training Accuracy: 80.469%, Validation Accuracy: 83.594%, Validation Loss: 0.422 *\n",
      "Optimize_iterations : 101\tEpoch 12 --- Training Accuracy: 82.812%, Validation Accuracy: 78.906%, Validation Loss: 0.460 \n",
      "Optimize_iterations : 102\tEpoch 13 --- Training Accuracy: 82.031%, Validation Accuracy: 85.938%, Validation Loss: 0.457 \n",
      "Optimize_iterations : 103\tEpoch 14 --- Training Accuracy: 82.031%, Validation Accuracy: 74.219%, Validation Loss: 0.504 \n",
      "Optimize_iterations : 104\tEpoch 15 --- Training Accuracy: 83.594%, Validation Accuracy: 84.375%, Validation Loss: 0.418 *\n",
      "Optimize_iterations : 105\tEpoch 1 --- Training Accuracy: 85.938%, Validation Accuracy: 84.375%, Validation Loss: 0.380 *\n",
      "Optimize_iterations : 106\tEpoch 2 --- Training Accuracy: 77.344%, Validation Accuracy: 89.062%, Validation Loss: 0.343 *\n",
      "Optimize_iterations : 107\tEpoch 3 --- Training Accuracy: 82.031%, Validation Accuracy: 88.281%, Validation Loss: 0.419 \n",
      "Optimize_iterations : 108\tEpoch 4 --- Training Accuracy: 86.719%, Validation Accuracy: 88.281%, Validation Loss: 0.384 \n",
      "Optimize_iterations : 109\tEpoch 5 --- Training Accuracy: 80.469%, Validation Accuracy: 78.906%, Validation Loss: 0.450 \n",
      "Optimize_iterations : 110\tEpoch 6 --- Training Accuracy: 85.938%, Validation Accuracy: 85.938%, Validation Loss: 0.370 \n",
      "Optimize_iterations : 111\tEpoch 7 --- Training Accuracy: 89.844%, Validation Accuracy: 85.938%, Validation Loss: 0.410 \n",
      "Optimize_iterations : 112\tEpoch 8 --- Training Accuracy: 89.062%, Validation Accuracy: 90.625%, Validation Loss: 0.298 *\n",
      "Optimize_iterations : 113\tEpoch 9 --- Training Accuracy: 78.125%, Validation Accuracy: 87.500%, Validation Loss: 0.361 \n",
      "Optimize_iterations : 114\tEpoch 10 --- Training Accuracy: 85.938%, Validation Accuracy: 86.719%, Validation Loss: 0.350 \n",
      "Optimize_iterations : 115\tEpoch 11 --- Training Accuracy: 87.500%, Validation Accuracy: 78.906%, Validation Loss: 0.479 \n",
      "Optimize_iterations : 116\tEpoch 12 --- Training Accuracy: 83.594%, Validation Accuracy: 87.500%, Validation Loss: 0.394 \n",
      "Optimize_iterations : 117\tEpoch 13 --- Training Accuracy: 85.938%, Validation Accuracy: 87.500%, Validation Loss: 0.322 \n",
      "Optimize_iterations : 118\tEpoch 14 --- Training Accuracy: 84.375%, Validation Accuracy: 91.406%, Validation Loss: 0.306 \n",
      "Optimize_iterations : 119\tEpoch 15 --- Training Accuracy: 88.281%, Validation Accuracy: 85.938%, Validation Loss: 0.354 \n",
      "Optimize_iterations : 120\tEpoch 1 --- Training Accuracy: 82.031%, Validation Accuracy: 93.750%, Validation Loss: 0.317 \n",
      "Optimize_iterations : 121\tEpoch 2 --- Training Accuracy: 81.250%, Validation Accuracy: 85.156%, Validation Loss: 0.392 \n",
      "Optimize_iterations : 122\tEpoch 3 --- Training Accuracy: 91.406%, Validation Accuracy: 89.844%, Validation Loss: 0.305 \n",
      "Optimize_iterations : 123\tEpoch 4 --- Training Accuracy: 84.375%, Validation Accuracy: 91.406%, Validation Loss: 0.275 *\n",
      "Optimize_iterations : 124\tEpoch 5 --- Training Accuracy: 89.062%, Validation Accuracy: 94.531%, Validation Loss: 0.254 *\n",
      "Optimize_iterations : 125\tEpoch 6 --- Training Accuracy: 89.062%, Validation Accuracy: 89.062%, Validation Loss: 0.312 \n",
      "Optimize_iterations : 126\tEpoch 7 --- Training Accuracy: 91.406%, Validation Accuracy: 91.406%, Validation Loss: 0.269 \n",
      "Optimize_iterations : 127\tEpoch 8 --- Training Accuracy: 82.812%, Validation Accuracy: 84.375%, Validation Loss: 0.378 \n",
      "Optimize_iterations : 128\tEpoch 9 --- Training Accuracy: 89.062%, Validation Accuracy: 86.719%, Validation Loss: 0.376 \n",
      "Optimize_iterations : 129\tEpoch 10 --- Training Accuracy: 92.188%, Validation Accuracy: 85.938%, Validation Loss: 0.374 \n",
      "Optimize_iterations : 130\tEpoch 11 --- Training Accuracy: 85.156%, Validation Accuracy: 93.750%, Validation Loss: 0.244 *\n",
      "Optimize_iterations : 131\tEpoch 12 --- Training Accuracy: 85.938%, Validation Accuracy: 91.406%, Validation Loss: 0.276 \n",
      "Optimize_iterations : 132\tEpoch 13 --- Training Accuracy: 88.281%, Validation Accuracy: 92.969%, Validation Loss: 0.228 *\n",
      "Optimize_iterations : 133\tEpoch 14 --- Training Accuracy: 91.406%, Validation Accuracy: 89.062%, Validation Loss: 0.326 \n",
      "Optimize_iterations : 134\tEpoch 15 --- Training Accuracy: 89.062%, Validation Accuracy: 89.062%, Validation Loss: 0.317 \n",
      "Optimize_iterations : 135\tEpoch 1 --- Training Accuracy: 85.938%, Validation Accuracy: 89.062%, Validation Loss: 0.323 \n",
      "Optimize_iterations : 136\tEpoch 2 --- Training Accuracy: 95.312%, Validation Accuracy: 95.312%, Validation Loss: 0.209 *\n",
      "Optimize_iterations : 137\tEpoch 3 --- Training Accuracy: 84.375%, Validation Accuracy: 93.750%, Validation Loss: 0.262 \n",
      "Optimize_iterations : 138\tEpoch 4 --- Training Accuracy: 90.625%, Validation Accuracy: 92.969%, Validation Loss: 0.212 \n",
      "Optimize_iterations : 139\tEpoch 5 --- Training Accuracy: 90.625%, Validation Accuracy: 88.281%, Validation Loss: 0.324 \n",
      "Optimize_iterations : 140\tEpoch 6 --- Training Accuracy: 92.188%, Validation Accuracy: 89.062%, Validation Loss: 0.289 \n",
      "Optimize_iterations : 141\tEpoch 7 --- Training Accuracy: 91.406%, Validation Accuracy: 89.062%, Validation Loss: 0.304 \n",
      "Optimize_iterations : 142\tEpoch 8 --- Training Accuracy: 89.062%, Validation Accuracy: 92.969%, Validation Loss: 0.232 \n",
      "Optimize_iterations : 143\tEpoch 9 --- Training Accuracy: 95.312%, Validation Accuracy: 88.281%, Validation Loss: 0.291 \n",
      "Optimize_iterations : 144\tEpoch 10 --- Training Accuracy: 86.719%, Validation Accuracy: 90.625%, Validation Loss: 0.254 \n",
      "Optimize_iterations : 145\tEpoch 11 --- Training Accuracy: 87.500%, Validation Accuracy: 89.062%, Validation Loss: 0.283 \n",
      "Optimize_iterations : 146\tEpoch 12 --- Training Accuracy: 91.406%, Validation Accuracy: 91.406%, Validation Loss: 0.273 \n",
      "Optimize_iterations : 147\tEpoch 13 --- Training Accuracy: 91.406%, Validation Accuracy: 89.844%, Validation Loss: 0.263 \n",
      "Optimize_iterations : 148\tEpoch 14 --- Training Accuracy: 85.938%, Validation Accuracy: 94.531%, Validation Loss: 0.278 \n",
      "Optimize_iterations : 149\tEpoch 15 --- Training Accuracy: 85.156%, Validation Accuracy: 89.844%, Validation Loss: 0.279 \n",
      "Optimize_iterations : 150\tEpoch 1 --- Training Accuracy: 94.531%, Validation Accuracy: 93.750%, Validation Loss: 0.175 *\n",
      "Optimize_iterations : 151\tEpoch 2 --- Training Accuracy: 85.938%, Validation Accuracy: 83.594%, Validation Loss: 0.287 \n",
      "Optimize_iterations : 152\tEpoch 3 --- Training Accuracy: 92.188%, Validation Accuracy: 91.406%, Validation Loss: 0.240 \n",
      "Optimize_iterations : 153\tEpoch 4 --- Training Accuracy: 89.844%, Validation Accuracy: 91.406%, Validation Loss: 0.279 \n",
      "Optimize_iterations : 154\tEpoch 5 --- Training Accuracy: 91.406%, Validation Accuracy: 95.312%, Validation Loss: 0.224 \n",
      "Optimize_iterations : 155\tEpoch 6 --- Training Accuracy: 90.625%, Validation Accuracy: 93.750%, Validation Loss: 0.241 \n",
      "Optimize_iterations : 156\tEpoch 7 --- Training Accuracy: 89.062%, Validation Accuracy: 92.188%, Validation Loss: 0.196 \n",
      "Optimize_iterations : 157\tEpoch 8 --- Training Accuracy: 94.531%, Validation Accuracy: 89.844%, Validation Loss: 0.266 \n",
      "Optimize_iterations : 158\tEpoch 9 --- Training Accuracy: 86.719%, Validation Accuracy: 91.406%, Validation Loss: 0.257 \n",
      "Optimize_iterations : 159\tEpoch 10 --- Training Accuracy: 89.844%, Validation Accuracy: 94.531%, Validation Loss: 0.248 \n",
      "Optimize_iterations : 160\tEpoch 11 --- Training Accuracy: 88.281%, Validation Accuracy: 95.312%, Validation Loss: 0.169 *\n",
      "Optimize_iterations : 161\tEpoch 12 --- Training Accuracy: 91.406%, Validation Accuracy: 93.750%, Validation Loss: 0.208 \n",
      "Optimize_iterations : 162\tEpoch 13 --- Training Accuracy: 89.062%, Validation Accuracy: 92.188%, Validation Loss: 0.259 \n",
      "Optimize_iterations : 163\tEpoch 14 --- Training Accuracy: 89.062%, Validation Accuracy: 89.844%, Validation Loss: 0.276 \n",
      "Optimize_iterations : 164\tEpoch 15 --- Training Accuracy: 92.969%, Validation Accuracy: 92.969%, Validation Loss: 0.238 \n",
      "Optimize_iterations : 165\tEpoch 1 --- Training Accuracy: 88.281%, Validation Accuracy: 92.969%, Validation Loss: 0.247 \n",
      "Optimize_iterations : 166\tEpoch 2 --- Training Accuracy: 91.406%, Validation Accuracy: 95.312%, Validation Loss: 0.179 \n",
      "Optimize_iterations : 167\tEpoch 3 --- Training Accuracy: 93.750%, Validation Accuracy: 89.844%, Validation Loss: 0.225 \n",
      "Optimize_iterations : 168\tEpoch 4 --- Training Accuracy: 93.750%, Validation Accuracy: 92.969%, Validation Loss: 0.230 \n",
      "Optimize_iterations : 169\tEpoch 5 --- Training Accuracy: 92.969%, Validation Accuracy: 90.625%, Validation Loss: 0.263 \n",
      "Optimize_iterations : 170\tEpoch 6 --- Training Accuracy: 90.625%, Validation Accuracy: 89.844%, Validation Loss: 0.256 \n",
      "Optimize_iterations : 171\tEpoch 7 --- Training Accuracy: 93.750%, Validation Accuracy: 92.969%, Validation Loss: 0.243 \n",
      "Optimize_iterations : 172\tEpoch 8 --- Training Accuracy: 86.719%, Validation Accuracy: 96.875%, Validation Loss: 0.200 \n",
      "Optimize_iterations : 173\tEpoch 9 --- Training Accuracy: 91.406%, Validation Accuracy: 96.094%, Validation Loss: 0.212 \n",
      "Optimize_iterations : 174\tEpoch 10 --- Training Accuracy: 91.406%, Validation Accuracy: 95.312%, Validation Loss: 0.151 *\n",
      "Optimize_iterations : 175\tEpoch 11 --- Training Accuracy: 92.969%, Validation Accuracy: 91.406%, Validation Loss: 0.242 \n",
      "Optimize_iterations : 176\tEpoch 12 --- Training Accuracy: 89.844%, Validation Accuracy: 93.750%, Validation Loss: 0.236 \n",
      "Optimize_iterations : 177\tEpoch 13 --- Training Accuracy: 86.719%, Validation Accuracy: 91.406%, Validation Loss: 0.278 \n",
      "Optimize_iterations : 178\tEpoch 14 --- Training Accuracy: 95.312%, Validation Accuracy: 96.875%, Validation Loss: 0.151 *\n",
      "Optimize_iterations : 179\tEpoch 15 --- Training Accuracy: 89.062%, Validation Accuracy: 96.094%, Validation Loss: 0.196 \n",
      "Optimize_iterations : 180\tEpoch 1 --- Training Accuracy: 92.188%, Validation Accuracy: 96.094%, Validation Loss: 0.148 *\n",
      "Optimize_iterations : 181\tEpoch 2 --- Training Accuracy: 92.969%, Validation Accuracy: 89.062%, Validation Loss: 0.216 \n",
      "Optimize_iterations : 182\tEpoch 3 --- Training Accuracy: 94.531%, Validation Accuracy: 93.750%, Validation Loss: 0.237 \n",
      "Optimize_iterations : 183\tEpoch 4 --- Training Accuracy: 91.406%, Validation Accuracy: 91.406%, Validation Loss: 0.261 \n",
      "Optimize_iterations : 184\tEpoch 5 --- Training Accuracy: 92.188%, Validation Accuracy: 94.531%, Validation Loss: 0.198 \n",
      "Optimize_iterations : 185\tEpoch 6 --- Training Accuracy: 93.750%, Validation Accuracy: 91.406%, Validation Loss: 0.252 \n",
      "Optimize_iterations : 186\tEpoch 7 --- Training Accuracy: 89.062%, Validation Accuracy: 94.531%, Validation Loss: 0.179 \n",
      "Optimize_iterations : 187\tEpoch 8 --- Training Accuracy: 89.844%, Validation Accuracy: 92.188%, Validation Loss: 0.221 \n",
      "Optimize_iterations : 188\tEpoch 9 --- Training Accuracy: 88.281%, Validation Accuracy: 89.844%, Validation Loss: 0.234 \n",
      "Optimize_iterations : 189\tEpoch 10 --- Training Accuracy: 89.844%, Validation Accuracy: 91.406%, Validation Loss: 0.207 \n",
      "Optimize_iterations : 190\tEpoch 11 --- Training Accuracy: 89.844%, Validation Accuracy: 96.094%, Validation Loss: 0.170 \n",
      "Optimize_iterations : 191\tEpoch 12 --- Training Accuracy: 88.281%, Validation Accuracy: 89.844%, Validation Loss: 0.263 \n",
      "Optimize_iterations : 192\tEpoch 13 --- Training Accuracy: 94.531%, Validation Accuracy: 93.750%, Validation Loss: 0.183 \n",
      "Optimize_iterations : 193\tEpoch 14 --- Training Accuracy: 92.969%, Validation Accuracy: 90.625%, Validation Loss: 0.220 \n",
      "Optimize_iterations : 194\tEpoch 15 --- Training Accuracy: 92.969%, Validation Accuracy: 91.406%, Validation Loss: 0.220 \n",
      "Optimize_iterations : 195\tEpoch 1 --- Training Accuracy: 92.969%, Validation Accuracy: 95.312%, Validation Loss: 0.178 \n",
      "Optimize_iterations : 196\tEpoch 2 --- Training Accuracy: 92.969%, Validation Accuracy: 96.094%, Validation Loss: 0.167 \n",
      "Optimize_iterations : 197\tEpoch 3 --- Training Accuracy: 92.969%, Validation Accuracy: 92.969%, Validation Loss: 0.220 \n",
      "Optimize_iterations : 198\tEpoch 4 --- Training Accuracy: 92.969%, Validation Accuracy: 90.625%, Validation Loss: 0.277 \n",
      "Optimize_iterations : 199\tEpoch 5 --- Training Accuracy: 92.188%, Validation Accuracy: 90.625%, Validation Loss: 0.281 \n",
      "Optimize_iterations : 200\tEpoch 6 --- Training Accuracy: 89.062%, Validation Accuracy: 92.969%, Validation Loss: 0.218 \n",
      "Optimize_iterations : 201\tEpoch 7 --- Training Accuracy: 89.062%, Validation Accuracy: 92.969%, Validation Loss: 0.193 \n",
      "Optimize_iterations : 202\tEpoch 8 --- Training Accuracy: 89.062%, Validation Accuracy: 95.312%, Validation Loss: 0.160 \n",
      "Optimize_iterations : 203\tEpoch 9 --- Training Accuracy: 92.969%, Validation Accuracy: 96.094%, Validation Loss: 0.180 \n",
      "Optimize_iterations : 204\tEpoch 10 --- Training Accuracy: 91.406%, Validation Accuracy: 91.406%, Validation Loss: 0.182 \n",
      "Optimize_iterations : 205\tEpoch 11 --- Training Accuracy: 82.812%, Validation Accuracy: 88.281%, Validation Loss: 0.291 \n",
      "Optimize_iterations : 206\tEpoch 12 --- Training Accuracy: 93.750%, Validation Accuracy: 92.188%, Validation Loss: 0.243 \n",
      "Optimize_iterations : 207\tEpoch 13 --- Training Accuracy: 93.750%, Validation Accuracy: 96.094%, Validation Loss: 0.209 \n",
      "Optimize_iterations : 208\tEpoch 14 --- Training Accuracy: 94.531%, Validation Accuracy: 96.094%, Validation Loss: 0.130 *\n",
      "Optimize_iterations : 209\tEpoch 15 --- Training Accuracy: 92.188%, Validation Accuracy: 95.312%, Validation Loss: 0.192 \n",
      "Optimize_iterations : 210\tEpoch 1 --- Training Accuracy: 95.312%, Validation Accuracy: 96.875%, Validation Loss: 0.148 \n",
      "Optimize_iterations : 211\tEpoch 2 --- Training Accuracy: 92.188%, Validation Accuracy: 92.188%, Validation Loss: 0.233 \n",
      "Optimize_iterations : 212\tEpoch 3 --- Training Accuracy: 92.969%, Validation Accuracy: 92.188%, Validation Loss: 0.274 \n",
      "Optimize_iterations : 213\tEpoch 4 --- Training Accuracy: 92.969%, Validation Accuracy: 85.156%, Validation Loss: 0.377 \n",
      "Optimize_iterations : 214\tEpoch 5 --- Training Accuracy: 87.500%, Validation Accuracy: 96.094%, Validation Loss: 0.185 \n",
      "Optimize_iterations : 215\tEpoch 6 --- Training Accuracy: 91.406%, Validation Accuracy: 96.875%, Validation Loss: 0.186 \n",
      "Optimize_iterations : 216\tEpoch 7 --- Training Accuracy: 88.281%, Validation Accuracy: 93.750%, Validation Loss: 0.179 \n",
      "Optimize_iterations : 217\tEpoch 8 --- Training Accuracy: 88.281%, Validation Accuracy: 86.719%, Validation Loss: 0.263 \n",
      "Optimize_iterations : 218\tEpoch 9 --- Training Accuracy: 88.281%, Validation Accuracy: 90.625%, Validation Loss: 0.240 \n",
      "Optimize_iterations : 219\tEpoch 10 --- Training Accuracy: 91.406%, Validation Accuracy: 95.312%, Validation Loss: 0.224 \n",
      "Optimize_iterations : 220\tEpoch 11 --- Training Accuracy: 93.750%, Validation Accuracy: 93.750%, Validation Loss: 0.227 \n",
      "Optimize_iterations : 221\tEpoch 12 --- Training Accuracy: 86.719%, Validation Accuracy: 89.062%, Validation Loss: 0.269 \n",
      "Optimize_iterations : 222\tEpoch 13 --- Training Accuracy: 93.750%, Validation Accuracy: 92.188%, Validation Loss: 0.220 \n",
      "Optimize_iterations : 223\tEpoch 14 --- Training Accuracy: 92.188%, Validation Accuracy: 91.406%, Validation Loss: 0.221 \n",
      "Optimize_iterations : 224\tEpoch 15 --- Training Accuracy: 94.531%, Validation Accuracy: 91.406%, Validation Loss: 0.247 \n",
      "Optimize_iterations : 225\tEpoch 1 --- Training Accuracy: 91.406%, Validation Accuracy: 95.312%, Validation Loss: 0.199 \n",
      "Optimize_iterations : 226\tEpoch 2 --- Training Accuracy: 91.406%, Validation Accuracy: 97.656%, Validation Loss: 0.162 \n",
      "Optimize_iterations : 227\tEpoch 3 --- Training Accuracy: 94.531%, Validation Accuracy: 90.625%, Validation Loss: 0.258 \n",
      "Optimize_iterations : 228\tEpoch 4 --- Training Accuracy: 87.500%, Validation Accuracy: 87.500%, Validation Loss: 0.291 \n",
      "Optimize_iterations : 229\tEpoch 5 --- Training Accuracy: 89.844%, Validation Accuracy: 89.844%, Validation Loss: 0.258 \n",
      "Optimize_iterations : 230\tEpoch 6 --- Training Accuracy: 92.969%, Validation Accuracy: 91.406%, Validation Loss: 0.205 \n",
      "Optimize_iterations : 231\tEpoch 7 --- Training Accuracy: 92.188%, Validation Accuracy: 95.312%, Validation Loss: 0.213 \n",
      "Optimize_iterations : 232\tEpoch 8 --- Training Accuracy: 89.062%, Validation Accuracy: 96.094%, Validation Loss: 0.153 \n",
      "Optimize_iterations : 233\tEpoch 9 --- Training Accuracy: 92.188%, Validation Accuracy: 96.094%, Validation Loss: 0.166 \n",
      "Optimize_iterations : 234\tEpoch 10 --- Training Accuracy: 96.094%, Validation Accuracy: 94.531%, Validation Loss: 0.147 \n",
      "Optimize_iterations : 235\tEpoch 11 --- Training Accuracy: 92.969%, Validation Accuracy: 89.844%, Validation Loss: 0.231 \n",
      "Optimize_iterations : 236\tEpoch 12 --- Training Accuracy: 94.531%, Validation Accuracy: 90.625%, Validation Loss: 0.256 \n",
      "Optimize_iterations : 237\tEpoch 13 --- Training Accuracy: 93.750%, Validation Accuracy: 88.281%, Validation Loss: 0.314 \n",
      "Optimize_iterations : 238\tEpoch 14 --- Training Accuracy: 95.312%, Validation Accuracy: 95.312%, Validation Loss: 0.149 \n",
      "Optimize_iterations : 239\tEpoch 15 --- Training Accuracy: 91.406%, Validation Accuracy: 96.094%, Validation Loss: 0.165 \n",
      "Optimize_iterations : 240\tEpoch 1 --- Training Accuracy: 91.406%, Validation Accuracy: 95.312%, Validation Loss: 0.133 \n",
      "Optimize_iterations : 241\tEpoch 2 --- Training Accuracy: 92.188%, Validation Accuracy: 91.406%, Validation Loss: 0.226 \n",
      "Optimize_iterations : 242\tEpoch 3 --- Training Accuracy: 89.062%, Validation Accuracy: 92.969%, Validation Loss: 0.222 \n",
      "Optimize_iterations : 243\tEpoch 4 --- Training Accuracy: 92.969%, Validation Accuracy: 93.750%, Validation Loss: 0.252 \n",
      "Optimize_iterations : 244\tEpoch 5 --- Training Accuracy: 92.188%, Validation Accuracy: 95.312%, Validation Loss: 0.166 \n",
      "Optimize_iterations : 245\tEpoch 6 --- Training Accuracy: 96.094%, Validation Accuracy: 94.531%, Validation Loss: 0.204 \n",
      "Optimize_iterations : 246\tEpoch 7 --- Training Accuracy: 92.969%, Validation Accuracy: 95.312%, Validation Loss: 0.154 \n",
      "Optimize_iterations : 247\tEpoch 8 --- Training Accuracy: 92.188%, Validation Accuracy: 92.188%, Validation Loss: 0.216 \n",
      "Optimize_iterations : 248\tEpoch 9 --- Training Accuracy: 93.750%, Validation Accuracy: 93.750%, Validation Loss: 0.186 \n",
      "Optimize_iterations : 249\tEpoch 10 --- Training Accuracy: 92.188%, Validation Accuracy: 95.312%, Validation Loss: 0.205 \n",
      "Optimize_iterations : 250\tEpoch 11 --- Training Accuracy: 95.312%, Validation Accuracy: 97.656%, Validation Loss: 0.151 \n",
      "Optimize_iterations : 251\tEpoch 12 --- Training Accuracy: 92.969%, Validation Accuracy: 92.969%, Validation Loss: 0.195 \n",
      "Optimize_iterations : 252\tEpoch 13 --- Training Accuracy: 93.750%, Validation Accuracy: 93.750%, Validation Loss: 0.148 \n",
      "Optimize_iterations : 253\tEpoch 14 --- Training Accuracy: 92.969%, Validation Accuracy: 90.625%, Validation Loss: 0.227 \n",
      "Optimize_iterations : 254\tEpoch 15 --- Training Accuracy: 94.531%, Validation Accuracy: 94.531%, Validation Loss: 0.180 \n",
      "Optimize_iterations : 255\tEpoch 1 --- Training Accuracy: 93.750%, Validation Accuracy: 95.312%, Validation Loss: 0.223 \n",
      "Optimize_iterations : 256\tEpoch 2 --- Training Accuracy: 89.844%, Validation Accuracy: 97.656%, Validation Loss: 0.152 \n",
      "Optimize_iterations : 257\tEpoch 3 --- Training Accuracy: 92.969%, Validation Accuracy: 95.312%, Validation Loss: 0.179 \n",
      "Optimize_iterations : 258\tEpoch 4 --- Training Accuracy: 92.969%, Validation Accuracy: 95.312%, Validation Loss: 0.110 *\n",
      "Optimize_iterations : 259\tEpoch 5 --- Training Accuracy: 96.094%, Validation Accuracy: 92.188%, Validation Loss: 0.202 \n",
      "Optimize_iterations : 260\tEpoch 6 --- Training Accuracy: 93.750%, Validation Accuracy: 92.969%, Validation Loss: 0.209 \n",
      "Optimize_iterations : 261\tEpoch 7 --- Training Accuracy: 92.969%, Validation Accuracy: 96.094%, Validation Loss: 0.230 \n",
      "Optimize_iterations : 262\tEpoch 8 --- Training Accuracy: 95.312%, Validation Accuracy: 99.219%, Validation Loss: 0.116 \n",
      "Optimize_iterations : 263\tEpoch 9 --- Training Accuracy: 93.750%, Validation Accuracy: 96.875%, Validation Loss: 0.166 \n",
      "Optimize_iterations : 264\tEpoch 10 --- Training Accuracy: 95.312%, Validation Accuracy: 97.656%, Validation Loss: 0.141 \n",
      "Optimize_iterations : 265\tEpoch 11 --- Training Accuracy: 92.188%, Validation Accuracy: 91.406%, Validation Loss: 0.225 \n",
      "Optimize_iterations : 266\tEpoch 12 --- Training Accuracy: 94.531%, Validation Accuracy: 93.750%, Validation Loss: 0.202 \n",
      "Optimize_iterations : 267\tEpoch 13 --- Training Accuracy: 92.969%, Validation Accuracy: 94.531%, Validation Loss: 0.223 \n",
      "Optimize_iterations : 268\tEpoch 14 --- Training Accuracy: 92.969%, Validation Accuracy: 96.875%, Validation Loss: 0.180 \n",
      "Optimize_iterations : 269\tEpoch 15 --- Training Accuracy: 95.312%, Validation Accuracy: 88.281%, Validation Loss: 0.252 \n",
      "Optimize_iterations : 270\tEpoch 1 --- Training Accuracy: 90.625%, Validation Accuracy: 93.750%, Validation Loss: 0.185 \n",
      "Optimize_iterations : 271\tEpoch 2 --- Training Accuracy: 93.750%, Validation Accuracy: 92.188%, Validation Loss: 0.209 \n",
      "Optimize_iterations : 272\tEpoch 3 --- Training Accuracy: 89.844%, Validation Accuracy: 91.406%, Validation Loss: 0.188 \n",
      "Optimize_iterations : 273\tEpoch 4 --- Training Accuracy: 91.406%, Validation Accuracy: 94.531%, Validation Loss: 0.187 \n",
      "Optimize_iterations : 274\tEpoch 5 --- Training Accuracy: 92.188%, Validation Accuracy: 96.875%, Validation Loss: 0.128 \n",
      "Optimize_iterations : 275\tEpoch 6 --- Training Accuracy: 92.188%, Validation Accuracy: 92.188%, Validation Loss: 0.190 \n",
      "Optimize_iterations : 276\tEpoch 7 --- Training Accuracy: 93.750%, Validation Accuracy: 92.188%, Validation Loss: 0.158 \n",
      "Optimize_iterations : 277\tEpoch 8 --- Training Accuracy: 92.969%, Validation Accuracy: 92.188%, Validation Loss: 0.243 \n",
      "Optimize_iterations : 278\tEpoch 9 --- Training Accuracy: 96.094%, Validation Accuracy: 94.531%, Validation Loss: 0.178 \n",
      "Optimize_iterations : 279\tEpoch 10 --- Training Accuracy: 96.094%, Validation Accuracy: 94.531%, Validation Loss: 0.187 \n",
      "Optimize_iterations : 280\tEpoch 11 --- Training Accuracy: 94.531%, Validation Accuracy: 97.656%, Validation Loss: 0.110 \n",
      "Optimize_iterations : 281\tEpoch 12 --- Training Accuracy: 92.188%, Validation Accuracy: 95.312%, Validation Loss: 0.161 \n",
      "Optimize_iterations : 282\tEpoch 13 --- Training Accuracy: 95.312%, Validation Accuracy: 94.531%, Validation Loss: 0.151 \n",
      "Optimize_iterations : 283\tEpoch 14 --- Training Accuracy: 95.312%, Validation Accuracy: 91.406%, Validation Loss: 0.259 \n",
      "Optimize_iterations : 284\tEpoch 15 --- Training Accuracy: 89.062%, Validation Accuracy: 92.969%, Validation Loss: 0.261 \n",
      "Optimize_iterations : 285\tEpoch 1 --- Training Accuracy: 91.406%, Validation Accuracy: 95.312%, Validation Loss: 0.186 \n",
      "Optimize_iterations : 286\tEpoch 2 --- Training Accuracy: 92.188%, Validation Accuracy: 97.656%, Validation Loss: 0.111 \n",
      "Optimize_iterations : 287\tEpoch 3 --- Training Accuracy: 92.969%, Validation Accuracy: 96.094%, Validation Loss: 0.170 \n",
      "Optimize_iterations : 288\tEpoch 4 --- Training Accuracy: 89.844%, Validation Accuracy: 96.875%, Validation Loss: 0.123 \n",
      "Optimize_iterations : 289\tEpoch 5 --- Training Accuracy: 94.531%, Validation Accuracy: 92.188%, Validation Loss: 0.199 \n",
      "Optimize_iterations : 290\tEpoch 6 --- Training Accuracy: 95.312%, Validation Accuracy: 95.312%, Validation Loss: 0.195 \n",
      "Optimize_iterations : 291\tEpoch 7 --- Training Accuracy: 92.188%, Validation Accuracy: 93.750%, Validation Loss: 0.231 \n",
      "Optimize_iterations : 292\tEpoch 8 --- Training Accuracy: 96.094%, Validation Accuracy: 93.750%, Validation Loss: 0.186 \n",
      "Optimize_iterations : 293\tEpoch 9 --- Training Accuracy: 94.531%, Validation Accuracy: 91.406%, Validation Loss: 0.207 \n",
      "Optimize_iterations : 294\tEpoch 10 --- Training Accuracy: 95.312%, Validation Accuracy: 96.094%, Validation Loss: 0.123 \n",
      "Optimize_iterations : 295\tEpoch 11 --- Training Accuracy: 92.188%, Validation Accuracy: 91.406%, Validation Loss: 0.217 \n",
      "Optimize_iterations : 296\tEpoch 12 --- Training Accuracy: 92.969%, Validation Accuracy: 92.969%, Validation Loss: 0.191 \n",
      "Optimize_iterations : 297\tEpoch 13 --- Training Accuracy: 95.312%, Validation Accuracy: 95.312%, Validation Loss: 0.228 \n",
      "Optimize_iterations : 298\tEpoch 14 --- Training Accuracy: 90.625%, Validation Accuracy: 94.531%, Validation Loss: 0.213 \n",
      "Optimize_iterations : 299\tEpoch 15 --- Training Accuracy: 92.188%, Validation Accuracy: 90.625%, Validation Loss: 0.227 \n",
      "Optimize_iterations : 300\tEpoch 1 --- Training Accuracy: 95.312%, Validation Accuracy: 96.094%, Validation Loss: 0.159 \n",
      "End Time : 2018-05-18 01:10:56\n",
      "Time elapsed: 21:10:05\n",
      "\n"
     ]
    }
   ],
   "source": [
    "train_ensemble(num_iterations=300 , number_network_ensemble=3)"
   ]
  },
  {
   "cell_type": "markdown",
   "metadata": {},
   "source": [
    "## Visualization of Weights and Layers\n"
   ]
  },
  {
   "cell_type": "markdown",
   "metadata": {},
   "source": [
    "### plotting convolutional weights"
   ]
  },
  {
   "cell_type": "code",
   "execution_count": 92,
   "metadata": {
    "collapsed": true
   },
   "outputs": [],
   "source": [
    "def plot_conv_weights(weights, input_channel=0):\n",
    "    w = session.run(weights)\n",
    "\n",
    "    # Get the lowest and highest values for the weights.\n",
    "    w_min = np.min(w)\n",
    "    w_max = np.max(w)\n",
    "\n",
    "    # Number of filters used in the conv. layer.\n",
    "    num_filters = w.shape[3]\n",
    "\n",
    "    # Number of grids to plot.\n",
    "    num_grids = math.ceil(math.sqrt(num_filters))\n",
    "    \n",
    "    # Create figure with a grid of sub-plots.\n",
    "    fig, axes = plt.subplots(num_grids, num_grids)\n",
    "\n",
    "    # Plot all the filter-weights.\n",
    "    for i, ax in enumerate(axes.flat):\n",
    "        if i<num_filters:\n",
    "            # Get the weights for the i'th filter of the input channel.\n",
    "            img = w[:, :, input_channel, i]\n",
    "\n",
    "            # Plot image.\n",
    "            ax.imshow(img, vmin=w_min, vmax=w_max, interpolation='nearest', cmap='seismic')\n",
    "        \n",
    "        # Remove ticks from the plot.\n",
    "        ax.set_xticks([])\n",
    "        ax.set_yticks([])\n",
    "    \n",
    "    # Ensure the plot is shown correctly with multiple plots\n",
    "    # in a single Notebook cell.\n",
    "    plt.show()"
   ]
  },
  {
   "cell_type": "markdown",
   "metadata": {},
   "source": [
    "### plotting the output of a convolutional layer"
   ]
  },
  {
   "cell_type": "code",
   "execution_count": 93,
   "metadata": {
    "collapsed": true
   },
   "outputs": [],
   "source": [
    "def plot_conv_layer(layer, image):\n",
    "   \n",
    "    image = image.reshape(img_size_flat)\n",
    "\n",
    "    # Create a feed-dict containing just one image.\n",
    "    feed_dict = {x: [image]}\n",
    "\n",
    "    # Calculate and retrieve the output values of the layer when inputting that image.\n",
    "    values = session.run(layer, feed_dict=feed_dict)\n",
    "\n",
    "    # Number of filters used in the conv. layer.\n",
    "    num_filters = values.shape[3]\n",
    "\n",
    "    # Number of grids to plot.\n",
    "    num_grids = math.ceil(math.sqrt(num_filters))\n",
    "    \n",
    "    # Create figure with a grid of sub-plots.\n",
    "    fig, axes = plt.subplots(num_grids, num_grids)\n",
    "\n",
    "    # Plot the output images of all the filters.\n",
    "    for i, ax in enumerate(axes.flat):\n",
    "        if i<num_filters:\n",
    "            # Get the output image of using the i'th filter.\n",
    "            img = values[0, :, :, i]\n",
    "\n",
    "            # Plot image.\n",
    "            ax.imshow(img, interpolation='nearest', cmap='binary')\n",
    "        \n",
    "        # Remove ticks from the plot.\n",
    "        ax.set_xticks([])\n",
    "        ax.set_yticks([])\n",
    "    \n",
    "    plt.show()"
   ]
  },
  {
   "cell_type": "markdown",
   "metadata": {},
   "source": [
    "### Input Testing - Images"
   ]
  },
  {
   "cell_type": "markdown",
   "metadata": {},
   "source": [
    "function for plotting an image."
   ]
  },
  {
   "cell_type": "code",
   "execution_count": 94,
   "metadata": {
    "collapsed": true
   },
   "outputs": [],
   "source": [
    "def plot_image(image):\n",
    "    plt.imshow(image.reshape(img_size, img_size, num_channels),\n",
    "               interpolation='nearest')\n",
    "    plt.xticks([])\n",
    "    plt.yticks([])\n",
    "\n",
    "    plt.show()"
   ]
  },
  {
   "cell_type": "markdown",
   "metadata": {},
   "source": [
    "Plot an image from the test-set which will be used as an example below."
   ]
  },
  {
   "cell_type": "code",
   "execution_count": 95,
   "metadata": {
    "collapsed": false
   },
   "outputs": [
    {
     "data": {
      "image/png": "[encoded data removed]",
      "text/plain": [
       "<matplotlib.figure.Figure at 0xa48078a2b0>"
      ]
     },
     "metadata": {},
     "output_type": "display_data"
    }
   ],
   "source": [
    "image1 = datatest.images[6]\n",
    "plot_image(image1)"
   ]
  },
  {
   "cell_type": "markdown",
   "metadata": {},
   "source": [
    "Plot another example image from the test-set."
   ]
  },
  {
   "cell_type": "code",
   "execution_count": 96,
   "metadata": {
    "collapsed": false,
    "scrolled": false
   },
   "outputs": [
    {
     "data": {
      "image/png": "[encoded data removed]",
      "text/plain": [
       "<matplotlib.figure.Figure at 0xa4807a4438>"
      ]
     },
     "metadata": {},
     "output_type": "display_data"
    }
   ],
   "source": [
    "image2 = datatest.images[30]\n",
    "plot_image(image2)"
   ]
  },
  {
   "cell_type": "markdown",
   "metadata": {},
   "source": [
    "# Plot Images Output of Convolution Layer and Weight of each Layer"
   ]
  },
  {
   "cell_type": "markdown",
   "metadata": {},
   "source": [
    "### Convolution Layer 1"
   ]
  },
  {
   "cell_type": "markdown",
   "metadata": {},
   "source": [
    "weight of Convolution Layer 1"
   ]
  },
  {
   "cell_type": "code",
   "execution_count": 97,
   "metadata": {
    "collapsed": false
   },
   "outputs": [
    {
     "data": {
      "image/png": "[encoded data removed]",
      "text/plain": [
       "<matplotlib.figure.Figure at 0xa480825080>"
      ]
     },
     "metadata": {},
     "output_type": "display_data"
    }
   ],
   "source": [
    "plot_conv_weights(weights=weights_conv1)"
   ]
  },
  {
   "cell_type": "markdown",
   "metadata": {},
   "source": [
    "output of images in convolutional layer 1"
   ]
  },
  {
   "cell_type": "code",
   "execution_count": 98,
   "metadata": {
    "collapsed": false,
    "scrolled": true
   },
   "outputs": [
    {
     "data": {
      "image/png": "[encoded data removed]",
      "text/plain": [
       "<matplotlib.figure.Figure at 0xa4807a69b0>"
      ]
     },
     "metadata": {},
     "output_type": "display_data"
    }
   ],
   "source": [
    "plot_conv_layer(layer=layer_conv1, image=image1)"
   ]
  },
  {
   "cell_type": "markdown",
   "metadata": {},
   "source": [
    "### Convolution Layer 2"
   ]
  },
  {
   "cell_type": "markdown",
   "metadata": {},
   "source": [
    "weight of Convolution Layer 2"
   ]
  },
  {
   "cell_type": "code",
   "execution_count": 99,
   "metadata": {
    "collapsed": false
   },
   "outputs": [
    {
     "data": {
      "image/png": "[encoded data removed]",
      "text/plain": [
       "<matplotlib.figure.Figure at 0xa4ae68d320>"
      ]
     },
     "metadata": {},
     "output_type": "display_data"
    }
   ],
   "source": [
    "plot_conv_weights(weights=weights_conv2)"
   ]
  },
  {
   "cell_type": "markdown",
   "metadata": {},
   "source": [
    "output of images in convolutional layer 1"
   ]
  },
  {
   "cell_type": "code",
   "execution_count": 100,
   "metadata": {
    "collapsed": false,
    "scrolled": false
   },
   "outputs": [
    {
     "data": {
      "image/png": "[encoded data removed]",
      "text/plain": [
       "<matplotlib.figure.Figure at 0xa4808245f8>"
      ]
     },
     "metadata": {},
     "output_type": "display_data"
    }
   ],
   "source": [
    "plot_conv_layer(layer=layer_conv2, image=image1)"
   ]
  },
  {
   "cell_type": "markdown",
   "metadata": {},
   "source": [
    "### Convolution Layer 3"
   ]
  },
  {
   "cell_type": "markdown",
   "metadata": {},
   "source": [
    "weight of Convolution Layer 3"
   ]
  },
  {
   "cell_type": "code",
   "execution_count": 101,
   "metadata": {
    "collapsed": false
   },
   "outputs": [
    {
     "data": {
      "image/png": "[encoded data removed]",
      "text/plain": [
       "<matplotlib.figure.Figure at 0xa4afd07b00>"
      ]
     },
     "metadata": {},
     "output_type": "display_data"
    }
   ],
   "source": [
    "plot_conv_weights(weights=weights_conv3)"
   ]
  },
  {
   "cell_type": "markdown",
   "metadata": {},
   "source": [
    "output of images in convolutional layer 2"
   ]
  },
  {
   "cell_type": "code",
   "execution_count": 102,
   "metadata": {
    "collapsed": false,
    "scrolled": true
   },
   "outputs": [
    {
     "data": {
      "image/png": "[encoded data removed]",
      "text/plain": [
       "<matplotlib.figure.Figure at 0xa4862a8cc0>"
      ]
     },
     "metadata": {},
     "output_type": "display_data"
    }
   ],
   "source": [
    "plot_conv_layer(layer=layer_conv3, image=image1)"
   ]
  },
  {
   "cell_type": "markdown",
   "metadata": {},
   "source": [
    "### Functions for calculating and predicting classifications"
   ]
  },
  {
   "cell_type": "code",
   "execution_count": 103,
   "metadata": {
    "collapsed": true
   },
   "outputs": [],
   "source": [
    "def predict_labels(images):\n",
    "    num_images = len(images)\n",
    "\n",
    "    pred_cls = np.zeros(shape=(num_images, num_classes),\n",
    "                           dtype=np.float)\n",
    "    i = 0\n",
    "\n",
    "    while i < num_images:\n",
    "        # The ending index for the next batch is denoted j.\n",
    "        j = min(i + validate_batch_size, num_images)\n",
    "\n",
    "        # Create a feed-dict with the images between index i and j.\n",
    "        feed_dict = {x: images[i:j, :]}\n",
    "\n",
    "        # Calculate the predicted labels using TensorFlow.\n",
    "        pred_cls[i:j] = session.run(y_pred, feed_dict=feed_dict)\n",
    "\n",
    "        i = j\n",
    "        \n",
    "    return pred_cls"
   ]
  },
  {
   "cell_type": "markdown",
   "metadata": {},
   "source": [
    "Calculate a boolean array whether the predicted classes for the images are correct."
   ]
  },
  {
   "cell_type": "code",
   "execution_count": 104,
   "metadata": {
    "collapsed": true
   },
   "outputs": [],
   "source": [
    "def correct_prediction(images, labels):\n",
    "    # Calculate the predicted labels.\n",
    "    pred_labels = predict_labels(images=images)\n",
    "\n",
    "    # Calculate the predicted class-number for each image.\n",
    "    cls_pred = np.argmax(pred_labels, axis=1)\n",
    "\n",
    "    cls_true = np.argmax(labels, axis=1)\n",
    "\n",
    "    # Create a boolean array whether each image is correctly classified.\n",
    "    correct = (cls_true == cls_pred)\n",
    "\n",
    "    return correct"
   ]
  },
  {
   "cell_type": "markdown",
   "metadata": {},
   "source": [
    "Calculate a boolean array whether the images in the test-set are classified correctly."
   ]
  },
  {
   "cell_type": "code",
   "execution_count": 105,
   "metadata": {
    "collapsed": true
   },
   "outputs": [],
   "source": [
    "def test_correct():\n",
    "    return correct_prediction(images = datatest.images,\n",
    "                              labels = datatest.labels)"
   ]
  },
  {
   "cell_type": "markdown",
   "metadata": {},
   "source": [
    "Calculate a boolean array whether the images in the validation-set are classified correctly."
   ]
  },
  {
   "cell_type": "code",
   "execution_count": 106,
   "metadata": {
    "collapsed": true
   },
   "outputs": [],
   "source": [
    "def validation_correct():\n",
    "    return correct_prediction(images = data.valid.images,\n",
    "                              labels = data.valid.labels)"
   ]
  },
  {
   "cell_type": "markdown",
   "metadata": {},
   "source": [
    "### Functions for calculating the classification accuracy\n",
    "\n",
    "This function calculates the classification accuracy given a boolean array whether each image was correctly classified. E.g. `classification_accuracy([True, True, False, False, False]) = 2/5 = 0.4`"
   ]
  },
  {
   "cell_type": "code",
   "execution_count": 107,
   "metadata": {
    "collapsed": true
   },
   "outputs": [],
   "source": [
    "def classification_accuracy(correct):\n",
    "    # When averaging a boolean array, False means 0 and True means 1.\n",
    "    # So we are calculating: number of True / len(correct) which is\n",
    "    # the same as the classification accuracy.\n",
    "\n",
    "    return correct.mean()"
   ]
  },
  {
   "cell_type": "markdown",
   "metadata": {},
   "source": [
    "Calculate the classification accuracy on the test-set."
   ]
  },
  {
   "cell_type": "code",
   "execution_count": 108,
   "metadata": {
    "collapsed": true
   },
   "outputs": [],
   "source": [
    "def test_accuracy():\n",
    "    # Get the array of booleans whether the classifications are correct\n",
    "    # for the test-set.\n",
    "    correct = test_correct()\n",
    "    \n",
    "    # Calculate the classification accuracy and return it.\n",
    "    return classification_accuracy(correct)"
   ]
  },
  {
   "cell_type": "markdown",
   "metadata": {},
   "source": [
    "Calculate the classification accuracy on the original validation-set."
   ]
  },
  {
   "cell_type": "code",
   "execution_count": 109,
   "metadata": {
    "collapsed": true
   },
   "outputs": [],
   "source": [
    "def validation_accuracy():\n",
    "    # Get the array of booleans whether the classifications are correct\n",
    "    # for the validation-set.\n",
    "    correct = validation_correct()\n",
    "    \n",
    "    # Calculate the classification accuracy and return it.\n",
    "    return classification_accuracy(correct)"
   ]
  },
  {
   "cell_type": "markdown",
   "metadata": {},
   "source": [
    "### Plotting"
   ]
  },
  {
   "cell_type": "markdown",
   "metadata": {},
   "source": [
    "function to plot example errors"
   ]
  },
  {
   "cell_type": "code",
   "execution_count": 110,
   "metadata": {
    "collapsed": true
   },
   "outputs": [],
   "source": [
    "def plot_example_errors(cls_pred, correct):\n",
    "\n",
    "    # Negate the boolean array.\n",
    "    incorrect = (correct == False)\n",
    "    \n",
    "    # Get the images from the test-set that have been\n",
    "    # incorrectly classified.\n",
    "    images = data.valid.images[incorrect]\n",
    "    ids = data.valid.ids[incorrect]\n",
    "    \n",
    "    # Get the predicted classes for those images.\n",
    "    cls_pred = cls_pred[incorrect]\n",
    "\n",
    "    # Get the true classes for those images.\n",
    "    cls_true = data.valid.cls[incorrect]\n",
    "    \n",
    "       \n",
    "    plot_errors_image(images=images,\n",
    "                cls_true=cls_true,\n",
    "                ids=ids,\n",
    "                cls_pred=cls_pred)"
   ]
  },
  {
   "cell_type": "code",
   "execution_count": 111,
   "metadata": {
    "collapsed": true
   },
   "outputs": [],
   "source": [
    "def plot_errors_image(images , cls_true , ids , cls_pred):\n",
    "      \n",
    "    # Number of filters used in the conv. layer.\n",
    "    num_filters = images.shape[0]\n",
    "\n",
    "    # Number of grids to plot.\n",
    "    num_grids = math.ceil(math.sqrt(num_filters))\n",
    "    \n",
    "    # Create figure with a grid of sub-plots.\n",
    "    fig, axes = plt.subplots(num_grids, num_grids,figsize=(15,15))\n",
    "    fig.subplots_adjust(hspace=0.8, wspace=0.2)\n",
    "\n",
    "    # Plot the output images of all the filters.\n",
    "    for i, ax in enumerate(axes.flat):\n",
    "        if i<num_filters:\n",
    "            # Get the output image of using the i'th filter.\n",
    "            img = images[i]\n",
    "\n",
    "            # Plot image.\n",
    "            ax.imshow(cv2.cvtColor(img.reshape(img_shape_wChnls), cv2.COLOR_BGR2RGB), interpolation = 'bicubic' )\n",
    "        \n",
    "        # Remove ticks from the plot.\n",
    "        ax.set_xticks([])\n",
    "        ax.set_yticks([])\n",
    "        \n",
    "        xlabel = '{0} \\nTrue : {1} \\nPred : {2}'.format(ids[i] , cls_true[i] , cls_pred[i])\n",
    "        ax.set_xlabel(xlabel)\n",
    "        \n",
    "        if i == num_filters-1 :\n",
    "            break\n",
    "            \n",
    "            \n",
    "    plt.xticks([])\n",
    "    plt.yticks([])\n",
    "\n",
    "    plt.show()"
   ]
  },
  {
   "cell_type": "markdown",
   "metadata": {},
   "source": [
    "function to plot confusion matrix"
   ]
  },
  {
   "cell_type": "code",
   "execution_count": 112,
   "metadata": {
    "collapsed": true
   },
   "outputs": [],
   "source": [
    "def plot_confusion_matrix(cls_pred):\n",
    "    # cls_pred is an array of the predicted class-number for all images in the test-set.\n",
    "\n",
    "    # Get the true classifications for the test-set.\n",
    "    cls_true = data.valid.cls\n",
    "    \n",
    "    # Get the confusion matrix using sklearn.\n",
    "    cm = confusion_matrix(y_true=cls_true,\n",
    "                          y_pred=cls_pred)\n",
    "\n",
    "    # Print the confusion matrix as text.\n",
    "    print(cm)\n",
    "\n",
    "    # Plot the confusion matrix as an image.\n",
    "    plt.matshow(cm)\n",
    "    \n",
    "    # Print the Recall - Precision - F1 score.\n",
    "    #print('Recall : ',metrics.recall_score( cls_true , cls_pred ))\n",
    "    \n",
    "    \n",
    "\n",
    "    # Make various adjustments to the plot.\n",
    "    plt.colorbar()\n",
    "    tick_marks = np.arange(num_classes)\n",
    "    plt.xticks(tick_marks, range(num_classes))\n",
    "    plt.yticks(tick_marks, range(num_classes))\n",
    "    plt.xlabel('Predicted')\n",
    "    plt.ylabel('True')\n",
    "\n",
    "    plt.show()"
   ]
  },
  {
   "cell_type": "markdown",
   "metadata": {},
   "source": [
    "function for showing the performance"
   ]
  },
  {
   "cell_type": "code",
   "execution_count": 113,
   "metadata": {
    "collapsed": true
   },
   "outputs": [],
   "source": [
    "def validation_performance(show_example_errors=False,\n",
    "                        show_confusion_matrix=False):\n",
    "\n",
    "    # Number of images in the test-set.\n",
    "    num_test = len(data.valid.images)\n",
    "\n",
    "    cls_pred = np.zeros(shape=num_test, dtype=np.int)\n",
    "\n",
    "\n",
    "    i = 0\n",
    "\n",
    "    while i < num_test:\n",
    "        # The ending index for the next batch is denoted j.\n",
    "        j = min(i + validate_batch_size, num_test)\n",
    "\n",
    "        # Get the images from the test-set between index i and j.\n",
    "        images = data.valid.images[i:j, :]\n",
    "        \n",
    "\n",
    "        # Get the associated labels.\n",
    "        labels = data.valid.labels[i:j, :]\n",
    "\n",
    "        # Create a feed-dict with these images and labels.\n",
    "        feed_dict = {x: images,\n",
    "                     y_true: labels}\n",
    "\n",
    "        # Calculate the predicted class using TensorFlow.\n",
    "        cls_pred[i:j] = session.run(y_pred_cls, feed_dict=feed_dict)\n",
    "\n",
    "        # Set the start-index for the next batch to the\n",
    "        # end-index of the current batch.\n",
    "        i = j\n",
    "\n",
    "    cls_true = np.array(data.valid.cls)\n",
    "    cls_pred = np.array([classes[x] for x in cls_pred]) \n",
    "\n",
    "    # Create a boolean array whether each image is correctly classified.\n",
    "    correct = (cls_true == cls_pred)\n",
    "\n",
    "    # Calculate the number of correctly classified images.\n",
    "    correct_sum = correct.sum()\n",
    "\n",
    "    acc = float(correct_sum) / num_test\n",
    "\n",
    "    # Print the accuracy.\n",
    "    msg = \"Accuracy on Validate-Set: {0:.3%} ({1} / {2})\"\n",
    "    print(msg.format(acc, correct_sum, num_test))\n",
    "\n",
    "    # Plot some examples of mis-classifications, if desired.\n",
    "    if show_example_errors:\n",
    "        print(\"Example errors:\")\n",
    "        plot_example_errors(cls_pred=cls_pred, correct=correct)\n",
    "\n",
    "    # Plot the confusion matrix, if desired.\n",
    "    if show_confusion_matrix:\n",
    "        print(\"Confusion Matrix:\")\n",
    "        plot_confusion_matrix(cls_pred=cls_pred)"
   ]
  },
  {
   "cell_type": "markdown",
   "metadata": {},
   "source": [
    "## Results and analysis"
   ]
  },
  {
   "cell_type": "markdown",
   "metadata": {},
   "source": [
    "Function for calculating the predicted labels for all the neural networks in the ensemble. The labels are combined further below."
   ]
  },
  {
   "cell_type": "code",
   "execution_count": 114,
   "metadata": {
    "collapsed": true
   },
   "outputs": [],
   "source": [
    "def ensemble_predictions():\n",
    "    # Empty list of predicted labels for each of the neural networks.\n",
    "    pred_labels = []\n",
    "\n",
    "    # Classification accuracy on the test-set for each network.\n",
    "    test_accuracies = []\n",
    "\n",
    "    # Classification accuracy on the validation-set for each network.\n",
    "    val_accuracies = []\n",
    "\n",
    "    # For each neural network in the ensemble.\n",
    "    for i in range(num_ensemble):\n",
    "        # Reload the variables into the TensorFlow graph.\n",
    "        saver.restore(sess=session, save_path=get_save_path(i+1))\n",
    "\n",
    "        # Calculate the classification accuracy on the test-set.\n",
    "        test_acc = test_accuracy()\n",
    "\n",
    "        # Append the classification accuracy to the list.\n",
    "        test_accuracies.append(test_acc)\n",
    "\n",
    "        # Calculate the classification accuracy on the validation-set.\n",
    "        val_acc = validation_accuracy()\n",
    "\n",
    "        # Append the classification accuracy to the list.\n",
    "        val_accuracies.append(val_acc)\n",
    "\n",
    "        # Print status message.\n",
    "        msg = \"Network: {0}, Accuracy on Validation-Set: {1:.3f}, Test-Set: {2:.3f}\"\n",
    "        print(msg.format(i+1, val_acc*100, test_acc*100))\n",
    "\n",
    "        # Calculate the predicted labels for the images in the test-set.\n",
    "        # This is already calculated in test_accuracy() above but\n",
    "        # it is re-calculated here to keep the code a bit simpler.\n",
    "        pred = predict_labels(images=datatest.images)\n",
    "\n",
    "        # Append the predicted labels to the list.\n",
    "        pred_labels.append(pred)\n",
    "    \n",
    "    return np.array(pred_labels), \\\n",
    "           np.array(test_accuracies), \\\n",
    "           np.array(val_accuracies)"
   ]
  },
  {
   "cell_type": "code",
   "execution_count": 115,
   "metadata": {
    "collapsed": false,
    "scrolled": true
   },
   "outputs": [
    {
     "name": "stdout",
     "output_type": "stream",
     "text": [
      "INFO:tensorflow:Restoring parameters from D:\\FaamruProject_kor\\Model\\checkpoints\\_3274\\20180515\\network1\\best_validate_3274_Ensemble_Network1\n",
      "Network: 1, Accuracy on Validation-Set: 94.013, Test-Set: 92.061\n",
      "INFO:tensorflow:Restoring parameters from D:\\FaamruProject_kor\\Model\\checkpoints\\_3274\\20180515\\network2\\best_validate_3274_Ensemble_Network2\n",
      "Network: 2, Accuracy on Validation-Set: 93.503, Test-Set: 90.840\n",
      "INFO:tensorflow:Restoring parameters from D:\\FaamruProject_kor\\Model\\checkpoints\\_3274\\20180515\\network3\\best_validate_3274_Ensemble_Network3\n",
      "Network: 3, Accuracy on Validation-Set: 93.631, Test-Set: 90.840\n"
     ]
    }
   ],
   "source": [
    "pred_labels, test_accuracies, val_accuracies = ensemble_predictions()"
   ]
  },
  {
   "cell_type": "markdown",
   "metadata": {},
   "source": [
    "Summarize the classification accuracies on the test-set for the neural networks in the ensemble."
   ]
  },
  {
   "cell_type": "code",
   "execution_count": 116,
   "metadata": {
    "collapsed": false
   },
   "outputs": [
    {
     "name": "stdout",
     "output_type": "stream",
     "text": [
      "Mean test-set accuracy: 0.9372\n",
      "Min test-set accuracy:  0.9350\n",
      "Max test-set accuracy:  0.9401\n"
     ]
    }
   ],
   "source": [
    "print(\"Mean test-set accuracy: {0:.4f}\".format(np.mean(val_accuracies)))\n",
    "print(\"Min test-set accuracy:  {0:.4f}\".format(np.min(val_accuracies)))\n",
    "print(\"Max test-set accuracy:  {0:.4f}\".format(np.max(val_accuracies)))"
   ]
  },
  {
   "cell_type": "code",
   "execution_count": 117,
   "metadata": {
    "collapsed": false
   },
   "outputs": [
    {
     "data": {
      "text/plain": [
       "3"
      ]
     },
     "execution_count": 117,
     "metadata": {},
     "output_type": "execute_result"
    }
   ],
   "source": [
    "len(val_accuracies)"
   ]
  },
  {
   "cell_type": "code",
   "execution_count": 118,
   "metadata": {
    "collapsed": false
   },
   "outputs": [
    {
     "data": {
      "text/plain": [
       "array([ 0.92061069,  0.90839695,  0.90839695])"
      ]
     },
     "execution_count": 118,
     "metadata": {},
     "output_type": "execute_result"
    }
   ],
   "source": [
    "test_accuracies"
   ]
  },
  {
   "cell_type": "code",
   "execution_count": 119,
   "metadata": {
    "collapsed": false,
    "scrolled": true
   },
   "outputs": [
    {
     "data": {
      "text/plain": [
       "array([[[ 0.96258837,  0.03741162],\n",
       "        [ 0.99174553,  0.00825445],\n",
       "        [ 0.97440934,  0.02559062],\n",
       "        ..., \n",
       "        [ 0.06263791,  0.93736207],\n",
       "        [ 0.0274682 ,  0.9725318 ],\n",
       "        [ 0.11321313,  0.88678682]],\n",
       "\n",
       "       [[ 0.98281419,  0.01718576],\n",
       "        [ 0.99779224,  0.00220781],\n",
       "        [ 0.96659887,  0.03340115],\n",
       "        ..., \n",
       "        [ 0.11208374,  0.88791621],\n",
       "        [ 0.10576452,  0.89423543],\n",
       "        [ 0.21536598,  0.78463405]],\n",
       "\n",
       "       [[ 0.99625862,  0.00374143],\n",
       "        [ 0.99302214,  0.00697783],\n",
       "        [ 0.91493022,  0.0850698 ],\n",
       "        ..., \n",
       "        [ 0.1960969 ,  0.8039031 ],\n",
       "        [ 0.05697759,  0.94302243],\n",
       "        [ 0.04565481,  0.95434517]]])"
      ]
     },
     "execution_count": 119,
     "metadata": {},
     "output_type": "execute_result"
    }
   ],
   "source": [
    "pred_labels"
   ]
  },
  {
   "cell_type": "markdown",
   "metadata": {},
   "source": [
    "The predicted labels of the ensemble is a 3-dim array, the first dim is the network-number, the second dim is the image-number, the third dim is the classification vector."
   ]
  },
  {
   "cell_type": "code",
   "execution_count": 120,
   "metadata": {
    "collapsed": false,
    "scrolled": true
   },
   "outputs": [
    {
     "data": {
      "text/plain": [
       "(3, 655, 2)"
      ]
     },
     "execution_count": 120,
     "metadata": {},
     "output_type": "execute_result"
    }
   ],
   "source": [
    "pred_labels.shape"
   ]
  },
  {
   "cell_type": "markdown",
   "metadata": {},
   "source": [
    "### Mean Ensemble predictions"
   ]
  },
  {
   "cell_type": "code",
   "execution_count": 121,
   "metadata": {
    "collapsed": false
   },
   "outputs": [
    {
     "data": {
      "text/plain": [
       "(655, 2)"
      ]
     },
     "execution_count": 121,
     "metadata": {},
     "output_type": "execute_result"
    }
   ],
   "source": [
    "ensemble_pred_labels = np.mean(pred_labels, axis=0)\n",
    "ensemble_pred_labels.shape"
   ]
  },
  {
   "cell_type": "code",
   "execution_count": 122,
   "metadata": {
    "collapsed": false
   },
   "outputs": [
    {
     "data": {
      "text/plain": [
       "array([[ 0.98055373,  0.01944627],\n",
       "       [ 0.99418664,  0.00581337],\n",
       "       [ 0.95197948,  0.04802052],\n",
       "       ..., \n",
       "       [ 0.12360618,  0.8763938 ],\n",
       "       [ 0.06340344,  0.93659655],\n",
       "       [ 0.12474464,  0.87525535]])"
      ]
     },
     "execution_count": 122,
     "metadata": {},
     "output_type": "execute_result"
    }
   ],
   "source": [
    "ensemble_pred_labels"
   ]
  },
  {
   "cell_type": "markdown",
   "metadata": {},
   "source": [
    "The ensemble's predicted class number is then the index of the highest number in the label, which is calculated using argmax as usual."
   ]
  },
  {
   "cell_type": "code",
   "execution_count": 123,
   "metadata": {
    "collapsed": false
   },
   "outputs": [
    {
     "data": {
      "text/plain": [
       "(655,)"
      ]
     },
     "execution_count": 123,
     "metadata": {},
     "output_type": "execute_result"
    }
   ],
   "source": [
    "ensemble_cls_pred = np.argmax(ensemble_pred_labels, axis=1)\n",
    "ensemble_cls_pred.shape"
   ]
  },
  {
   "cell_type": "code",
   "execution_count": 124,
   "metadata": {
    "collapsed": false
   },
   "outputs": [
    {
     "data": {
      "text/plain": [
       "array([0, 0, 0, 0, 0, 0, 0, 0, 0, 0, 0, 0, 0, 0, 0, 0, 0, 0, 0, 0, 0, 0, 0,\n",
       "       0, 0, 1, 0, 0, 0, 0, 1, 0, 1, 0, 0, 0, 0, 0, 0, 0, 0, 0, 0, 0, 0, 0,\n",
       "       0, 0, 0, 0, 0, 0, 0, 0, 0, 0, 0, 1, 0, 0, 0, 1, 0, 0, 1, 0, 0, 1, 0,\n",
       "       1, 0, 0, 0, 0, 0, 0, 0, 0, 0, 0, 0, 0, 0, 1, 1, 0, 0, 1, 1, 0, 0, 0,\n",
       "       0, 1, 0, 0, 1, 0, 0, 1, 0, 0, 0, 0, 0, 0, 0, 0, 1, 0, 0, 0, 0, 0, 0,\n",
       "       1, 1, 1, 0, 0, 0, 0, 0, 0, 0, 1, 0, 0, 0, 0, 0, 0, 0, 0, 0, 0, 1, 0,\n",
       "       0, 0, 0, 0, 0, 0, 0, 0, 0, 0, 0, 0, 0, 0, 0, 0, 1, 0, 0, 0, 0, 0, 0,\n",
       "       0, 0, 1, 1, 0, 1, 0, 0, 0, 0, 0, 0, 0, 0, 0, 0, 0, 0, 0, 0, 0, 0, 0,\n",
       "       1, 0, 0, 0, 0, 0, 0, 0, 1, 0, 0, 1, 0, 0, 0, 0, 0, 0, 0, 0, 0, 1, 0,\n",
       "       0, 0, 0, 0, 1, 0, 0, 0, 0, 1, 0, 0, 0, 0, 0, 0, 0, 0, 0, 1, 0, 0, 0,\n",
       "       0, 1, 1, 1, 0, 0, 0, 0, 0, 1, 0, 0, 0, 0, 0, 0, 0, 0, 1, 0, 0, 1, 0,\n",
       "       0, 0, 0, 0, 0, 1, 0, 0, 0, 0, 0, 0, 0, 0, 0, 0, 0, 0, 0, 0, 0, 0, 0,\n",
       "       0, 0, 0, 0, 0, 0, 0, 0, 0, 0, 0, 0, 0, 0, 0, 0, 0, 1, 1, 1, 1, 1, 1,\n",
       "       1, 1, 1, 1, 1, 1, 1, 1, 1, 1, 1, 1, 1, 1, 1, 1, 1, 1, 1, 1, 1, 1, 1,\n",
       "       1, 1, 1, 1, 1, 1, 1, 1, 1, 1, 1, 1, 1, 1, 1, 1, 1, 1, 1, 1, 1, 1, 1,\n",
       "       1, 1, 1, 1, 1, 1, 1, 1, 1, 1, 1, 1, 1, 1, 1, 1, 1, 1, 1, 1, 1, 1, 1,\n",
       "       1, 1, 0, 1, 1, 1, 1, 1, 1, 1, 1, 1, 1, 1, 1, 1, 1, 1, 1, 1, 1, 0, 1,\n",
       "       0, 1, 1, 1, 0, 1, 1, 1, 1, 1, 1, 1, 1, 1, 1, 1, 1, 1, 1, 1, 1, 1, 1,\n",
       "       1, 1, 1, 1, 1, 1, 1, 0, 1, 1, 1, 1, 1, 1, 1, 1, 1, 1, 1, 1, 1, 1, 1,\n",
       "       1, 1, 1, 1, 1, 1, 1, 1, 1, 1, 1, 1, 0, 1, 1, 1, 1, 1, 1, 1, 1, 1, 1,\n",
       "       1, 1, 1, 1, 1, 1, 1, 1, 1, 1, 1, 1, 1, 1, 1, 1, 1, 1, 1, 1, 1, 1, 1,\n",
       "       1, 1, 1, 1, 1, 1, 1, 1, 1, 1, 1, 1, 1, 1, 1, 1, 1, 1, 1, 1, 1, 1, 1,\n",
       "       1, 1, 1, 1, 1, 1, 1, 1, 1, 0, 1, 1, 1, 1, 1, 1, 1, 1, 1, 1, 1, 1, 1,\n",
       "       1, 1, 1, 1, 1, 1, 1, 0, 1, 1, 1, 1, 1, 1, 1, 1, 1, 1, 1, 1, 1, 1, 1,\n",
       "       1, 1, 1, 0, 1, 1, 1, 1, 1, 0, 1, 0, 1, 1, 1, 1, 1, 1, 1, 1, 1, 1, 1,\n",
       "       1, 1, 1, 1, 1, 1, 1, 1, 1, 0, 1, 1, 1, 1, 1, 1, 1, 1, 1, 1, 1, 1, 1,\n",
       "       1, 1, 1, 1, 1, 1, 1, 1, 1, 1, 1, 1, 1, 1, 1, 1, 1, 1, 1, 1, 1, 1, 0,\n",
       "       1, 1, 0, 1, 1, 1, 1, 1, 1, 1, 1, 1, 1, 1, 1, 1, 1, 1, 1, 1, 1, 1, 1,\n",
       "       1, 1, 1, 1, 1, 1, 1, 1, 1, 1, 1], dtype=int64)"
      ]
     },
     "execution_count": 124,
     "metadata": {},
     "output_type": "execute_result"
    }
   ],
   "source": [
    "ensemble_cls_pred"
   ]
  },
  {
   "cell_type": "markdown",
   "metadata": {},
   "source": [
    "Boolean array whether each of the images in the test-set was correctly classified by the ensemble of neural networks."
   ]
  },
  {
   "cell_type": "code",
   "execution_count": 125,
   "metadata": {
    "collapsed": true
   },
   "outputs": [],
   "source": [
    "ensemble_correct = (ensemble_cls_pred == np.argmax(datatest.labels))"
   ]
  },
  {
   "cell_type": "code",
   "execution_count": 126,
   "metadata": {
    "collapsed": false
   },
   "outputs": [
    {
     "data": {
      "text/plain": [
       "array([ True,  True,  True,  True,  True,  True,  True,  True,  True,\n",
       "        True,  True,  True,  True,  True,  True,  True,  True,  True,\n",
       "        True,  True,  True,  True,  True,  True,  True, False,  True,\n",
       "        True,  True,  True, False,  True, False,  True,  True,  True,\n",
       "        True,  True,  True,  True,  True,  True,  True,  True,  True,\n",
       "        True,  True,  True,  True,  True,  True,  True,  True,  True,\n",
       "        True,  True,  True, False,  True,  True,  True, False,  True,\n",
       "        True, False,  True,  True, False,  True, False,  True,  True,\n",
       "        True,  True,  True,  True,  True,  True,  True,  True,  True,\n",
       "        True,  True, False, False,  True,  True, False, False,  True,\n",
       "        True,  True,  True, False,  True,  True, False,  True,  True,\n",
       "       False,  True,  True,  True,  True,  True,  True,  True,  True,\n",
       "       False,  True,  True,  True,  True,  True,  True, False, False,\n",
       "       False,  True,  True,  True,  True,  True,  True,  True, False,\n",
       "        True,  True,  True,  True,  True,  True,  True,  True,  True,\n",
       "        True, False,  True,  True,  True,  True,  True,  True,  True,\n",
       "        True,  True,  True,  True,  True,  True,  True,  True,  True,\n",
       "        True, False,  True,  True,  True,  True,  True,  True,  True,\n",
       "        True, False, False,  True, False,  True,  True,  True,  True,\n",
       "        True,  True,  True,  True,  True,  True,  True,  True,  True,\n",
       "        True,  True,  True,  True, False,  True,  True,  True,  True,\n",
       "        True,  True,  True, False,  True,  True, False,  True,  True,\n",
       "        True,  True,  True,  True,  True,  True,  True, False,  True,\n",
       "        True,  True,  True,  True, False,  True,  True,  True,  True,\n",
       "       False,  True,  True,  True,  True,  True,  True,  True,  True,\n",
       "        True, False,  True,  True,  True,  True, False, False, False,\n",
       "        True,  True,  True,  True,  True, False,  True,  True,  True,\n",
       "        True,  True,  True,  True,  True, False,  True,  True, False,\n",
       "        True,  True,  True,  True,  True,  True, False,  True,  True,\n",
       "        True,  True,  True,  True,  True,  True,  True,  True,  True,\n",
       "        True,  True,  True,  True,  True,  True,  True,  True,  True,\n",
       "        True,  True,  True,  True,  True,  True,  True,  True,  True,\n",
       "        True,  True,  True,  True,  True, False, False, False, False,\n",
       "       False, False, False, False, False, False, False, False, False,\n",
       "       False, False, False, False, False, False, False, False, False,\n",
       "       False, False, False, False, False, False, False, False, False,\n",
       "       False, False, False, False, False, False, False, False, False,\n",
       "       False, False, False, False, False, False, False, False, False,\n",
       "       False, False, False, False, False, False, False, False, False,\n",
       "       False, False, False, False, False, False, False, False, False,\n",
       "       False, False, False, False, False, False, False, False, False,\n",
       "       False,  True, False, False, False, False, False, False, False,\n",
       "       False, False, False, False, False, False, False, False, False,\n",
       "       False, False,  True, False,  True, False, False, False,  True,\n",
       "       False, False, False, False, False, False, False, False, False,\n",
       "       False, False, False, False, False, False, False, False, False,\n",
       "       False, False, False, False, False, False, False,  True, False,\n",
       "       False, False, False, False, False, False, False, False, False,\n",
       "       False, False, False, False, False, False, False, False, False,\n",
       "       False, False, False, False, False, False, False, False,  True,\n",
       "       False, False, False, False, False, False, False, False, False,\n",
       "       False, False, False, False, False, False, False, False, False,\n",
       "       False, False, False, False, False, False, False, False, False,\n",
       "       False, False, False, False, False, False, False, False, False,\n",
       "       False, False, False, False, False, False, False, False, False,\n",
       "       False, False, False, False, False, False, False, False, False,\n",
       "       False, False, False, False, False, False, False, False, False,\n",
       "       False, False,  True, False, False, False, False, False, False,\n",
       "       False, False, False, False, False, False, False, False, False,\n",
       "       False, False, False, False, False,  True, False, False, False,\n",
       "       False, False, False, False, False, False, False, False, False,\n",
       "       False, False, False, False, False, False,  True, False, False,\n",
       "       False, False, False,  True, False,  True, False, False, False,\n",
       "       False, False, False, False, False, False, False, False, False,\n",
       "       False, False, False, False, False, False, False, False,  True,\n",
       "       False, False, False, False, False, False, False, False, False,\n",
       "       False, False, False, False, False, False, False, False, False,\n",
       "       False, False, False, False, False, False, False, False, False,\n",
       "       False, False, False, False, False, False, False, False,  True,\n",
       "       False, False,  True, False, False, False, False, False, False,\n",
       "       False, False, False, False, False, False, False, False, False,\n",
       "       False, False, False, False, False, False, False, False, False,\n",
       "       False, False, False, False, False, False, False], dtype=bool)"
      ]
     },
     "execution_count": 126,
     "metadata": {},
     "output_type": "execute_result"
    }
   ],
   "source": [
    "ensemble_correct"
   ]
  },
  {
   "cell_type": "markdown",
   "metadata": {},
   "source": [
    "Negate the boolean array so we can use it to lookup incorrectly classified images."
   ]
  },
  {
   "cell_type": "code",
   "execution_count": 127,
   "metadata": {
    "collapsed": true
   },
   "outputs": [],
   "source": [
    "ensemble_incorrect = np.logical_not(ensemble_correct)"
   ]
  },
  {
   "cell_type": "code",
   "execution_count": 128,
   "metadata": {
    "collapsed": false
   },
   "outputs": [
    {
     "data": {
      "text/plain": [
       "array([[ 1.,  0.],\n",
       "       [ 1.,  0.],\n",
       "       [ 1.,  0.],\n",
       "       ..., \n",
       "       [ 0.,  1.],\n",
       "       [ 0.,  1.],\n",
       "       [ 0.,  1.]])"
      ]
     },
     "execution_count": 128,
     "metadata": {},
     "output_type": "execute_result"
    }
   ],
   "source": [
    "datatest.labels "
   ]
  },
  {
   "cell_type": "code",
   "execution_count": 129,
   "metadata": {
    "collapsed": false
   },
   "outputs": [
    {
     "data": {
      "text/plain": [
       "array([0, 0, 0, 0, 0, 0, 0, 0, 0, 0, 0, 0, 0, 0, 0, 0, 0, 0, 0, 0, 0, 0, 0,\n",
       "       0, 0, 0, 0, 0, 0, 0, 0, 0, 0, 0, 0, 0, 0, 0, 0, 0, 0, 0, 0, 0, 0, 0,\n",
       "       0, 0, 0, 0, 0, 0, 0, 0, 0, 0, 0, 0, 0, 0, 0, 0, 0, 0, 0, 0, 0, 0, 0,\n",
       "       0, 0, 0, 0, 0, 0, 0, 0, 0, 0, 0, 0, 0, 0, 0, 0, 0, 0, 0, 0, 0, 0, 0,\n",
       "       0, 0, 0, 0, 0, 0, 0, 0, 0, 0, 0, 0, 0, 0, 0, 0, 0, 0, 0, 0, 0, 0, 0,\n",
       "       0, 0, 0, 0, 0, 0, 0, 0, 0, 0, 0, 0, 0, 0, 0, 0, 0, 0, 0, 0, 0, 0, 0,\n",
       "       0, 0, 0, 0, 0, 0, 0, 0, 0, 0, 0, 0, 0, 0, 0, 0, 0, 0, 0, 0, 0, 0, 0,\n",
       "       0, 0, 0, 0, 0, 0, 0, 0, 0, 0, 0, 0, 0, 0, 0, 0, 0, 0, 0, 0, 0, 0, 0,\n",
       "       0, 0, 0, 0, 0, 0, 0, 0, 0, 0, 0, 0, 0, 0, 0, 0, 0, 0, 0, 0, 0, 0, 0,\n",
       "       0, 0, 0, 0, 0, 0, 0, 0, 0, 0, 0, 0, 0, 0, 0, 0, 0, 0, 0, 0, 0, 0, 0,\n",
       "       0, 0, 0, 0, 0, 0, 0, 0, 0, 0, 0, 0, 0, 0, 0, 0, 0, 0, 0, 0, 0, 0, 0,\n",
       "       0, 0, 0, 0, 0, 0, 0, 0, 0, 0, 0, 0, 0, 0, 0, 0, 0, 0, 0, 0, 0, 0, 0,\n",
       "       0, 0, 0, 0, 0, 0, 0, 0, 0, 0, 0, 0, 0, 0, 0, 0, 0, 1, 1, 1, 1, 1, 1,\n",
       "       1, 1, 1, 1, 1, 1, 1, 1, 1, 1, 1, 1, 1, 1, 1, 1, 1, 1, 1, 1, 1, 1, 1,\n",
       "       1, 1, 1, 1, 1, 1, 1, 1, 1, 1, 1, 1, 1, 1, 1, 1, 1, 1, 1, 1, 1, 1, 1,\n",
       "       1, 1, 1, 1, 1, 1, 1, 1, 1, 1, 1, 1, 1, 1, 1, 1, 1, 1, 1, 1, 1, 1, 1,\n",
       "       1, 1, 1, 1, 1, 1, 1, 1, 1, 1, 1, 1, 1, 1, 1, 1, 1, 1, 1, 1, 1, 1, 1,\n",
       "       1, 1, 1, 1, 1, 1, 1, 1, 1, 1, 1, 1, 1, 1, 1, 1, 1, 1, 1, 1, 1, 1, 1,\n",
       "       1, 1, 1, 1, 1, 1, 1, 1, 1, 1, 1, 1, 1, 1, 1, 1, 1, 1, 1, 1, 1, 1, 1,\n",
       "       1, 1, 1, 1, 1, 1, 1, 1, 1, 1, 1, 1, 1, 1, 1, 1, 1, 1, 1, 1, 1, 1, 1,\n",
       "       1, 1, 1, 1, 1, 1, 1, 1, 1, 1, 1, 1, 1, 1, 1, 1, 1, 1, 1, 1, 1, 1, 1,\n",
       "       1, 1, 1, 1, 1, 1, 1, 1, 1, 1, 1, 1, 1, 1, 1, 1, 1, 1, 1, 1, 1, 1, 1,\n",
       "       1, 1, 1, 1, 1, 1, 1, 1, 1, 1, 1, 1, 1, 1, 1, 1, 1, 1, 1, 1, 1, 1, 1,\n",
       "       1, 1, 1, 1, 1, 1, 1, 1, 1, 1, 1, 1, 1, 1, 1, 1, 1, 1, 1, 1, 1, 1, 1,\n",
       "       1, 1, 1, 1, 1, 1, 1, 1, 1, 1, 1, 1, 1, 1, 1, 1, 1, 1, 1, 1, 1, 1, 1,\n",
       "       1, 1, 1, 1, 1, 1, 1, 1, 1, 1, 1, 1, 1, 1, 1, 1, 1, 1, 1, 1, 1, 1, 1,\n",
       "       1, 1, 1, 1, 1, 1, 1, 1, 1, 1, 1, 1, 1, 1, 1, 1, 1, 1, 1, 1, 1, 1, 1,\n",
       "       1, 1, 1, 1, 1, 1, 1, 1, 1, 1, 1, 1, 1, 1, 1, 1, 1, 1, 1, 1, 1, 1, 1,\n",
       "       1, 1, 1, 1, 1, 1, 1, 1, 1, 1, 1], dtype=int64)"
      ]
     },
     "execution_count": 129,
     "metadata": {},
     "output_type": "execute_result"
    }
   ],
   "source": [
    "np.argmax(datatest.labels,axis=1)"
   ]
  },
  {
   "cell_type": "code",
   "execution_count": 130,
   "metadata": {
    "collapsed": false
   },
   "outputs": [],
   "source": [
    "correct = (ensemble_cls_pred == np.argmax(datatest.labels,axis=1))\n",
    "# Calculate the number of correctly classified images.\n",
    "correct_sum = correct.sum()\n",
    "\n",
    "acc = float(correct_sum) /len(datatest.images)"
   ]
  },
  {
   "cell_type": "code",
   "execution_count": 131,
   "metadata": {
    "collapsed": false,
    "scrolled": true
   },
   "outputs": [
    {
     "name": "stdout",
     "output_type": "stream",
     "text": [
      "Accuracy of Mean Ensemble test set : 91.908\n"
     ]
    }
   ],
   "source": [
    "print('Accuracy of Mean Ensemble test set : {0:.3f}'.format(acc*100))"
   ]
  },
  {
   "cell_type": "markdown",
   "metadata": {},
   "source": [
    "### Best neural network\n",
    "\n",
    "Now we find the single neural network that performed best on the test-set.\n",
    "\n",
    "First list the classification accuracies on the test-set for all the neural networks in the ensemble."
   ]
  },
  {
   "cell_type": "code",
   "execution_count": 132,
   "metadata": {
    "collapsed": false
   },
   "outputs": [
    {
     "data": {
      "text/plain": [
       "array([ 92.0610687 ,  90.83969466,  90.83969466])"
      ]
     },
     "execution_count": 132,
     "metadata": {},
     "output_type": "execute_result"
    }
   ],
   "source": [
    "test_accuracies*100"
   ]
  },
  {
   "cell_type": "markdown",
   "metadata": {},
   "source": [
    "The index of the neural network with the highest classification accuracy."
   ]
  },
  {
   "cell_type": "code",
   "execution_count": 133,
   "metadata": {
    "collapsed": false
   },
   "outputs": [
    {
     "name": "stdout",
     "output_type": "stream",
     "text": [
      "Ensemble CNN : 1\n"
     ]
    }
   ],
   "source": [
    "best_net = np.argmax(test_accuracies)\n",
    "print('Ensemble CNN : {}'.format(best_net+1))"
   ]
  },
  {
   "cell_type": "markdown",
   "metadata": {},
   "source": [
    "The best neural network's classification accuracy on the test-set."
   ]
  },
  {
   "cell_type": "code",
   "execution_count": 134,
   "metadata": {
    "collapsed": false
   },
   "outputs": [
    {
     "data": {
      "text/plain": [
       "92.061068702290072"
      ]
     },
     "execution_count": 134,
     "metadata": {},
     "output_type": "execute_result"
    }
   ],
   "source": [
    "test_accuracies[best_net]*100"
   ]
  },
  {
   "cell_type": "markdown",
   "metadata": {},
   "source": [
    "Predicted labels of the best neural network."
   ]
  },
  {
   "cell_type": "code",
   "execution_count": 135,
   "metadata": {
    "collapsed": true
   },
   "outputs": [],
   "source": [
    "best_net_pred_labels = pred_labels[best_net, :, :]"
   ]
  },
  {
   "cell_type": "code",
   "execution_count": 136,
   "metadata": {
    "collapsed": false
   },
   "outputs": [
    {
     "data": {
      "text/plain": [
       "array([[ 0.96258837,  0.03741162],\n",
       "       [ 0.99174553,  0.00825445],\n",
       "       [ 0.97440934,  0.02559062],\n",
       "       ..., \n",
       "       [ 0.06263791,  0.93736207],\n",
       "       [ 0.0274682 ,  0.9725318 ],\n",
       "       [ 0.11321313,  0.88678682]])"
      ]
     },
     "execution_count": 136,
     "metadata": {},
     "output_type": "execute_result"
    }
   ],
   "source": [
    "best_net_pred_labels"
   ]
  },
  {
   "cell_type": "markdown",
   "metadata": {},
   "source": [
    "The predicted class-number."
   ]
  },
  {
   "cell_type": "code",
   "execution_count": 137,
   "metadata": {
    "collapsed": true
   },
   "outputs": [],
   "source": [
    "best_net_cls_pred = np.argmax(best_net_pred_labels, axis=1)"
   ]
  },
  {
   "cell_type": "code",
   "execution_count": 138,
   "metadata": {
    "collapsed": false
   },
   "outputs": [
    {
     "data": {
      "text/plain": [
       "array([0, 0, 0, 0, 0, 0, 0, 0, 0, 0, 0, 0, 0, 0, 0, 0, 0, 0, 0, 0, 0, 0, 0,\n",
       "       0, 0, 1, 0, 0, 0, 0, 1, 0, 1, 0, 0, 0, 0, 0, 0, 0, 0, 0, 0, 0, 0, 0,\n",
       "       0, 0, 0, 0, 0, 0, 0, 0, 0, 0, 0, 1, 0, 0, 0, 1, 0, 0, 0, 0, 0, 1, 0,\n",
       "       1, 0, 0, 0, 0, 0, 0, 0, 0, 0, 0, 0, 0, 0, 1, 1, 0, 0, 0, 1, 0, 0, 0,\n",
       "       0, 1, 0, 0, 0, 0, 0, 1, 0, 0, 0, 0, 0, 0, 0, 1, 1, 0, 0, 0, 0, 0, 0,\n",
       "       1, 1, 1, 0, 0, 0, 0, 0, 0, 0, 1, 0, 0, 0, 0, 0, 0, 0, 0, 0, 0, 1, 0,\n",
       "       0, 0, 0, 0, 0, 0, 0, 0, 0, 0, 0, 0, 0, 0, 0, 0, 1, 0, 0, 0, 0, 0, 0,\n",
       "       0, 0, 1, 0, 0, 1, 0, 0, 0, 0, 0, 0, 0, 0, 0, 0, 0, 0, 0, 0, 0, 0, 0,\n",
       "       1, 0, 0, 0, 0, 0, 0, 0, 0, 0, 0, 1, 0, 0, 0, 0, 0, 0, 0, 0, 0, 1, 0,\n",
       "       0, 0, 0, 0, 0, 0, 0, 0, 0, 1, 0, 0, 0, 0, 0, 0, 1, 0, 0, 1, 0, 0, 0,\n",
       "       0, 1, 1, 1, 0, 0, 0, 0, 0, 1, 0, 0, 0, 0, 0, 0, 0, 0, 1, 0, 0, 1, 0,\n",
       "       0, 0, 0, 0, 0, 1, 0, 0, 1, 0, 0, 0, 0, 0, 0, 0, 0, 0, 0, 0, 0, 0, 0,\n",
       "       0, 0, 0, 0, 0, 0, 0, 0, 0, 0, 0, 0, 0, 0, 0, 0, 0, 1, 1, 1, 1, 1, 1,\n",
       "       1, 1, 1, 1, 1, 1, 1, 1, 1, 1, 1, 1, 1, 1, 1, 1, 1, 1, 1, 1, 1, 1, 1,\n",
       "       1, 1, 1, 1, 1, 1, 1, 1, 1, 1, 1, 1, 1, 1, 1, 1, 1, 1, 1, 1, 1, 1, 1,\n",
       "       1, 1, 1, 1, 1, 1, 1, 1, 1, 1, 1, 1, 1, 0, 1, 1, 1, 1, 1, 1, 1, 1, 1,\n",
       "       1, 1, 0, 1, 1, 1, 1, 1, 1, 1, 1, 1, 1, 1, 1, 1, 1, 1, 1, 1, 1, 0, 1,\n",
       "       1, 1, 1, 1, 1, 1, 1, 1, 1, 1, 1, 1, 1, 1, 1, 1, 1, 1, 1, 1, 1, 1, 1,\n",
       "       1, 1, 1, 1, 1, 1, 1, 0, 1, 1, 1, 1, 1, 1, 1, 1, 1, 1, 1, 1, 1, 1, 1,\n",
       "       1, 1, 1, 1, 1, 1, 1, 1, 1, 1, 1, 1, 1, 1, 1, 1, 1, 1, 1, 1, 1, 1, 1,\n",
       "       1, 1, 1, 1, 1, 1, 1, 1, 1, 1, 1, 1, 1, 1, 1, 1, 1, 1, 1, 1, 1, 1, 1,\n",
       "       1, 1, 1, 1, 1, 1, 1, 1, 1, 1, 1, 1, 1, 1, 1, 1, 1, 1, 1, 1, 1, 1, 1,\n",
       "       1, 1, 1, 1, 1, 1, 1, 1, 1, 0, 1, 1, 1, 1, 1, 1, 1, 1, 1, 1, 1, 1, 1,\n",
       "       1, 1, 1, 1, 1, 1, 1, 0, 1, 1, 1, 1, 1, 1, 1, 1, 1, 1, 1, 1, 1, 1, 1,\n",
       "       1, 1, 1, 0, 1, 1, 1, 1, 1, 1, 1, 0, 1, 1, 1, 0, 1, 1, 1, 1, 1, 1, 1,\n",
       "       1, 1, 1, 1, 1, 1, 1, 1, 1, 0, 1, 1, 1, 1, 1, 1, 1, 1, 1, 1, 1, 1, 1,\n",
       "       1, 1, 1, 1, 1, 1, 1, 1, 1, 1, 1, 1, 1, 1, 1, 0, 1, 1, 1, 1, 1, 1, 0,\n",
       "       1, 1, 0, 1, 1, 1, 1, 1, 1, 1, 1, 1, 1, 1, 1, 1, 1, 1, 1, 1, 1, 1, 1,\n",
       "       1, 1, 1, 1, 1, 1, 1, 1, 1, 1, 1], dtype=int64)"
      ]
     },
     "execution_count": 138,
     "metadata": {},
     "output_type": "execute_result"
    }
   ],
   "source": [
    "best_net_cls_pred"
   ]
  },
  {
   "cell_type": "markdown",
   "metadata": {},
   "source": [
    "Boolean array whether the best neural network classified each image in the test-set correctly."
   ]
  },
  {
   "cell_type": "code",
   "execution_count": 150,
   "metadata": {
    "collapsed": true
   },
   "outputs": [],
   "source": [
    "best_net_correct = (best_net_cls_pred == np.argmax(datatest.labels, axis=1))"
   ]
  },
  {
   "cell_type": "code",
   "execution_count": 151,
   "metadata": {
    "collapsed": false
   },
   "outputs": [
    {
     "data": {
      "text/plain": [
       "array([ True,  True,  True,  True,  True,  True,  True,  True,  True,\n",
       "        True,  True,  True,  True,  True,  True,  True,  True,  True,\n",
       "        True,  True,  True,  True,  True,  True,  True, False,  True,\n",
       "        True,  True,  True, False,  True, False,  True,  True,  True,\n",
       "        True,  True,  True,  True,  True,  True,  True,  True,  True,\n",
       "        True,  True,  True,  True,  True,  True,  True,  True,  True,\n",
       "        True,  True,  True, False,  True,  True,  True, False,  True,\n",
       "        True,  True,  True,  True, False,  True, False,  True,  True,\n",
       "        True,  True,  True,  True,  True,  True,  True,  True,  True,\n",
       "        True,  True, False, False,  True,  True,  True, False,  True,\n",
       "        True,  True,  True, False,  True,  True,  True,  True,  True,\n",
       "       False,  True,  True,  True,  True,  True,  True,  True, False,\n",
       "       False,  True,  True,  True,  True,  True,  True, False, False,\n",
       "       False,  True,  True,  True,  True,  True,  True,  True, False,\n",
       "        True,  True,  True,  True,  True,  True,  True,  True,  True,\n",
       "        True, False,  True,  True,  True,  True,  True,  True,  True,\n",
       "        True,  True,  True,  True,  True,  True,  True,  True,  True,\n",
       "        True, False,  True,  True,  True,  True,  True,  True,  True,\n",
       "        True, False,  True,  True, False,  True,  True,  True,  True,\n",
       "        True,  True,  True,  True,  True,  True,  True,  True,  True,\n",
       "        True,  True,  True,  True, False,  True,  True,  True,  True,\n",
       "        True,  True,  True,  True,  True,  True, False,  True,  True,\n",
       "        True,  True,  True,  True,  True,  True,  True, False,  True,\n",
       "        True,  True,  True,  True,  True,  True,  True,  True,  True,\n",
       "       False,  True,  True,  True,  True,  True,  True, False,  True,\n",
       "        True, False,  True,  True,  True,  True, False, False, False,\n",
       "        True,  True,  True,  True,  True, False,  True,  True,  True,\n",
       "        True,  True,  True,  True,  True, False,  True,  True, False,\n",
       "        True,  True,  True,  True,  True,  True, False,  True,  True,\n",
       "       False,  True,  True,  True,  True,  True,  True,  True,  True,\n",
       "        True,  True,  True,  True,  True,  True,  True,  True,  True,\n",
       "        True,  True,  True,  True,  True,  True,  True,  True,  True,\n",
       "        True,  True,  True,  True,  True,  True,  True,  True,  True,\n",
       "        True,  True,  True,  True,  True,  True,  True,  True,  True,\n",
       "        True,  True,  True,  True,  True,  True,  True,  True,  True,\n",
       "        True,  True,  True,  True,  True,  True,  True,  True,  True,\n",
       "        True,  True,  True,  True,  True,  True,  True,  True,  True,\n",
       "        True,  True,  True,  True,  True,  True,  True,  True,  True,\n",
       "        True,  True,  True,  True,  True,  True,  True,  True,  True,\n",
       "        True,  True,  True,  True,  True,  True,  True, False,  True,\n",
       "        True,  True,  True,  True,  True,  True,  True,  True,  True,\n",
       "        True, False,  True,  True,  True,  True,  True,  True,  True,\n",
       "        True,  True,  True,  True,  True,  True,  True,  True,  True,\n",
       "        True,  True, False,  True,  True,  True,  True,  True,  True,\n",
       "        True,  True,  True,  True,  True,  True,  True,  True,  True,\n",
       "        True,  True,  True,  True,  True,  True,  True,  True,  True,\n",
       "        True,  True,  True,  True,  True,  True,  True, False,  True,\n",
       "        True,  True,  True,  True,  True,  True,  True,  True,  True,\n",
       "        True,  True,  True,  True,  True,  True,  True,  True,  True,\n",
       "        True,  True,  True,  True,  True,  True,  True,  True,  True,\n",
       "        True,  True,  True,  True,  True,  True,  True,  True,  True,\n",
       "        True,  True,  True,  True,  True,  True,  True,  True,  True,\n",
       "        True,  True,  True,  True,  True,  True,  True,  True,  True,\n",
       "        True,  True,  True,  True,  True,  True,  True,  True,  True,\n",
       "        True,  True,  True,  True,  True,  True,  True,  True,  True,\n",
       "        True,  True,  True,  True,  True,  True,  True,  True,  True,\n",
       "        True,  True,  True,  True,  True,  True,  True,  True,  True,\n",
       "        True,  True, False,  True,  True,  True,  True,  True,  True,\n",
       "        True,  True,  True,  True,  True,  True,  True,  True,  True,\n",
       "        True,  True,  True,  True,  True, False,  True,  True,  True,\n",
       "        True,  True,  True,  True,  True,  True,  True,  True,  True,\n",
       "        True,  True,  True,  True,  True,  True, False,  True,  True,\n",
       "        True,  True,  True,  True,  True, False,  True,  True,  True,\n",
       "       False,  True,  True,  True,  True,  True,  True,  True,  True,\n",
       "        True,  True,  True,  True,  True,  True,  True,  True, False,\n",
       "        True,  True,  True,  True,  True,  True,  True,  True,  True,\n",
       "        True,  True,  True,  True,  True,  True,  True,  True,  True,\n",
       "        True,  True,  True,  True,  True,  True,  True,  True,  True,\n",
       "        True, False,  True,  True,  True,  True,  True,  True, False,\n",
       "        True,  True, False,  True,  True,  True,  True,  True,  True,\n",
       "        True,  True,  True,  True,  True,  True,  True,  True,  True,\n",
       "        True,  True,  True,  True,  True,  True,  True,  True,  True,\n",
       "        True,  True,  True,  True,  True,  True,  True], dtype=bool)"
      ]
     },
     "execution_count": 151,
     "metadata": {},
     "output_type": "execute_result"
    }
   ],
   "source": [
    "best_net_correct"
   ]
  },
  {
   "cell_type": "markdown",
   "metadata": {},
   "source": [
    "Boolean array whether each image is incorrectly classified."
   ]
  },
  {
   "cell_type": "code",
   "execution_count": 152,
   "metadata": {
    "collapsed": true
   },
   "outputs": [],
   "source": [
    "best_net_incorrect = np.logical_not(best_net_correct)"
   ]
  },
  {
   "cell_type": "code",
   "execution_count": 153,
   "metadata": {
    "collapsed": true
   },
   "outputs": [],
   "source": [
    "best_net_correct_sum = best_net_correct.sum()\n",
    "\n",
    "best_net_correct_acc = float(best_net_correct_sum) /len(datatest.images)"
   ]
  },
  {
   "cell_type": "code",
   "execution_count": 154,
   "metadata": {
    "collapsed": false
   },
   "outputs": [
    {
     "data": {
      "text/plain": [
       "92.51908396946565"
      ]
     },
     "execution_count": 154,
     "metadata": {},
     "output_type": "execute_result"
    }
   ],
   "source": [
    "best_net_correct_acc*100"
   ]
  },
  {
   "cell_type": "code",
   "execution_count": 155,
   "metadata": {
    "collapsed": false
   },
   "outputs": [
    {
     "name": "stdout",
     "output_type": "stream",
     "text": [
      "Accuracy of Best CNN test set  : 92.519\n"
     ]
    }
   ],
   "source": [
    "print('Accuracy of Best CNN test set  : {0:.3f}'.format(best_net_correct_acc*100))"
   ]
  },
  {
   "cell_type": "code",
   "execution_count": 156,
   "metadata": {
    "collapsed": true
   },
   "outputs": [],
   "source": [
    "def majority_vote(datalist):\n",
    "    myMap = {}\n",
    "    maximum = ( '', 0 ) # (occurring element, occurrences)\n",
    "    for data in datalist:\n",
    "        if data in myMap: myMap[data] += 1\n",
    "        else: myMap[data] = 1\n",
    "\n",
    "        # Keep track of maximum on the go\n",
    "        if myMap[data] > maximum[1]: maximum = (data,myMap[data])\n",
    "\n",
    "    return maximum"
   ]
  },
  {
   "cell_type": "code",
   "execution_count": 157,
   "metadata": {
    "collapsed": true
   },
   "outputs": [],
   "source": [
    "predicted_result_cnn1 = np.argmax(pred_labels[0],axis=1)\n",
    "predicted_result_cnn2 = np.argmax(pred_labels[1],axis=1)\n",
    "predicted_result_cnn3 = np.argmax(pred_labels[2],axis=1)"
   ]
  },
  {
   "cell_type": "code",
   "execution_count": 158,
   "metadata": {
    "collapsed": false
   },
   "outputs": [
    {
     "data": {
      "text/plain": [
       "655"
      ]
     },
     "execution_count": 158,
     "metadata": {},
     "output_type": "execute_result"
    }
   ],
   "source": [
    "len(predicted_result_cnn1)"
   ]
  },
  {
   "cell_type": "code",
   "execution_count": 159,
   "metadata": {
    "collapsed": false
   },
   "outputs": [
    {
     "data": {
      "text/plain": [
       "array([0, 0, 0, 0, 0, 0, 0, 0, 0, 0, 0, 0, 0, 0, 0, 0, 0, 0, 0, 0, 0, 0, 0,\n",
       "       0, 0, 1, 0, 0, 0, 0, 1, 0, 1, 0, 0, 0, 0, 0, 0, 0, 0, 0, 0, 0, 0, 0,\n",
       "       0, 0, 0, 0, 0, 0, 0, 0, 0, 0, 0, 1, 0, 0, 0, 1, 0, 0, 0, 0, 0, 1, 0,\n",
       "       1, 0, 0, 0, 0, 0, 0, 0, 0, 0, 0, 0, 0, 0, 1, 1, 0, 0, 0, 1, 0, 0, 0,\n",
       "       0, 1, 0, 0, 0, 0, 0, 1, 0, 0, 0, 0, 0, 0, 0, 1, 1, 0, 0, 0, 0, 0, 0,\n",
       "       1, 1, 1, 0, 0, 0, 0, 0, 0, 0, 1, 0, 0, 0, 0, 0, 0, 0, 0, 0, 0, 1, 0,\n",
       "       0, 0, 0, 0, 0, 0, 0, 0, 0, 0, 0, 0, 0, 0, 0, 0, 1, 0, 0, 0, 0, 0, 0,\n",
       "       0, 0, 1, 0, 0, 1, 0, 0, 0, 0, 0, 0, 0, 0, 0, 0, 0, 0, 0, 0, 0, 0, 0,\n",
       "       1, 0, 0, 0, 0, 0, 0, 0, 0, 0, 0, 1, 0, 0, 0, 0, 0, 0, 0, 0, 0, 1, 0,\n",
       "       0, 0, 0, 0, 0, 0, 0, 0, 0, 1, 0, 0, 0, 0, 0, 0, 1, 0, 0, 1, 0, 0, 0,\n",
       "       0, 1, 1, 1, 0, 0, 0, 0, 0, 1, 0, 0, 0, 0, 0, 0, 0, 0, 1, 0, 0, 1, 0,\n",
       "       0, 0, 0, 0, 0, 1, 0, 0, 1, 0, 0, 0, 0, 0, 0, 0, 0, 0, 0, 0, 0, 0, 0,\n",
       "       0, 0, 0, 0, 0, 0, 0, 0, 0, 0, 0, 0, 0, 0, 0, 0, 0, 1, 1, 1, 1, 1, 1,\n",
       "       1, 1, 1, 1, 1, 1, 1, 1, 1, 1, 1, 1, 1, 1, 1, 1, 1, 1, 1, 1, 1, 1, 1,\n",
       "       1, 1, 1, 1, 1, 1, 1, 1, 1, 1, 1, 1, 1, 1, 1, 1, 1, 1, 1, 1, 1, 1, 1,\n",
       "       1, 1, 1, 1, 1, 1, 1, 1, 1, 1, 1, 1, 1, 0, 1, 1, 1, 1, 1, 1, 1, 1, 1,\n",
       "       1, 1, 0, 1, 1, 1, 1, 1, 1, 1, 1, 1, 1, 1, 1, 1, 1, 1, 1, 1, 1, 0, 1,\n",
       "       1, 1, 1, 1, 1, 1, 1, 1, 1, 1, 1, 1, 1, 1, 1, 1, 1, 1, 1, 1, 1, 1, 1,\n",
       "       1, 1, 1, 1, 1, 1, 1, 0, 1, 1, 1, 1, 1, 1, 1, 1, 1, 1, 1, 1, 1, 1, 1,\n",
       "       1, 1, 1, 1, 1, 1, 1, 1, 1, 1, 1, 1, 1, 1, 1, 1, 1, 1, 1, 1, 1, 1, 1,\n",
       "       1, 1, 1, 1, 1, 1, 1, 1, 1, 1, 1, 1, 1, 1, 1, 1, 1, 1, 1, 1, 1, 1, 1,\n",
       "       1, 1, 1, 1, 1, 1, 1, 1, 1, 1, 1, 1, 1, 1, 1, 1, 1, 1, 1, 1, 1, 1, 1,\n",
       "       1, 1, 1, 1, 1, 1, 1, 1, 1, 0, 1, 1, 1, 1, 1, 1, 1, 1, 1, 1, 1, 1, 1,\n",
       "       1, 1, 1, 1, 1, 1, 1, 0, 1, 1, 1, 1, 1, 1, 1, 1, 1, 1, 1, 1, 1, 1, 1,\n",
       "       1, 1, 1, 0, 1, 1, 1, 1, 1, 1, 1, 0, 1, 1, 1, 0, 1, 1, 1, 1, 1, 1, 1,\n",
       "       1, 1, 1, 1, 1, 1, 1, 1, 1, 0, 1, 1, 1, 1, 1, 1, 1, 1, 1, 1, 1, 1, 1,\n",
       "       1, 1, 1, 1, 1, 1, 1, 1, 1, 1, 1, 1, 1, 1, 1, 0, 1, 1, 1, 1, 1, 1, 0,\n",
       "       1, 1, 0, 1, 1, 1, 1, 1, 1, 1, 1, 1, 1, 1, 1, 1, 1, 1, 1, 1, 1, 1, 1,\n",
       "       1, 1, 1, 1, 1, 1, 1, 1, 1, 1, 1], dtype=int64)"
      ]
     },
     "execution_count": 159,
     "metadata": {},
     "output_type": "execute_result"
    }
   ],
   "source": [
    "predicted_result_cnn1"
   ]
  },
  {
   "cell_type": "code",
   "execution_count": 160,
   "metadata": {
    "collapsed": true
   },
   "outputs": [],
   "source": [
    "predicted_result_list = list()\n",
    "for predicted_result_index in range(len(predicted_result_cnn1)):\n",
    "        predicted_result = list()\n",
    "        predicted_result.append(predicted_result_cnn1[predicted_result_index])\n",
    "        predicted_result.append(predicted_result_cnn2[predicted_result_index])\n",
    "        predicted_result.append(predicted_result_cnn3[predicted_result_index])\n",
    "        predicted_result_list.append(predicted_result)"
   ]
  },
  {
   "cell_type": "code",
   "execution_count": 161,
   "metadata": {
    "collapsed": false
   },
   "outputs": [
    {
     "data": {
      "text/plain": [
       "655"
      ]
     },
     "execution_count": 161,
     "metadata": {},
     "output_type": "execute_result"
    }
   ],
   "source": [
    "len(predicted_result_list)"
   ]
  },
  {
   "cell_type": "code",
   "execution_count": 162,
   "metadata": {
    "collapsed": true
   },
   "outputs": [],
   "source": [
    "predicted_majorityvote_result = list()\n",
    "for result in predicted_result_list:\n",
    "    index = predicted_result_list.index(result)\n",
    "    result_majorityvote = majority_vote(result)\n",
    "    predicted_majorityvote_result.append(result_majorityvote[0])"
   ]
  },
  {
   "cell_type": "code",
   "execution_count": 163,
   "metadata": {
    "collapsed": false
   },
   "outputs": [
    {
     "name": "stdout",
     "output_type": "stream",
     "text": [
      "Accuracy of Majority Vote test-set : 91.603\n"
     ]
    }
   ],
   "source": [
    "predicted_majorityvote_correct = (predicted_majorityvote_result == np.argmax(datatest.labels,axis=1))\n",
    "predicted_majorityvote_correct_sum = predicted_majorityvote_correct.sum()\n",
    "predicted_majorityvote_acc = float(predicted_majorityvote_correct_sum) /len(datatest.images)\n",
    "\n",
    "print('Accuracy of Majority Vote test-set : {0:.3f}'.format(predicted_majorityvote_acc*100))"
   ]
  },
  {
   "cell_type": "code",
   "execution_count": null,
   "metadata": {
    "collapsed": true
   },
   "outputs": [],
   "source": []
  },
  {
   "cell_type": "markdown",
   "metadata": {},
   "source": [
    "### Write Test Predictions to CSV"
   ]
  },
  {
   "cell_type": "code",
   "execution_count": 144,
   "metadata": {
    "collapsed": true
   },
   "outputs": [],
   "source": [
    "def plot_test_image(image , result):\n",
    "    \n",
    "    result_list = result.values.T.tolist()\n",
    "   \n",
    "    # Number of filters used in the conv. layer.\n",
    "    num_filters = result.shape[0]\n",
    "\n",
    "    # Number of grids to plot.\n",
    "    num_grids = math.ceil(math.sqrt(num_filters))\n",
    "    \n",
    "    # Create figure with a grid of sub-plots.\n",
    "    fig, axes = plt.subplots(num_grids, num_grids,figsize=(15,15))\n",
    "    fig.subplots_adjust(hspace=0.8, wspace=0.2)\n",
    "\n",
    "    # Plot the output images of all the filters.\n",
    "    for i, ax in enumerate(axes.flat):\n",
    "        if i<num_filters:\n",
    "            # Get the output image of using the i'th filter.\n",
    "            img = image[i]\n",
    "\n",
    "            # Plot image.\n",
    "            ax.imshow(cv2.cvtColor(img.reshape(img_shape_wChnls), cv2.COLOR_BGR2RGB), interpolation = 'bicubic' )\n",
    "        \n",
    "        # Remove ticks from the plot.\n",
    "        ax.set_xticks([])\n",
    "        ax.set_yticks([])\n",
    "        \n",
    "        xlabel = '{0} \\nTrue : {1} \\nPred : Veg :{2}\\n       notV : {3}'.format(result_list[0][i] , result_list[1][i] ,\\\n",
    "                                                                               result_list[2][i] , \\\n",
    "                                                                               result_list[3][i])\n",
    "        ax.set_xlabel(xlabel)\n",
    "        \n",
    "        if i == num_filters-1 :\n",
    "            break\n",
    "            \n",
    "            \n",
    "    plt.xticks([])\n",
    "    plt.yticks([])\n",
    "    # Ensure the plot is shown correctly with multiple plots\n",
    "    # in a single Notebook cell.\n",
    "    plt.show()"
   ]
  },
  {
   "cell_type": "code",
   "execution_count": 145,
   "metadata": {
    "collapsed": true,
    "scrolled": false
   },
   "outputs": [],
   "source": [
    "def predictions(ims, cls , ids , write_file=True , plot_testing=False):\n",
    "\n",
    "    images_test = ims.reshape(ims.shape[0], img_size_flat)\n",
    "    num_test = len(images_test)\n",
    "    \n",
    "    i = 0\n",
    "    ims_test_pred = list()\n",
    "    images_test_pred = list()\n",
    "    \n",
    "    saver.restore(sess=session, save_path=get_save_path(best_net+1))\n",
    "\n",
    "    while i < num_test:\n",
    "        # The ending index for the next batch is denoted j.\n",
    "        j = min(i + validate_batch_size, num_test)\n",
    "\n",
    "        # Get the images from the test-set between index i and j.\n",
    "        images = images_test[i:j, :]\n",
    "        \n",
    "        # Calculate the predicted class using TensorFlow.\n",
    "        \n",
    "        ims_test_pred = session.run(y_pred, feed_dict={x: images})\n",
    "        images_test_pred.extend(ims_test_pred)\n",
    "        \n",
    "        # Set the start-index for the next batch to the\n",
    "        # end-index of the current batch.\n",
    "        i = j\n",
    "\n",
    "        result = pd.DataFrame(images_test_pred, columns=classes)\n",
    "    \n",
    "    \n",
    "    result['vegetation'] = pd.Series([\"{0:.2f}%\".format(val * 100) for val in result['vegetation']], index = result.index)\n",
    "    result['notVegetation'] = pd.Series([\"{0:.2f}%\".format(val * 100) for val in result['notVegetation']], index = result.index)\n",
    "    result.insert(loc=0, column='ids', value=ids)\n",
    "    result.insert(loc=1, column='labels', value=cls)\n",
    "    \n",
    "    result['predicted'] = np.where(result['vegetation'] >= result['notVegetation'], 'vegetation', 'notVegetation')\n",
    "    \n",
    "    if plot_testing:\n",
    "        plot_test_image(ims, result)\n",
    "    \n",
    "    pred_file = 'predictions_{}.csv'.format(time.strftime('%Y%m%d_%H%M%S', time.localtime(time.time())))\n",
    "    \n",
    "    if write_file:\n",
    "        result.to_csv(pred_file, index=False) \n",
    "    \n",
    "    result_list = result.values.T.tolist()\n",
    "    result_labels = result_list[1]\n",
    "    result_predicted = result_list[4]\n",
    "    \n",
    "    cm = confusion_matrix(y_true=result_labels,\n",
    "                          y_pred=result_predicted)\n",
    "    \n",
    "    correct_prediction = tf.equal(result_predicted, result_labels)\n",
    "    accuracy = tf.reduce_mean(tf.cast(correct_prediction, tf.float32))\n",
    "    \n",
    "    accuracy_testimages = session.run(accuracy)\n",
    "\n",
    "    print('===== Result of prediction Images ======')   \n",
    "    print(result)\n",
    "\n",
    "    print('===== Confusion Matrix ======')\n",
    "    print(cm)\n",
    "    \n",
    "    print('Accuracy of Test Images : {0:.2f}%'.format(accuracy_testimages*100))"
   ]
  },
  {
   "cell_type": "code",
   "execution_count": 146,
   "metadata": {
    "collapsed": false,
    "scrolled": false
   },
   "outputs": [
    {
     "name": "stdout",
     "output_type": "stream",
     "text": [
      "INFO:tensorflow:Restoring parameters from D:\\FaamruProject_kor\\Model\\checkpoints\\_3274\\20180515\\network1\\best_validate_3274_Ensemble_Network1\n",
      "===== Result of prediction Images ======\n",
      "           ids         labels vegetation notVegetation      predicted\n",
      "0    10006.png     vegetation     96.45%         3.55%     vegetation\n",
      "1    10007.png     vegetation     97.69%         2.31%     vegetation\n",
      "2    10022.png     vegetation     96.08%         3.92%     vegetation\n",
      "3    10160.png     vegetation     99.13%         0.87%     vegetation\n",
      "4    10162.png     vegetation     98.49%         1.51%     vegetation\n",
      "5    10217.png     vegetation     98.27%         1.73%     vegetation\n",
      "6    10229.png     vegetation     86.28%        13.72%     vegetation\n",
      "7    10268.png     vegetation     52.74%        47.26%     vegetation\n",
      "8    10272.png     vegetation     79.97%        20.03%     vegetation\n",
      "9    10280.png     vegetation     94.64%         5.36%     vegetation\n",
      "10   10291.png     vegetation     67.96%        32.04%     vegetation\n",
      "11   10310.png     vegetation     75.01%        24.99%     vegetation\n",
      "12   10318.png     vegetation     95.67%         4.33%     vegetation\n",
      "13   10358.png     vegetation     99.75%         0.25%     vegetation\n",
      "14   10659.png     vegetation     97.59%         2.41%     vegetation\n",
      "15   10667.png     vegetation     99.86%         0.14%     vegetation\n",
      "16   10706.png     vegetation     95.47%         4.53%     vegetation\n",
      "17   10806.png     vegetation     62.18%        37.82%     vegetation\n",
      "18   10836.png     vegetation     85.44%        14.56%     vegetation\n",
      "19   10946.png     vegetation     67.93%        32.07%     vegetation\n",
      "20    1121.png     vegetation     80.04%        19.96%     vegetation\n",
      "21   11330.png     vegetation     97.85%         2.15%     vegetation\n",
      "22   11465.png     vegetation     98.99%         1.01%     vegetation\n",
      "23   11517.png     vegetation     53.11%        46.89%     vegetation\n",
      "24   11544.png     vegetation     97.31%         2.69%     vegetation\n",
      "25   11555.png     vegetation     39.90%        60.10%  notVegetation\n",
      "26   11612.png     vegetation     91.13%         8.87%     vegetation\n",
      "27   11683.png     vegetation     96.35%         3.65%     vegetation\n",
      "28   11712.png     vegetation     98.72%         1.28%     vegetation\n",
      "29   11732.png     vegetation     96.28%         3.72%     vegetation\n",
      "..         ...            ...        ...           ...            ...\n",
      "625   8712.png  notVegetation     24.30%        75.70%  notVegetation\n",
      "626   8736.png  notVegetation      7.08%        92.92%  notVegetation\n",
      "627   8783.png  notVegetation      3.67%        96.33%  notVegetation\n",
      "628   8802.png  notVegetation     17.98%        82.02%  notVegetation\n",
      "629   8812.png  notVegetation      0.83%        99.17%  notVegetation\n",
      "630   8821.png  notVegetation      2.08%        97.92%  notVegetation\n",
      "631   8838.png  notVegetation      1.78%        98.22%  notVegetation\n",
      "632   8853.png  notVegetation     20.20%        79.80%  notVegetation\n",
      "633   8856.png  notVegetation      2.75%        97.25%  notVegetation\n",
      "634   8860.png  notVegetation     18.89%        81.11%  notVegetation\n",
      "635   8872.png  notVegetation      2.90%        97.10%  notVegetation\n",
      "636   8914.png  notVegetation     18.20%        81.80%  notVegetation\n",
      "637   8931.png  notVegetation      0.50%        99.50%  notVegetation\n",
      "638   8932.png  notVegetation     72.44%        27.56%     vegetation\n",
      "639   9029.png  notVegetation     10.20%        89.80%  notVegetation\n",
      "640   9033.png  notVegetation      2.42%        97.58%  notVegetation\n",
      "641   9058.png  notVegetation     10.11%        89.89%  notVegetation\n",
      "642   9072.png  notVegetation     19.00%        81.00%  notVegetation\n",
      "643   9116.png  notVegetation      9.15%        90.85%  notVegetation\n",
      "644   9181.png  notVegetation      6.04%        93.96%  notVegetation\n",
      "645   9218.png  notVegetation      1.38%        98.62%  notVegetation\n",
      "646   9255.png  notVegetation      2.17%        97.83%  notVegetation\n",
      "647   9294.png  notVegetation     11.70%        88.30%  notVegetation\n",
      "648   9306.png  notVegetation      0.83%        99.17%  notVegetation\n",
      "649   9422.png  notVegetation     46.17%        53.83%  notVegetation\n",
      "650     97.png  notVegetation      0.91%        99.09%  notVegetation\n",
      "651   9713.png  notVegetation     16.96%        83.04%  notVegetation\n",
      "652   9792.png  notVegetation      6.70%        93.30%  notVegetation\n",
      "653   9971.png  notVegetation      4.86%        95.14%  notVegetation\n",
      "654   9983.png  notVegetation     12.41%        87.59%  notVegetation\n",
      "\n",
      "[655 rows x 5 columns]\n",
      "===== Confusion Matrix ======\n",
      "[[346  16]\n",
      " [ 38 255]]\n",
      "Accuracy of Test Images : 91.76%\n"
     ]
    }
   ],
   "source": [
    "predictions(datatest.images, datatest.cls, datatest.ids , write_file=True , plot_testing=False)"
   ]
  }
 ],
 "metadata": {
  "kernelspec": {
   "display_name": "Python 3",
   "language": "python",
   "name": "python3"
  },
  "language_info": {
   "codemirror_mode": {
    "name": "ipython",
    "version": 3
   },
   "file_extension": ".py",
   "mimetype": "text/x-python",
   "name": "python",
   "nbconvert_exporter": "python",
   "pygments_lexer": "ipython3",
   "version": "3.6.0"
  }
 },
 "nbformat": 4,
 "nbformat_minor": 2
}
